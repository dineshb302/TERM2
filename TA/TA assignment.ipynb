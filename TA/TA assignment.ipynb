{
 "cells": [
  {
   "cell_type": "code",
   "execution_count": 1,
   "id": "2d10e3b1",
   "metadata": {},
   "outputs": [],
   "source": [
    "import pandas as pd\n",
    "import numpy as np\n",
    "from sklearn.feature_extraction.text import TfidfVectorizer\n",
    "import string"
   ]
  },
  {
   "cell_type": "code",
   "execution_count": 2,
   "id": "16c5ef32",
   "metadata": {},
   "outputs": [],
   "source": [
    "reviews_amazon = pd.read_json(\"C:/Users/Sithalrao/Downloads/AMAZON_FASHION.json\", lines= True)\n",
    "#reviews_electronics = pd.read_json(\"C:/Users/Sithalrao/Downloads/Electronics.json\", lines= True)\n",
    "#load electronics later\n"
   ]
  },
  {
   "cell_type": "code",
   "execution_count": 3,
   "id": "6fa835bc",
   "metadata": {},
   "outputs": [
    {
     "data": {
      "text/html": [
       "<div>\n",
       "<style scoped>\n",
       "    .dataframe tbody tr th:only-of-type {\n",
       "        vertical-align: middle;\n",
       "    }\n",
       "\n",
       "    .dataframe tbody tr th {\n",
       "        vertical-align: top;\n",
       "    }\n",
       "\n",
       "    .dataframe thead th {\n",
       "        text-align: right;\n",
       "    }\n",
       "</style>\n",
       "<table border=\"1\" class=\"dataframe\">\n",
       "  <thead>\n",
       "    <tr style=\"text-align: right;\">\n",
       "      <th></th>\n",
       "      <th>overall</th>\n",
       "      <th>verified</th>\n",
       "      <th>reviewTime</th>\n",
       "      <th>reviewerID</th>\n",
       "      <th>asin</th>\n",
       "      <th>reviewerName</th>\n",
       "      <th>reviewText</th>\n",
       "      <th>summary</th>\n",
       "      <th>unixReviewTime</th>\n",
       "      <th>vote</th>\n",
       "      <th>style</th>\n",
       "      <th>image</th>\n",
       "    </tr>\n",
       "  </thead>\n",
       "  <tbody>\n",
       "    <tr>\n",
       "      <th>0</th>\n",
       "      <td>5</td>\n",
       "      <td>True</td>\n",
       "      <td>10 20, 2014</td>\n",
       "      <td>A1D4G1SNUZWQOT</td>\n",
       "      <td>7106116521</td>\n",
       "      <td>Tracy</td>\n",
       "      <td>Exactly what I needed.</td>\n",
       "      <td>perfect replacements!!</td>\n",
       "      <td>1413763200</td>\n",
       "      <td>NaN</td>\n",
       "      <td>NaN</td>\n",
       "      <td>NaN</td>\n",
       "    </tr>\n",
       "    <tr>\n",
       "      <th>1</th>\n",
       "      <td>2</td>\n",
       "      <td>True</td>\n",
       "      <td>09 28, 2014</td>\n",
       "      <td>A3DDWDH9PX2YX2</td>\n",
       "      <td>7106116521</td>\n",
       "      <td>Sonja Lau</td>\n",
       "      <td>I agree with the other review, the opening is ...</td>\n",
       "      <td>I agree with the other review, the opening is ...</td>\n",
       "      <td>1411862400</td>\n",
       "      <td>3.0</td>\n",
       "      <td>NaN</td>\n",
       "      <td>NaN</td>\n",
       "    </tr>\n",
       "    <tr>\n",
       "      <th>2</th>\n",
       "      <td>4</td>\n",
       "      <td>False</td>\n",
       "      <td>08 25, 2014</td>\n",
       "      <td>A2MWC41EW7XL15</td>\n",
       "      <td>7106116521</td>\n",
       "      <td>Kathleen</td>\n",
       "      <td>Love these... I am going to order another pack...</td>\n",
       "      <td>My New 'Friends' !!</td>\n",
       "      <td>1408924800</td>\n",
       "      <td>NaN</td>\n",
       "      <td>NaN</td>\n",
       "      <td>NaN</td>\n",
       "    </tr>\n",
       "    <tr>\n",
       "      <th>3</th>\n",
       "      <td>2</td>\n",
       "      <td>True</td>\n",
       "      <td>08 24, 2014</td>\n",
       "      <td>A2UH2QQ275NV45</td>\n",
       "      <td>7106116521</td>\n",
       "      <td>Jodi Stoner</td>\n",
       "      <td>too tiny an opening</td>\n",
       "      <td>Two Stars</td>\n",
       "      <td>1408838400</td>\n",
       "      <td>NaN</td>\n",
       "      <td>NaN</td>\n",
       "      <td>NaN</td>\n",
       "    </tr>\n",
       "    <tr>\n",
       "      <th>4</th>\n",
       "      <td>3</td>\n",
       "      <td>False</td>\n",
       "      <td>07 27, 2014</td>\n",
       "      <td>A89F3LQADZBS5</td>\n",
       "      <td>7106116521</td>\n",
       "      <td>Alexander D.</td>\n",
       "      <td>Okay</td>\n",
       "      <td>Three Stars</td>\n",
       "      <td>1406419200</td>\n",
       "      <td>NaN</td>\n",
       "      <td>NaN</td>\n",
       "      <td>NaN</td>\n",
       "    </tr>\n",
       "    <tr>\n",
       "      <th>5</th>\n",
       "      <td>5</td>\n",
       "      <td>True</td>\n",
       "      <td>07 19, 2014</td>\n",
       "      <td>A29HLOUW0NS0EH</td>\n",
       "      <td>7106116521</td>\n",
       "      <td>Patricia R. Erwin</td>\n",
       "      <td>Exactly what I wanted.</td>\n",
       "      <td>Five Stars</td>\n",
       "      <td>1405728000</td>\n",
       "      <td>NaN</td>\n",
       "      <td>NaN</td>\n",
       "      <td>NaN</td>\n",
       "    </tr>\n",
       "    <tr>\n",
       "      <th>6</th>\n",
       "      <td>4</td>\n",
       "      <td>True</td>\n",
       "      <td>05 31, 2014</td>\n",
       "      <td>A7QS961ROI6E0</td>\n",
       "      <td>7106116521</td>\n",
       "      <td>REBECCA S LAYTON</td>\n",
       "      <td>These little plastic backs work great.  No mor...</td>\n",
       "      <td>Works great!</td>\n",
       "      <td>1401494400</td>\n",
       "      <td>NaN</td>\n",
       "      <td>NaN</td>\n",
       "      <td>NaN</td>\n",
       "    </tr>\n",
       "    <tr>\n",
       "      <th>7</th>\n",
       "      <td>3</td>\n",
       "      <td>True</td>\n",
       "      <td>09 22, 2013</td>\n",
       "      <td>A1BB77SEBQT8VX</td>\n",
       "      <td>B00007GDFV</td>\n",
       "      <td>Darrow H Ankrum II</td>\n",
       "      <td>mother - in - law wanted it as a present for h...</td>\n",
       "      <td>bought as a present</td>\n",
       "      <td>1379808000</td>\n",
       "      <td>NaN</td>\n",
       "      <td>{'Color:': ' Black'}</td>\n",
       "      <td>NaN</td>\n",
       "    </tr>\n",
       "    <tr>\n",
       "      <th>8</th>\n",
       "      <td>3</td>\n",
       "      <td>True</td>\n",
       "      <td>07 17, 2013</td>\n",
       "      <td>AHWOW7D1ABO9C</td>\n",
       "      <td>B00007GDFV</td>\n",
       "      <td>rosieO</td>\n",
       "      <td>Item is of good quality. Looks great, too. But...</td>\n",
       "      <td>Buxton heiress collection</td>\n",
       "      <td>1374019200</td>\n",
       "      <td>NaN</td>\n",
       "      <td>{'Color:': ' Black'}</td>\n",
       "      <td>NaN</td>\n",
       "    </tr>\n",
       "    <tr>\n",
       "      <th>9</th>\n",
       "      <td>3</td>\n",
       "      <td>True</td>\n",
       "      <td>04 13, 2013</td>\n",
       "      <td>AKS3GULZE0HFC</td>\n",
       "      <td>B00007GDFV</td>\n",
       "      <td>M. Waltman</td>\n",
       "      <td>I had used my last el-cheapo fake leather ciga...</td>\n",
       "      <td>Top Clasp Broke Within 3 days!</td>\n",
       "      <td>1365811200</td>\n",
       "      <td>NaN</td>\n",
       "      <td>{'Color:': ' Black'}</td>\n",
       "      <td>NaN</td>\n",
       "    </tr>\n",
       "  </tbody>\n",
       "</table>\n",
       "</div>"
      ],
      "text/plain": [
       "   overall  verified   reviewTime      reviewerID        asin  \\\n",
       "0        5      True  10 20, 2014  A1D4G1SNUZWQOT  7106116521   \n",
       "1        2      True  09 28, 2014  A3DDWDH9PX2YX2  7106116521   \n",
       "2        4     False  08 25, 2014  A2MWC41EW7XL15  7106116521   \n",
       "3        2      True  08 24, 2014  A2UH2QQ275NV45  7106116521   \n",
       "4        3     False  07 27, 2014   A89F3LQADZBS5  7106116521   \n",
       "5        5      True  07 19, 2014  A29HLOUW0NS0EH  7106116521   \n",
       "6        4      True  05 31, 2014   A7QS961ROI6E0  7106116521   \n",
       "7        3      True  09 22, 2013  A1BB77SEBQT8VX  B00007GDFV   \n",
       "8        3      True  07 17, 2013   AHWOW7D1ABO9C  B00007GDFV   \n",
       "9        3      True  04 13, 2013   AKS3GULZE0HFC  B00007GDFV   \n",
       "\n",
       "         reviewerName                                         reviewText  \\\n",
       "0               Tracy                             Exactly what I needed.   \n",
       "1           Sonja Lau  I agree with the other review, the opening is ...   \n",
       "2            Kathleen  Love these... I am going to order another pack...   \n",
       "3         Jodi Stoner                                too tiny an opening   \n",
       "4        Alexander D.                                               Okay   \n",
       "5   Patricia R. Erwin                             Exactly what I wanted.   \n",
       "6    REBECCA S LAYTON  These little plastic backs work great.  No mor...   \n",
       "7  Darrow H Ankrum II  mother - in - law wanted it as a present for h...   \n",
       "8              rosieO  Item is of good quality. Looks great, too. But...   \n",
       "9          M. Waltman  I had used my last el-cheapo fake leather ciga...   \n",
       "\n",
       "                                             summary  unixReviewTime  vote  \\\n",
       "0                             perfect replacements!!      1413763200   NaN   \n",
       "1  I agree with the other review, the opening is ...      1411862400   3.0   \n",
       "2                                My New 'Friends' !!      1408924800   NaN   \n",
       "3                                          Two Stars      1408838400   NaN   \n",
       "4                                        Three Stars      1406419200   NaN   \n",
       "5                                         Five Stars      1405728000   NaN   \n",
       "6                                       Works great!      1401494400   NaN   \n",
       "7                                bought as a present      1379808000   NaN   \n",
       "8                          Buxton heiress collection      1374019200   NaN   \n",
       "9                     Top Clasp Broke Within 3 days!      1365811200   NaN   \n",
       "\n",
       "                  style image  \n",
       "0                   NaN   NaN  \n",
       "1                   NaN   NaN  \n",
       "2                   NaN   NaN  \n",
       "3                   NaN   NaN  \n",
       "4                   NaN   NaN  \n",
       "5                   NaN   NaN  \n",
       "6                   NaN   NaN  \n",
       "7  {'Color:': ' Black'}   NaN  \n",
       "8  {'Color:': ' Black'}   NaN  \n",
       "9  {'Color:': ' Black'}   NaN  "
      ]
     },
     "execution_count": 3,
     "metadata": {},
     "output_type": "execute_result"
    }
   ],
   "source": [
    "reviews_amazon.head(10)"
   ]
  },
  {
   "cell_type": "code",
   "execution_count": 4,
   "id": "36d8b930",
   "metadata": {},
   "outputs": [
    {
     "data": {
      "text/plain": [
       "reviewText    882403\n",
       "overall       883636\n",
       "dtype: int64"
      ]
     },
     "execution_count": 4,
     "metadata": {},
     "output_type": "execute_result"
    }
   ],
   "source": [
    "#dataframe with only reviews and overall columns\n",
    "df=reviews_amazon['reviewText']\n",
    "df=reviews_amazon[['reviewText','overall']]\n",
    "df.count()"
   ]
  },
  {
   "cell_type": "code",
   "execution_count": 5,
   "id": "b465c529",
   "metadata": {},
   "outputs": [
    {
     "data": {
      "text/html": [
       "<div>\n",
       "<style scoped>\n",
       "    .dataframe tbody tr th:only-of-type {\n",
       "        vertical-align: middle;\n",
       "    }\n",
       "\n",
       "    .dataframe tbody tr th {\n",
       "        vertical-align: top;\n",
       "    }\n",
       "\n",
       "    .dataframe thead th {\n",
       "        text-align: right;\n",
       "    }\n",
       "</style>\n",
       "<table border=\"1\" class=\"dataframe\">\n",
       "  <thead>\n",
       "    <tr style=\"text-align: right;\">\n",
       "      <th></th>\n",
       "      <th>reviewText</th>\n",
       "      <th>overall</th>\n",
       "    </tr>\n",
       "  </thead>\n",
       "  <tbody>\n",
       "    <tr>\n",
       "      <th>0</th>\n",
       "      <td>Exactly what I needed.</td>\n",
       "      <td>5</td>\n",
       "    </tr>\n",
       "    <tr>\n",
       "      <th>1</th>\n",
       "      <td>I agree with the other review, the opening is ...</td>\n",
       "      <td>2</td>\n",
       "    </tr>\n",
       "    <tr>\n",
       "      <th>2</th>\n",
       "      <td>Love these... I am going to order another pack...</td>\n",
       "      <td>4</td>\n",
       "    </tr>\n",
       "    <tr>\n",
       "      <th>3</th>\n",
       "      <td>too tiny an opening</td>\n",
       "      <td>2</td>\n",
       "    </tr>\n",
       "    <tr>\n",
       "      <th>4</th>\n",
       "      <td>Okay</td>\n",
       "      <td>3</td>\n",
       "    </tr>\n",
       "    <tr>\n",
       "      <th>...</th>\n",
       "      <td>...</td>\n",
       "      <td>...</td>\n",
       "    </tr>\n",
       "    <tr>\n",
       "      <th>883631</th>\n",
       "      <td>I absolutely love this dress!!  It's sexy and ...</td>\n",
       "      <td>5</td>\n",
       "    </tr>\n",
       "    <tr>\n",
       "      <th>883632</th>\n",
       "      <td>I'm 5'6 175lbs. I'm on the tall side. I wear a...</td>\n",
       "      <td>5</td>\n",
       "    </tr>\n",
       "    <tr>\n",
       "      <th>883633</th>\n",
       "      <td>Too big in the chest area!</td>\n",
       "      <td>3</td>\n",
       "    </tr>\n",
       "    <tr>\n",
       "      <th>883634</th>\n",
       "      <td>Too clear in the back, needs lining</td>\n",
       "      <td>3</td>\n",
       "    </tr>\n",
       "    <tr>\n",
       "      <th>883635</th>\n",
       "      <td>Ordered and was slightly small. Worked with th...</td>\n",
       "      <td>5</td>\n",
       "    </tr>\n",
       "  </tbody>\n",
       "</table>\n",
       "<p>2000 rows × 2 columns</p>\n",
       "</div>"
      ],
      "text/plain": [
       "                                               reviewText  overall\n",
       "0                                  Exactly what I needed.        5\n",
       "1       I agree with the other review, the opening is ...        2\n",
       "2       Love these... I am going to order another pack...        4\n",
       "3                                     too tiny an opening        2\n",
       "4                                                    Okay        3\n",
       "...                                                   ...      ...\n",
       "883631  I absolutely love this dress!!  It's sexy and ...        5\n",
       "883632  I'm 5'6 175lbs. I'm on the tall side. I wear a...        5\n",
       "883633                         Too big in the chest area!        3\n",
       "883634                Too clear in the back, needs lining        3\n",
       "883635  Ordered and was slightly small. Worked with th...        5\n",
       "\n",
       "[2000 rows x 2 columns]"
      ]
     },
     "execution_count": 5,
     "metadata": {},
     "output_type": "execute_result"
    }
   ],
   "source": [
    "# Q1 \n",
    "df=pd.concat([df.head(1000),df.tail(1000)])\n",
    "df"
   ]
  },
  {
   "cell_type": "code",
   "execution_count": 6,
   "id": "7e7873e7",
   "metadata": {},
   "outputs": [],
   "source": [
    "#Q1 lowercasing and removing punctuation\n",
    "df['reviewText_lower']=df['reviewText'].str.lower()\n",
    "df['reviewText_lower']\n",
    "#remove punctuation\n",
    "df['reviewText_pun']=df['reviewText_lower'].str.translate(str.maketrans('', '', string.punctuation))\n",
    "df['reviewText_pun'].fillna('', inplace=True)\n"
   ]
  },
  {
   "cell_type": "code",
   "execution_count": 7,
   "id": "1fea6742",
   "metadata": {},
   "outputs": [
    {
     "data": {
      "text/plain": [
       "0                                     exactly what i needed\n",
       "1         i agree with the other review the opening is t...\n",
       "2         love these i am going to order another pack to...\n",
       "3                                       too tiny an opening\n",
       "4                                                      okay\n",
       "                                ...                        \n",
       "883631    i absolutely love this dress  its sexy and com...\n",
       "883632    im 56 175lbs im on the tall side i wear a larg...\n",
       "883633                            too big in the chest area\n",
       "883634                   too clear in the back needs lining\n",
       "883635    ordered and was slightly small worked with the...\n",
       "Name: reviewText_pun, Length: 2000, dtype: object"
      ]
     },
     "execution_count": 7,
     "metadata": {},
     "output_type": "execute_result"
    }
   ],
   "source": [
    "df['reviewText_pun']"
   ]
  },
  {
   "cell_type": "markdown",
   "id": "c1b74fbd",
   "metadata": {},
   "source": [
    "Compute IDF of all words in these reviews. Report the top 30 words and bottom 30 words, based on IDF, with their IDF scores\n"
   ]
  },
  {
   "cell_type": "code",
   "execution_count": 8,
   "id": "0b9af69d",
   "metadata": {},
   "outputs": [
    {
     "data": {
      "text/plain": [
       "array([7.50279005, 7.90825515, 7.90825515, ..., 7.90825515, 7.90825515,\n",
       "       7.90825515])"
      ]
     },
     "execution_count": 8,
     "metadata": {},
     "output_type": "execute_result"
    }
   ],
   "source": [
    "vectorizer = TfidfVectorizer()\n",
    "X = vectorizer.fit_transform(df['reviewText_pun'])\n",
    "idf = vectorizer.idf_\n",
    "idf"
   ]
  },
  {
   "cell_type": "code",
   "execution_count": 9,
   "id": "19111b8d",
   "metadata": {},
   "outputs": [
    {
     "data": {
      "text/plain": [
       "[('zoomed', 7.908255154023788),\n",
       " ('zone', 7.908255154023788),\n",
       " ('zirconia', 7.908255154023788),\n",
       " ('zippered', 7.908255154023788),\n",
       " ('zigzag', 7.908255154023788),\n",
       " ('zhiliang', 7.908255154023788),\n",
       " ('yousighs', 7.908255154023788),\n",
       " ('younger', 7.908255154023788),\n",
       " ('young', 7.908255154023788),\n",
       " ('yo', 7.908255154023788),\n",
       " ('yetnbspa', 7.908255154023788),\n",
       " ('yesterdaythen', 7.908255154023788),\n",
       " ('yellowstone', 7.908255154023788),\n",
       " ('yarn', 7.908255154023788),\n",
       " ('yard', 7.908255154023788),\n",
       " ('xxlusxl', 7.908255154023788),\n",
       " ('xsmed', 7.908255154023788),\n",
       " ('xls', 7.908255154023788),\n",
       " ('xlge', 7.908255154023788),\n",
       " ('xlargea', 7.908255154023788),\n",
       " ('xlarge', 7.908255154023788),\n",
       " ('wuenn', 7.908255154023788),\n",
       " ('writing', 7.908255154023788),\n",
       " ('wrists', 7.908255154023788),\n",
       " ('wrinkleguard', 7.908255154023788),\n",
       " ('woven', 7.908255154023788),\n",
       " ('wound', 7.908255154023788),\n",
       " ('wouldve', 7.908255154023788),\n",
       " ('woukd', 7.908255154023788),\n",
       " ('worthy', 7.908255154023788)]"
      ]
     },
     "execution_count": 9,
     "metadata": {},
     "output_type": "execute_result"
    }
   ],
   "source": [
    "terms_idf = dict(zip(vectorizer.get_feature_names_out(), idf))\n",
    "sorted_words_by_idf = sorted(terms_idf.items(), key=lambda x: x[1])\n",
    "top_30_words = sorted_words_by_idf[-30:][::-1]  # Top 30 words\n",
    "bottom_30_words = sorted_words_by_idf[:30]\n",
    "top_30_words\n"
   ]
  },
  {
   "cell_type": "code",
   "execution_count": 10,
   "id": "7fd190a9",
   "metadata": {},
   "outputs": [
    {
     "data": {
      "text/plain": [
       "[('and', 1.7967878145211098),\n",
       " ('the', 1.804578616308878),\n",
       " ('it', 2.152512940436876),\n",
       " ('to', 2.1846700520714073),\n",
       " ('is', 2.3006165399204894),\n",
       " ('for', 2.368954318033211),\n",
       " ('but', 2.494379446841479),\n",
       " ('my', 2.519183424207287),\n",
       " ('this', 2.568316112784932),\n",
       " ('in', 2.619988123329253),\n",
       " ('very', 2.635255595460041),\n",
       " ('not', 2.679823914939918),\n",
       " ('of', 2.6906056905432063),\n",
       " ('fit', 2.720869348183033),\n",
       " ('are', 2.7665915975211286),\n",
       " ('great', 2.7932598446032895),\n",
       " ('they', 2.8083887261995897),\n",
       " ('was', 2.8145049532170257),\n",
       " ('on', 2.8745545869965365),\n",
       " ('good', 2.900958761193047),\n",
       " ('as', 2.9076701957810336),\n",
       " ('these', 2.9246485323154516),\n",
       " ('so', 2.9489131543150826),\n",
       " ('with', 3.0179060258020343),\n",
       " ('that', 3.0216725085975114),\n",
       " ('quality', 3.07197324707231),\n",
       " ('have', 3.0920139979557564),\n",
       " ('like', 3.1333421934486023),\n",
       " ('them', 3.1418168204395744),\n",
       " ('too', 3.1897562827286934)]"
      ]
     },
     "execution_count": 10,
     "metadata": {},
     "output_type": "execute_result"
    }
   ],
   "source": [
    "bottom_30_words"
   ]
  },
  {
   "cell_type": "markdown",
   "id": "d11397fb",
   "metadata": {},
   "source": [
    "# Q2 starts from here"
   ]
  },
  {
   "cell_type": "code",
   "execution_count": 15,
   "id": "36222af8",
   "metadata": {},
   "outputs": [
    {
     "name": "stdout",
     "output_type": "stream",
     "text": [
      "Requirement already satisfied: spacy in c:\\users\\sithalrao\\anaconda3\\lib\\site-packages (3.7.2)\n",
      "Requirement already satisfied: preshed<3.1.0,>=3.0.2 in c:\\users\\sithalrao\\anaconda3\\lib\\site-packages (from spacy) (3.0.9)\n",
      "Requirement already satisfied: packaging>=20.0 in c:\\users\\sithalrao\\anaconda3\\lib\\site-packages (from spacy) (22.0)\n",
      "Requirement already satisfied: catalogue<2.1.0,>=2.0.6 in c:\\users\\sithalrao\\anaconda3\\lib\\site-packages (from spacy) (2.0.10)\n",
      "Requirement already satisfied: smart-open<7.0.0,>=5.2.1 in c:\\users\\sithalrao\\anaconda3\\lib\\site-packages (from spacy) (5.2.1)\n",
      "Requirement already satisfied: langcodes<4.0.0,>=3.2.0 in c:\\users\\sithalrao\\anaconda3\\lib\\site-packages (from spacy) (3.3.0)\n",
      "Requirement already satisfied: requests<3.0.0,>=2.13.0 in c:\\users\\sithalrao\\anaconda3\\lib\\site-packages (from spacy) (2.28.1)\n",
      "Requirement already satisfied: typer<0.10.0,>=0.3.0 in c:\\users\\sithalrao\\anaconda3\\lib\\site-packages (from spacy) (0.9.0)\n",
      "Requirement already satisfied: jinja2 in c:\\users\\sithalrao\\anaconda3\\lib\\site-packages (from spacy) (3.1.2)\n",
      "Requirement already satisfied: setuptools in c:\\users\\sithalrao\\anaconda3\\lib\\site-packages (from spacy) (65.6.3)\n",
      "Requirement already satisfied: weasel<0.4.0,>=0.1.0 in c:\\users\\sithalrao\\anaconda3\\lib\\site-packages (from spacy) (0.3.4)\n",
      "Requirement already satisfied: murmurhash<1.1.0,>=0.28.0 in c:\\users\\sithalrao\\anaconda3\\lib\\site-packages (from spacy) (1.0.10)\n",
      "Requirement already satisfied: tqdm<5.0.0,>=4.38.0 in c:\\users\\sithalrao\\anaconda3\\lib\\site-packages (from spacy) (4.64.1)\n",
      "Requirement already satisfied: numpy>=1.19.0 in c:\\users\\sithalrao\\anaconda3\\lib\\site-packages (from spacy) (1.23.5)\n",
      "Requirement already satisfied: thinc<8.3.0,>=8.1.8 in c:\\users\\sithalrao\\anaconda3\\lib\\site-packages (from spacy) (8.2.1)\n",
      "Requirement already satisfied: cymem<2.1.0,>=2.0.2 in c:\\users\\sithalrao\\anaconda3\\lib\\site-packages (from spacy) (2.0.8)\n",
      "Requirement already satisfied: spacy-loggers<2.0.0,>=1.0.0 in c:\\users\\sithalrao\\anaconda3\\lib\\site-packages (from spacy) (1.0.5)\n",
      "Requirement already satisfied: srsly<3.0.0,>=2.4.3 in c:\\users\\sithalrao\\anaconda3\\lib\\site-packages (from spacy) (2.4.8)\n",
      "Requirement already satisfied: pydantic!=1.8,!=1.8.1,<3.0.0,>=1.7.4 in c:\\users\\sithalrao\\anaconda3\\lib\\site-packages (from spacy) (2.5.2)\n",
      "Requirement already satisfied: spacy-legacy<3.1.0,>=3.0.11 in c:\\users\\sithalrao\\anaconda3\\lib\\site-packages (from spacy) (3.0.12)\n",
      "Requirement already satisfied: wasabi<1.2.0,>=0.9.1 in c:\\users\\sithalrao\\anaconda3\\lib\\site-packages (from spacy) (1.1.2)\n",
      "Requirement already satisfied: annotated-types>=0.4.0 in c:\\users\\sithalrao\\anaconda3\\lib\\site-packages (from pydantic!=1.8,!=1.8.1,<3.0.0,>=1.7.4->spacy) (0.6.0)\n",
      "Requirement already satisfied: typing-extensions>=4.6.1 in c:\\users\\sithalrao\\anaconda3\\lib\\site-packages (from pydantic!=1.8,!=1.8.1,<3.0.0,>=1.7.4->spacy) (4.8.0)\n",
      "Requirement already satisfied: pydantic-core==2.14.5 in c:\\users\\sithalrao\\anaconda3\\lib\\site-packages (from pydantic!=1.8,!=1.8.1,<3.0.0,>=1.7.4->spacy) (2.14.5)\n",
      "Requirement already satisfied: charset-normalizer<3,>=2 in c:\\users\\sithalrao\\anaconda3\\lib\\site-packages (from requests<3.0.0,>=2.13.0->spacy) (2.0.4)\n",
      "Requirement already satisfied: urllib3<1.27,>=1.21.1 in c:\\users\\sithalrao\\anaconda3\\lib\\site-packages (from requests<3.0.0,>=2.13.0->spacy) (1.26.14)\n",
      "Requirement already satisfied: certifi>=2017.4.17 in c:\\users\\sithalrao\\anaconda3\\lib\\site-packages (from requests<3.0.0,>=2.13.0->spacy) (2022.12.7)\n",
      "Requirement already satisfied: idna<4,>=2.5 in c:\\users\\sithalrao\\anaconda3\\lib\\site-packages (from requests<3.0.0,>=2.13.0->spacy) (3.4)\n",
      "Requirement already satisfied: blis<0.8.0,>=0.7.8 in c:\\users\\sithalrao\\anaconda3\\lib\\site-packages (from thinc<8.3.0,>=8.1.8->spacy) (0.7.11)\n",
      "Requirement already satisfied: confection<1.0.0,>=0.0.1 in c:\\users\\sithalrao\\anaconda3\\lib\\site-packages (from thinc<8.3.0,>=8.1.8->spacy) (0.1.4)\n",
      "Requirement already satisfied: colorama in c:\\users\\sithalrao\\anaconda3\\lib\\site-packages (from tqdm<5.0.0,>=4.38.0->spacy) (0.4.6)\n",
      "Requirement already satisfied: click<9.0.0,>=7.1.1 in c:\\users\\sithalrao\\anaconda3\\lib\\site-packages (from typer<0.10.0,>=0.3.0->spacy) (8.0.4)\n",
      "Requirement already satisfied: cloudpathlib<0.17.0,>=0.7.0 in c:\\users\\sithalrao\\anaconda3\\lib\\site-packages (from weasel<0.4.0,>=0.1.0->spacy) (0.16.0)\n",
      "Requirement already satisfied: MarkupSafe>=2.0 in c:\\users\\sithalrao\\anaconda3\\lib\\site-packages (from jinja2->spacy) (2.1.1)\n"
     ]
    }
   ],
   "source": [
    "!pip install spacy"
   ]
  },
  {
   "cell_type": "code",
   "execution_count": 68,
   "id": "305e2914",
   "metadata": {},
   "outputs": [],
   "source": [
    "import spacy\n",
    "import sys\n",
    "\n",
    "nlp_spacy = spacy.load(\"en_core_web_sm\")"
   ]
  },
  {
   "cell_type": "code",
   "execution_count": 69,
   "id": "e60e6b3f",
   "metadata": {},
   "outputs": [
    {
     "data": {
      "text/plain": [
       "0                               Exactly what I needed.\n",
       "1    I agree with the other review, the opening is ...\n",
       "2    Love these... I am going to order another pack...\n",
       "3                                  too tiny an opening\n",
       "4                                                 Okay\n",
       "5                               Exactly what I wanted.\n",
       "6    These little plastic backs work great.  No mor...\n",
       "7    mother - in - law wanted it as a present for h...\n",
       "8    Item is of good quality. Looks great, too. But...\n",
       "9    I had used my last el-cheapo fake leather ciga...\n",
       "Name: reviewText, dtype: object"
      ]
     },
     "execution_count": 69,
     "metadata": {},
     "output_type": "execute_result"
    }
   ],
   "source": [
    "data=df['reviewText'][:10]\n",
    "data"
   ]
  },
  {
   "cell_type": "code",
   "execution_count": null,
   "id": "d7162332",
   "metadata": {},
   "outputs": [],
   "source": [
    "for sent_id, sentence in enumerate(doc.sents, 1):\n",
    "            print(f\"Review ID: {i}, Sentence {sent_id}: {sentence}\")"
   ]
  },
  {
   "cell_type": "code",
   "execution_count": 123,
   "id": "2d7db2ab",
   "metadata": {},
   "outputs": [
    {
     "name": "stdout",
     "output_type": "stream",
     "text": [
      "ID: 1 sentence: Exactly what I needed.\n",
      "ID: 1 sentence: I agree with the other review, the opening is too small.  \n",
      "ID: 2 sentence: I almost bent the hook on some very expensive earrings trying to get these up higher than just the end so they're not seen.  \n",
      "ID: 3 sentence: Would not buy again but for the price, not sending back.\n",
      "ID: 1 sentence: Love these...\n",
      "ID: 2 sentence: I am going to order another pack to keep in work; someone (including myself) is always losing the back to an earring.  \n",
      "ID: 3 sentence: I don't understand why all fish hook earrings don't have them.  \n",
      "ID: 4 sentence: Just wish that they were a tiny bit longer.  :)\n",
      "ID: 1 sentence: too tiny an opening\n",
      "ID: 1 sentence: Okay\n",
      "ID: 1 sentence: Exactly what I wanted.\n",
      "ID: 1 sentence: These little plastic backs work great.  \n",
      "ID: 2 sentence: No more loosing \"hook\" earrings!  \n",
      "ID: 3 sentence: Wish I had ordered these sooner before I had lost some of my favorite earrings!\n",
      "ID: 1 sentence: mother - in - law wanted it as a present for her sister.\n",
      "ID: 2 sentence: she liked it and said it would work.\n",
      "ID: 1 sentence: Item is of good quality.\n",
      "ID: 2 sentence: Looks great, too.\n",
      "ID: 3 sentence: But it does not fit 100's!\n",
      "ID: 4 sentence: But it can be stretched to fit them if you carefully push bottom of case with your fingers.\n",
      "ID: 5 sentence: Then shove in a pack of 100's(max) and level it out as you close case stretching case closed.\n",
      "ID: 6 sentence: Leave a pk.in it for month or so & was la!\n",
      "ID: 7 sentence: Buxton is usually a good quality product!\n",
      "ID: 1 sentence: I had used my last el-cheapo fake leather cigarette case for SEVEN YEARS.\n",
      "ID: 2 sentence: It still closed completely but the plastic made to look like leather was literally falling off, so it was time for a new one.\n",
      "ID: 3 sentence: Cigarette cases for kings size cigs are not easy to come by these days I discovered, but I was thrilled to find this one on Amazon.\n",
      "ID: 4 sentence: It was a great price, REAL LEATHER, and even had the cool zipper pouch on the back.\n",
      "ID: 5 sentence: I was so excited to get my case and toss that other one!\n",
      "ID: 6 sentence: Well, within THREE DAYS one of the gold clasps literally broke off!\n",
      "ID: 7 sentence: I couldn't believe it!\n",
      "ID: 8 sentence: I tried to super glue it back on and was not successful.\n",
      "ID: 9 sentence: so, I still use the case but it doesn't close securely.\n",
      "ID: 10 sentence: I was very disappointed that my $3.00 plastic one lasted 7 years and this real nice leather one lasted 3 days!!\n",
      "ID: 11 sentence: But I still love the zipper pouch on the back, it's great for the spare key to my car because I will not go ANYWHERE without my cigarettes!\n"
     ]
    }
   ],
   "source": [
    "for review in data:\n",
    "    text=nlp_spacy(review)\n",
    "    for sentid, sent in enumerate(text.sents,1):\n",
    "        print(\"ID:\", sentid, \"sentence:\", sent)"
   ]
  },
  {
   "cell_type": "markdown",
   "id": "ddc0c906",
   "metadata": {},
   "source": [
    "# Q3 starts from here"
   ]
  },
  {
   "cell_type": "code",
   "execution_count": null,
   "id": "7b3be8ff",
   "metadata": {},
   "outputs": [],
   "source": []
  }
 ],
 "metadata": {
  "kernelspec": {
   "display_name": "Python 3 (ipykernel)",
   "language": "python",
   "name": "python3"
  },
  "language_info": {
   "codemirror_mode": {
    "name": "ipython",
    "version": 3
   },
   "file_extension": ".py",
   "mimetype": "text/x-python",
   "name": "python",
   "nbconvert_exporter": "python",
   "pygments_lexer": "ipython3",
   "version": "3.10.9"
  }
 },
 "nbformat": 4,
 "nbformat_minor": 5
}
