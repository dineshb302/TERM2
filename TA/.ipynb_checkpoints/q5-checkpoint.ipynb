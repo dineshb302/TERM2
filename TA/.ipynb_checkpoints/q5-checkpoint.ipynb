{
 "cells": [
  {
   "cell_type": "code",
   "execution_count": 1,
   "id": "07880ae1",
   "metadata": {},
   "outputs": [],
   "source": [
    "# Importing libraries\n",
    "import pandas as pd\n",
    "import string"
   ]
  },
  {
   "cell_type": "code",
   "execution_count": 2,
   "id": "85b374d1",
   "metadata": {},
   "outputs": [],
   "source": [
    "from summa import summarizer"
   ]
  },
  {
   "cell_type": "code",
   "execution_count": 3,
   "id": "908bf3c5",
   "metadata": {},
   "outputs": [],
   "source": [
    "# Read the combined data\n",
    "cmb_data = pd.read_csv(r'Combined_Categories_dataset.csv')"
   ]
  },
  {
   "cell_type": "code",
   "execution_count": 4,
   "id": "34eb62e3",
   "metadata": {},
   "outputs": [],
   "source": [
    "cmb_data['reviewText'] = cmb_data['reviewText'].astype(str)"
   ]
  },
  {
   "cell_type": "code",
   "execution_count": 5,
   "id": "9bf20b09",
   "metadata": {},
   "outputs": [],
   "source": [
    "# Spliting the combined data to get 1 and 5 start rating from each group\n",
    "amazon_fashion = cmb_data[:20000]\n",
    "electronics = cmb_data[20000:]"
   ]
  },
  {
   "cell_type": "code",
   "execution_count": 6,
   "id": "ae4e40d4",
   "metadata": {},
   "outputs": [
    {
     "data": {
      "text/plain": [
       "1000"
      ]
     },
     "execution_count": 6,
     "metadata": {},
     "output_type": "execute_result"
    }
   ],
   "source": [
    "# Extract the first 1000 rating-1.0 amazon_fashion\n",
    "low_rating_reviews_amz_fashion = [review for review, rating in zip(amazon_fashion['reviewText'], amazon_fashion['overall']) if rating == 1.0][:1000]\n",
    "len(low_rating_reviews_amz_fashion)"
   ]
  },
  {
   "cell_type": "code",
   "execution_count": 7,
   "id": "4804022d",
   "metadata": {},
   "outputs": [
    {
     "data": {
      "text/plain": [
       "1000"
      ]
     },
     "execution_count": 7,
     "metadata": {},
     "output_type": "execute_result"
    }
   ],
   "source": [
    "# Extract the first 1000 rating-1.0 electronics\n",
    "low_rating_reviews_electronics = [review for review, rating in zip(electronics['reviewText'], electronics['overall']) if rating == 1.0][:1000]\n",
    "len(low_rating_reviews_electronics)"
   ]
  },
  {
   "cell_type": "code",
   "execution_count": 8,
   "id": "224b0a63",
   "metadata": {},
   "outputs": [
    {
     "data": {
      "text/plain": [
       "2000"
      ]
     },
     "execution_count": 8,
     "metadata": {},
     "output_type": "execute_result"
    }
   ],
   "source": [
    "# Combining both categories\n",
    "low_rating_reviews = low_rating_reviews_amz_fashion + low_rating_reviews_electronics\n",
    "len(low_rating_reviews)"
   ]
  },
  {
   "cell_type": "code",
   "execution_count": 9,
   "id": "516baf3f",
   "metadata": {},
   "outputs": [
    {
     "name": "stdout",
     "output_type": "stream",
     "text": [
      "It seems like a dollar store item Terrible quality Says it fits 100s, nut does not NOT GOOD FOR ME I THOUGHT IT WAS 100 PK Too small This product is not a good fit as it does not hold 100s, so I have to send it back.\n",
      "the arm bands do not look or fit anything like the picture either- they are foamy and not at all tight fighting, the collar for the cape way too small (and I do not have a large neck) and the boot covers- which I did not expect much from- are made of felt and are so big I can't pull them up.\n",
      "The description was totally wrong i always buy on amazon and is the first time i got disapointed with my purchase it said 8.5 women and when i got it it was men size my son received a diferent color he choose the classic as the picture .\n",
      "There not the right size and one of them were ripped there not good shoes there too bad this product has a big problem Don't know fit, can not get shirt open, button holes sewn almost shut...made in China.\n",
      "horribly made and had to return (this was a wedding gift for my aunt) Pretty but fell apart after one use Didn't like the material Couldnt figure out how the shirt worked at first then it just wouldnt cover or fit right once on.\n",
      "Way small!!!n Horrible nothing work well look tips and one come without battery garbage These suck, a waste of money.\n",
      "Returned This was a very beautiful shirt but it wound up coming too small so it was very tight on me so I would recommend anyone to buy the shirt by adding extra size larger than you normally wear It a ugly blouse it doesn't look like the one in the picture Will return the zip was spoilt .\n",
      "I ordered a large and it looked like it would fit my teenage daughter that wears a size 0 Poor quality.\n",
      "ordered a large and received a double XL the size chart is not comparable I'm 5' 10 174 pounds in the XXL barely fit Don't do it I ordered these for me and my girls..i tried mine on and it's not going to work.\n",
      "Will be returning soon These are not hoverkicks as advertised and the lights don't always light up and the battery hurts your foot on the inside and it comes in a brown box with no marking and I only got one charger for both pairs of sneakers so it takes forever to charge makes no sense I'll never buy sneaker on amazon again Very thin and didn't come with any of the adhesive strips like it says are included.\n",
      "Finally ordered these since there were no reviews complaining about them not working, sizing issues or poor quality but once we got them & my son wore them for a couple hours the right shoes kept coming on automatically with each step.\n",
      "first off, I am mechanically inclined, and this looked ok when I got it, however when I mounted it to the stud-not a big problem-it became slowly obvious that the middle joint was a bit wonky, I followed the instructions all the way and when the tv was mounted and I thought it might work the middle part did not hold and my flatscreen went down, hit the wall and broke-just goes to show that you can't trust product ratings on Amazon, and its more cheaply made defective garbage from china.\n",
      "However, if you don't need to rotate your TV, this will do the job I suppose Ok.....Jem is having strange dreams......her husband seems to just want a Stepford wife.....nothing about Jem, her dreams or her conversation with her friend Poppy caught my interest......the characters and story just did not make me want to continue reading this book.....think that this is an author that I will not continue to follow......there are too many other good books out there to waste time trying to force myself to enjoy this book.\n",
      "Doesn't work too well with my lg v10, and the sad thing is that it's specifically for my phone, just a bad product, a waste of money Did not work :( It not playing  my movies all the time but its not my tv or HDMI cable I use them all the time  I watch 2 movies now it wot play The ease & simplicity of such a small device is what attracted me to it.\n",
      "i got the SD card with almost 50 G already used, well that was okay i tried to delete the data multiple ways and it wouldnt format even while using my computer Didn't fit my phone While it says here on Amazon that this will work with your LG 3smartphone, the box it is shipped in plainly says otherwise.\n",
      "I absolutely need a hmdi for my LG stylo so I could possibly Watch some Netflix on our TV I've already purchased one for nothing so now I want to make sure befor I purchase again thank u in advance for any one's time or help  I should have assumed a deal like this was too good to be true.\n",
      "So, it looks like I paid $100 for nothing :( I will think twice before ordering items online in the future I've had the card for a couple months it formatted in my tablet and I could write to it but it screwed up the sleep button, every time the screen went black the tablet turned off, when i replaced it with a 32gb card everything went back to working fine.\n",
      "I'd still like to have a functional Nook sent to my son-in-law, but if the seller remain uncooperative, I will settle for a refund.\"  Update:  So before going through this huge hassle of returning and waiting on a replacement, etc., I tried a system restore last night on the Nook.\n",
      "Slow to load pages compared to all the other tablets in our household My main problem is B&N told me we could use gift cards to buy ebooks without adding a credit card to the account and that was very important since it was going to my youngest daughter and I didn't want her accidently buying books on credit.\n",
      "I got it as a gift for someone and it works horribly ....now I look like an idiot..thanks Barnes and noble you dopes stick to over priced books..\n",
      "I've had one for 2 years and love it and have had no problems.(So I know how to use one.) This nook would let you download a book, but when you went to read it, it said, not authorized to use, I worked with Barnes & Nobles and on line Nook trying to resolve the problem, but could not.\n",
      "This NOOK is of no use to me at all, it's not easy to use or easy to read and I just wanted to trade it in, pay more for something I could use but they said sense I had opened the package and tried to use it that I could not return it.\n",
      "Like \" can you told me what Nook you got?\"  Buy a Kindle.\n",
      "I bought a new nook glowlight from Barnes and Noble and it works very well.\n",
      "Book did not work right........wanted to return it, and was not able because i opened it!\n",
      "The first one I considered to be my fault, the second one fell and although the drop was only two and a half feet, and the nook had a case (bought from Barnes and Noble for the Nook), the screen now no longer works.\n",
      "If you purchase books from Barnes and Noble, you must have a valid credit card on file any time you want to access the material that you have already paid for, and downloaded.\n",
      "It is the worst service I have ever received, the nook rarely works the way it should, and every night when I am trying to read in bed, and think towards the money that I am saving up to buy a Kindle.\n",
      "Barnes & Noble Customer Service was NO HELP, telling me that, since I did not purchase the Nook Simple Touch from B&N, they could not help me, and suggesting that I needed to return it to the seller.\n",
      "I have never in my life written a review for a product- good or bad (even though I do a large amount of shopping online), but my experience with my Nook Touch has upset me greatly, and I would like to warn others shopping for an e-reader to consider my experience beforehand so that they make a well informed decision.\n",
      "When I was shopping for an e-reader this past summer, I originally was going to go with a Kindle since they have a better selection of cheap and/or free e-books, but at that time, only the Nook had Touch capabilities, which ultimately won me over.\n",
      "I plan to try once more by contacting them again and if I can return the unit I will put the money to good use and purchase a Kindle .I've been dealing with Amazon for around 10 yrs now and have never had an issue with any purchase or product.\n",
      "2) If I buy a reader for one of my kids, they could download books and I wouldn't know until I got a bill (gift cards do not qualify as an active credit card) and B & N has a strict no refund policy on ebooks.\n",
      "Because we like the device, I have tried researching everything online to see how to keep it from freezing (carefully dusting it off, charging it, reseting it, etc.) Sitting down to read is hard enough to do at times (am I right?), so I don't need my e-reader to freeze on me when I finally make the time to sit down and read.\n",
      "I love the style and concept of the Nook as well as the size and feel, but seriously, they need to fix it so you can read more than one book on it before it goes out!\n",
      "Calling their support, I ended up in an argument over copyright laws and about getting full access to the books I bought to put on another device to be read in the manner I wish to read them (using a 3rd party reading app and have it read aloud with another 3rd party app - no TTS support on Nook).\n",
      "Unless your willing to pay extra for the Nook name at B & N, then jailbreak it (and nix your warranty) so you can finally use it like it's supposed to be used, I would say skip buying Samsung Nook from B & N.\n",
      "I'm using the app for PC to try and read my textbooks and its barely usable, I will never buy another book for Nook again and because of this I may never buy another book from BN again, thanks for ruining books for me...\n",
      "I thought I had 14 days from purchase and so while I'd already asked for a full refund and been talked into trying another fix in that time Barnes and Noble considers it the 15th day when I tried to return or get store credit.\n",
      "I've still got the nook and with constant tech support to fix new errors (today it thinks I'm using two different nooks and wants to know if I want to continue where left off) I can usually use at least one function working but probably just giving up and getting rid of it soons as 30 days of wasting time on this device have made me choose to stop shopping at barnes and noble.\n",
      "Thankfully I never paid for any nook books and just have the free ones that came with the device on days the reader reads as installed.\n",
      "2) If I buy a reader for one of my kids, they could download books and I wouldn't know until I got a bill (gift cards do not qualify as an active credit card) and B & N has a strict no refund policy on ebooks.\n",
      "Adobe Digital Editions allows you to \"unlock\" .epub files for download to your Nook and a good alternative for \"permanent\" access to your material is to purchase ebooks from [..] Unless you're one of the lucky few to get a Nook that actually works for more than a few months, stay away from this product.\n",
      "Since my wife has 135 books on her Nook, and no way to read them since this whole fiasco began, I went to B&N today and had to buy a brand new Nook for her.\n",
      "With e-books they just give you a license to access the e-book when you buy/rent it which they can revoke at any time (Google Amazon's remote deletion of George Orwell 1984 book from Kindles) which is why I say the Nook is a crook.\n",
      "So, Barnes & Noble is totally pushing their Color version, and my $200 Nook, with case($25), protectors(15), insurance, etc, totaling $339 the day I bought it, and well over 100 books purchased, is old news.\n",
      "It's easier to read real books than to fuss with Nook problems every time I pick it up.\n",
      "Even though the some of the reviews say that 'nook gives problem'  , i didn't care and i wanted to give it a chance because of its colorful and touch screen and I bought Nook 3g-wifi instead of Kindle.\n",
      "I tried to use 3G, I have an Android smart phone and I always use 3G without any problem around my neighborhood, but this defected device (nook) didn't connect 3g, and I hardly connect the internet by wifi, I called customer service and I tried to explain the situations, they just told me some stories, please be patient ...be patient.\n",
      "It wouldn't connect anywhere except in Barnes&Noble( of course) so I called tech support and was on the phone for an hour and they had no idea how to fix it, they told me to just go to store( pawning me off) I went to the store and retold the whole story to them only to be asked a million questions making me feel like they thought I was trying to pull a fast one.\n",
      "B&N did not agree to accept returns as they have this 'policy against returns of Nooks if you did not buy extended coverage insurance.' B&N's customer service issued me an Return Authorization number and said they would review the item and if they find it defective they would send me a replacement.\n",
      "The same B&N required to download books through your Nook can be used through iPod and its Nook App, turning your device into a pocket-sized e-reader; better than lugging around the Nook, which is rather heavy and certainly can't slip in your pocket.\n",
      "With B&N nook it takes a long time to select and load a book.\n",
      "At least the folks at the B&N store were helpful - they replaced the first one with no hassle, and with this second one, refunded my cost and, since they had no way to refund what I paid for on-line content, they gave me a hard copy of the one book I had not yet read.\n",
      "Got as a present, I am trying to figure out how to get rid of it I didn't purchase the NOOK through amazon I bought from the Barnes and Noble Store.\n",
      "Yes I like it a lot,but the kindle tablets are much better I bought as new, but was sent a used Nook,  I had to take it to a Barnes and Noble store where they graciously exchanged it.\n",
      "I ordered this product and right from the beginning I had nothing but problems I owned the nook for 7 days and had to erase and start over 8 times kept freezing up I wouldn't recommend this product to my worst enemy Worst electronic product I've bought in a long time!!!!\n",
      "I was told that I would have to buy a duplicate subscription through the B&N store if I want to read The Economist on my Nook.\n",
      "I don't like it at all If all you want is a tablet for reading B&N books and periodicals and maybe playing the occasional cheesy game, this is for you.\n",
      "(When I buy DOA products at my local Radio Shack, they exchange them without batting an eye.) So I'm stuck in a protracted fight, out over $200.00, and own a paperweight that looks just like a Nook Tablet.\n",
      "If you like paying your hard-earned money for a product, and when you take ownership you enjoy being told how you can use your property by a large corporation (Barnes & Noble) then by all means purchase a Nook Tablet!\n",
      "The Nook Tablet looks good, if you have never used an IPad. The Wifi is terrific, if you want to sit in a Barnes and Noble store to use it.\n",
      "After months of going back and forth, reading reviews, comparing specs, I finally settled on the Nook for the simple reason that I wanted to support B&N, particularly after Borders went out of business.\n",
      "This is ironic - B&N had to do actual work to make it much worse than using the normal android version, plus they had nice opportunities to improve on the experience of a phone due to the large screen - Cyanogen 7 Android supports gestures for music - do an arrow to the left like \"<\", say, and it'll go back a track.\n",
      "The reading end of the device is well-implemented, though I give Amazon's original Kindle and all subsequent ones and advantage - an order of a book on an original kindle appeared on the device in less time than it took me to back out of the purchase UI.\n",
      "I downloaded some of my pdf files, checked my email, got on the web, and got a couple of reading materials from the Nook store....then I looked at the apps selection of the B&N store -- jeeze, very limited.\n",
      "I would love to put some of those apps on my NT, but either B&N wants me to buy another copy from them now just to use on my Nook, or I am just SOL if they don't have it available in their store.\n",
      "And now when my friends and patients ask, I am now telling them to buy something else where you can actually use the software you want - I have totally came around 180 since the B&N \"update\" stripped one of the best capabilities out of the Nook Tablet.\n",
      "The Nook is probably o.k. if you use it just to buy stuff from Barnes and Noble, but it was sold to me as a tool for reading free books and it didn't work for that.\n",
      "While reading a book, the Nook will suddenly freeze up, you can't page forward or backwards AND if you want to try the old reliable 'turn it off then back on trick' you learn that you can turn it off only with much difficulty.\n",
      "I've been trying to download a book for 3 hours, and though they have charged me the money for the (expensive) book, it won't download on my nook, and the nook claims there are problems with payment.\n",
      "I purchased the new B/W touch version of the Nook and had intended to use it for lecturing in class when I need to do it from the book.\n",
      "For anyone considering a Nook, I would strongly suggest that you call or try to call Barnes and Noble's customer service to find out how you like dealing with them if you have a problem.\n",
      "Posting here for any who are trying to decide between Nook and Kindle - my 4 1/2 year old Kindle has been dragged all over the world in airplanes and is in and out of my computer bag pretty regularly and still works as perfectly as it did the day I bought it FWIW.\n",
      "I just got off the phone with Barnes and Noble \"Customer Service\" and I've been told there is nothing Barnes and Noble can do regarding upgrading me (I'm even willing to pay the difference in the Nook Simple Touch with Glowlight and the newer Nook Glowlight, which does not appear to have these problems).\n",
      "I charged it like the book said to and in trying to use it the screen flickers and freezes up.\n",
      "she had to  take  time out of  her holiday to return it to a Barnes and noble  very disappointing DO NOT BUY THIS VERSION OF THE NOOK!\n",
      "If you sideload your books (add your own books to a memory card instead of purchasing from Barnes and Noble), everytime you turn the device completely off and on (like in the event of it freezing, like mine's has done more than once) all of your shelves (like collections on Kindle) will erase.\n",
      "It worked like 10 times and turned off forever It broke just a few months after purchasing.\n",
      "I have bought to stero Befree Systems and both of them have the same problem after a week of having them I start hearing this buzzing sound have call customer and there office is never open will never buy any befree products ever agin It makes a loud continual humming noise and only 3 of the 5 speakers will work.\n"
     ]
    }
   ],
   "source": [
    "# Summarize to 1% of the words for low ratings\n",
    "low_rating_summary = summarizer.summarize(' '.join(low_rating_reviews), ratio=0.01)\n",
    "\n",
    "# Printing summary\n",
    "print(low_rating_summary)"
   ]
  },
  {
   "cell_type": "code",
   "execution_count": 11,
   "id": "0ef05e6f",
   "metadata": {},
   "outputs": [
    {
     "data": {
      "text/plain": [
       "1000"
      ]
     },
     "execution_count": 11,
     "metadata": {},
     "output_type": "execute_result"
    }
   ],
   "source": [
    "# Extract the first 1000 rating-5.0 amz_fashion\n",
    "high_rating_reviews_amz_fashion = [review for review, rating in zip(amazon_fashion['reviewText'], amazon_fashion['overall']) if rating == 5.0][:1000]\n",
    "len(high_rating_reviews_amz_fashion)"
   ]
  },
  {
   "cell_type": "code",
   "execution_count": 12,
   "id": "8c4c3d6e",
   "metadata": {},
   "outputs": [
    {
     "data": {
      "text/plain": [
       "1000"
      ]
     },
     "execution_count": 12,
     "metadata": {},
     "output_type": "execute_result"
    }
   ],
   "source": [
    "# Extract the first 1000 rating-5.0 electronics\n",
    "high_rating_reviews_electronics = [review for review, rating in zip(electronics['reviewText'], electronics['overall']) if rating == 5.0][:1000]\n",
    "len(high_rating_reviews_electronics)"
   ]
  },
  {
   "cell_type": "code",
   "execution_count": 13,
   "id": "f771d9f3",
   "metadata": {},
   "outputs": [
    {
     "data": {
      "text/plain": [
       "2000"
      ]
     },
     "execution_count": 13,
     "metadata": {},
     "output_type": "execute_result"
    }
   ],
   "source": [
    "# Combining both categories\n",
    "high_rating_reviews = high_rating_reviews_amz_fashion + high_rating_reviews_electronics\n",
    "len(high_rating_reviews)"
   ]
  },
  {
   "cell_type": "code",
   "execution_count": 14,
   "id": "3072212e",
   "metadata": {},
   "outputs": [
    {
     "name": "stdout",
     "output_type": "stream",
     "text": [
      "It seems like a dollar store item Terrible quality Says it fits 100s, nut does not NOT GOOD FOR ME I THOUGHT IT WAS 100 PK Too small This product is not a good fit as it does not hold 100s, so I have to send it back.\n",
      "the arm bands do not look or fit anything like the picture either- they are foamy and not at all tight fighting, the collar for the cape way too small (and I do not have a large neck) and the boot covers- which I did not expect much from- are made of felt and are so big I can't pull them up.\n",
      "The description was totally wrong i always buy on amazon and is the first time i got disapointed with my purchase it said 8.5 women and when i got it it was men size my son received a diferent color he choose the classic as the picture .\n",
      "There not the right size and one of them were ripped there not good shoes there too bad this product has a big problem Don't know fit, can not get shirt open, button holes sewn almost shut...made in China.\n",
      "horribly made and had to return (this was a wedding gift for my aunt) Pretty but fell apart after one use Didn't like the material Couldnt figure out how the shirt worked at first then it just wouldnt cover or fit right once on.\n",
      "Way small!!!n Horrible nothing work well look tips and one come without battery garbage These suck, a waste of money.\n",
      "Returned This was a very beautiful shirt but it wound up coming too small so it was very tight on me so I would recommend anyone to buy the shirt by adding extra size larger than you normally wear It a ugly blouse it doesn't look like the one in the picture Will return the zip was spoilt .\n",
      "I ordered a large and it looked like it would fit my teenage daughter that wears a size 0 Poor quality.\n",
      "ordered a large and received a double XL the size chart is not comparable I'm 5' 10 174 pounds in the XXL barely fit Don't do it I ordered these for me and my girls..i tried mine on and it's not going to work.\n",
      "Will be returning soon These are not hoverkicks as advertised and the lights don't always light up and the battery hurts your foot on the inside and it comes in a brown box with no marking and I only got one charger for both pairs of sneakers so it takes forever to charge makes no sense I'll never buy sneaker on amazon again Very thin and didn't come with any of the adhesive strips like it says are included.\n",
      "Finally ordered these since there were no reviews complaining about them not working, sizing issues or poor quality but once we got them & my son wore them for a couple hours the right shoes kept coming on automatically with each step.\n",
      "first off, I am mechanically inclined, and this looked ok when I got it, however when I mounted it to the stud-not a big problem-it became slowly obvious that the middle joint was a bit wonky, I followed the instructions all the way and when the tv was mounted and I thought it might work the middle part did not hold and my flatscreen went down, hit the wall and broke-just goes to show that you can't trust product ratings on Amazon, and its more cheaply made defective garbage from china.\n",
      "However, if you don't need to rotate your TV, this will do the job I suppose Ok.....Jem is having strange dreams......her husband seems to just want a Stepford wife.....nothing about Jem, her dreams or her conversation with her friend Poppy caught my interest......the characters and story just did not make me want to continue reading this book.....think that this is an author that I will not continue to follow......there are too many other good books out there to waste time trying to force myself to enjoy this book.\n",
      "Doesn't work too well with my lg v10, and the sad thing is that it's specifically for my phone, just a bad product, a waste of money Did not work :( It not playing  my movies all the time but its not my tv or HDMI cable I use them all the time  I watch 2 movies now it wot play The ease & simplicity of such a small device is what attracted me to it.\n",
      "i got the SD card with almost 50 G already used, well that was okay i tried to delete the data multiple ways and it wouldnt format even while using my computer Didn't fit my phone While it says here on Amazon that this will work with your LG 3smartphone, the box it is shipped in plainly says otherwise.\n",
      "I absolutely need a hmdi for my LG stylo so I could possibly Watch some Netflix on our TV I've already purchased one for nothing so now I want to make sure befor I purchase again thank u in advance for any one's time or help  I should have assumed a deal like this was too good to be true.\n",
      "So, it looks like I paid $100 for nothing :( I will think twice before ordering items online in the future I've had the card for a couple months it formatted in my tablet and I could write to it but it screwed up the sleep button, every time the screen went black the tablet turned off, when i replaced it with a 32gb card everything went back to working fine.\n",
      "I'd still like to have a functional Nook sent to my son-in-law, but if the seller remain uncooperative, I will settle for a refund.\"  Update:  So before going through this huge hassle of returning and waiting on a replacement, etc., I tried a system restore last night on the Nook.\n",
      "Slow to load pages compared to all the other tablets in our household My main problem is B&N told me we could use gift cards to buy ebooks without adding a credit card to the account and that was very important since it was going to my youngest daughter and I didn't want her accidently buying books on credit.\n",
      "I got it as a gift for someone and it works horribly ....now I look like an idiot..thanks Barnes and noble you dopes stick to over priced books..\n",
      "I've had one for 2 years and love it and have had no problems.(So I know how to use one.) This nook would let you download a book, but when you went to read it, it said, not authorized to use, I worked with Barnes & Nobles and on line Nook trying to resolve the problem, but could not.\n",
      "This NOOK is of no use to me at all, it's not easy to use or easy to read and I just wanted to trade it in, pay more for something I could use but they said sense I had opened the package and tried to use it that I could not return it.\n",
      "Like \" can you told me what Nook you got?\"  Buy a Kindle.\n",
      "I bought a new nook glowlight from Barnes and Noble and it works very well.\n",
      "Book did not work right........wanted to return it, and was not able because i opened it!\n",
      "The first one I considered to be my fault, the second one fell and although the drop was only two and a half feet, and the nook had a case (bought from Barnes and Noble for the Nook), the screen now no longer works.\n",
      "If you purchase books from Barnes and Noble, you must have a valid credit card on file any time you want to access the material that you have already paid for, and downloaded.\n",
      "It is the worst service I have ever received, the nook rarely works the way it should, and every night when I am trying to read in bed, and think towards the money that I am saving up to buy a Kindle.\n",
      "Barnes & Noble Customer Service was NO HELP, telling me that, since I did not purchase the Nook Simple Touch from B&N, they could not help me, and suggesting that I needed to return it to the seller.\n",
      "I have never in my life written a review for a product- good or bad (even though I do a large amount of shopping online), but my experience with my Nook Touch has upset me greatly, and I would like to warn others shopping for an e-reader to consider my experience beforehand so that they make a well informed decision.\n",
      "When I was shopping for an e-reader this past summer, I originally was going to go with a Kindle since they have a better selection of cheap and/or free e-books, but at that time, only the Nook had Touch capabilities, which ultimately won me over.\n",
      "I plan to try once more by contacting them again and if I can return the unit I will put the money to good use and purchase a Kindle .I've been dealing with Amazon for around 10 yrs now and have never had an issue with any purchase or product.\n",
      "2) If I buy a reader for one of my kids, they could download books and I wouldn't know until I got a bill (gift cards do not qualify as an active credit card) and B & N has a strict no refund policy on ebooks.\n",
      "Because we like the device, I have tried researching everything online to see how to keep it from freezing (carefully dusting it off, charging it, reseting it, etc.) Sitting down to read is hard enough to do at times (am I right?), so I don't need my e-reader to freeze on me when I finally make the time to sit down and read.\n",
      "I love the style and concept of the Nook as well as the size and feel, but seriously, they need to fix it so you can read more than one book on it before it goes out!\n",
      "Calling their support, I ended up in an argument over copyright laws and about getting full access to the books I bought to put on another device to be read in the manner I wish to read them (using a 3rd party reading app and have it read aloud with another 3rd party app - no TTS support on Nook).\n",
      "Unless your willing to pay extra for the Nook name at B & N, then jailbreak it (and nix your warranty) so you can finally use it like it's supposed to be used, I would say skip buying Samsung Nook from B & N.\n",
      "I'm using the app for PC to try and read my textbooks and its barely usable, I will never buy another book for Nook again and because of this I may never buy another book from BN again, thanks for ruining books for me...\n",
      "I thought I had 14 days from purchase and so while I'd already asked for a full refund and been talked into trying another fix in that time Barnes and Noble considers it the 15th day when I tried to return or get store credit.\n",
      "I've still got the nook and with constant tech support to fix new errors (today it thinks I'm using two different nooks and wants to know if I want to continue where left off) I can usually use at least one function working but probably just giving up and getting rid of it soons as 30 days of wasting time on this device have made me choose to stop shopping at barnes and noble.\n",
      "Thankfully I never paid for any nook books and just have the free ones that came with the device on days the reader reads as installed.\n",
      "2) If I buy a reader for one of my kids, they could download books and I wouldn't know until I got a bill (gift cards do not qualify as an active credit card) and B & N has a strict no refund policy on ebooks.\n",
      "Adobe Digital Editions allows you to \"unlock\" .epub files for download to your Nook and a good alternative for \"permanent\" access to your material is to purchase ebooks from [..] Unless you're one of the lucky few to get a Nook that actually works for more than a few months, stay away from this product.\n",
      "Since my wife has 135 books on her Nook, and no way to read them since this whole fiasco began, I went to B&N today and had to buy a brand new Nook for her.\n",
      "With e-books they just give you a license to access the e-book when you buy/rent it which they can revoke at any time (Google Amazon's remote deletion of George Orwell 1984 book from Kindles) which is why I say the Nook is a crook.\n",
      "So, Barnes & Noble is totally pushing their Color version, and my $200 Nook, with case($25), protectors(15), insurance, etc, totaling $339 the day I bought it, and well over 100 books purchased, is old news.\n",
      "It's easier to read real books than to fuss with Nook problems every time I pick it up.\n",
      "Even though the some of the reviews say that 'nook gives problem'  , i didn't care and i wanted to give it a chance because of its colorful and touch screen and I bought Nook 3g-wifi instead of Kindle.\n",
      "I tried to use 3G, I have an Android smart phone and I always use 3G without any problem around my neighborhood, but this defected device (nook) didn't connect 3g, and I hardly connect the internet by wifi, I called customer service and I tried to explain the situations, they just told me some stories, please be patient ...be patient.\n",
      "It wouldn't connect anywhere except in Barnes&Noble( of course) so I called tech support and was on the phone for an hour and they had no idea how to fix it, they told me to just go to store( pawning me off) I went to the store and retold the whole story to them only to be asked a million questions making me feel like they thought I was trying to pull a fast one.\n",
      "B&N did not agree to accept returns as they have this 'policy against returns of Nooks if you did not buy extended coverage insurance.' B&N's customer service issued me an Return Authorization number and said they would review the item and if they find it defective they would send me a replacement.\n",
      "The same B&N required to download books through your Nook can be used through iPod and its Nook App, turning your device into a pocket-sized e-reader; better than lugging around the Nook, which is rather heavy and certainly can't slip in your pocket.\n",
      "With B&N nook it takes a long time to select and load a book.\n",
      "At least the folks at the B&N store were helpful - they replaced the first one with no hassle, and with this second one, refunded my cost and, since they had no way to refund what I paid for on-line content, they gave me a hard copy of the one book I had not yet read.\n",
      "Got as a present, I am trying to figure out how to get rid of it I didn't purchase the NOOK through amazon I bought from the Barnes and Noble Store.\n",
      "Yes I like it a lot,but the kindle tablets are much better I bought as new, but was sent a used Nook,  I had to take it to a Barnes and Noble store where they graciously exchanged it.\n",
      "I ordered this product and right from the beginning I had nothing but problems I owned the nook for 7 days and had to erase and start over 8 times kept freezing up I wouldn't recommend this product to my worst enemy Worst electronic product I've bought in a long time!!!!\n",
      "I was told that I would have to buy a duplicate subscription through the B&N store if I want to read The Economist on my Nook.\n",
      "I don't like it at all If all you want is a tablet for reading B&N books and periodicals and maybe playing the occasional cheesy game, this is for you.\n",
      "(When I buy DOA products at my local Radio Shack, they exchange them without batting an eye.) So I'm stuck in a protracted fight, out over $200.00, and own a paperweight that looks just like a Nook Tablet.\n",
      "If you like paying your hard-earned money for a product, and when you take ownership you enjoy being told how you can use your property by a large corporation (Barnes & Noble) then by all means purchase a Nook Tablet!\n",
      "The Nook Tablet looks good, if you have never used an IPad. The Wifi is terrific, if you want to sit in a Barnes and Noble store to use it.\n",
      "After months of going back and forth, reading reviews, comparing specs, I finally settled on the Nook for the simple reason that I wanted to support B&N, particularly after Borders went out of business.\n",
      "This is ironic - B&N had to do actual work to make it much worse than using the normal android version, plus they had nice opportunities to improve on the experience of a phone due to the large screen - Cyanogen 7 Android supports gestures for music - do an arrow to the left like \"<\", say, and it'll go back a track.\n",
      "The reading end of the device is well-implemented, though I give Amazon's original Kindle and all subsequent ones and advantage - an order of a book on an original kindle appeared on the device in less time than it took me to back out of the purchase UI.\n",
      "I downloaded some of my pdf files, checked my email, got on the web, and got a couple of reading materials from the Nook store....then I looked at the apps selection of the B&N store -- jeeze, very limited.\n",
      "I would love to put some of those apps on my NT, but either B&N wants me to buy another copy from them now just to use on my Nook, or I am just SOL if they don't have it available in their store.\n",
      "And now when my friends and patients ask, I am now telling them to buy something else where you can actually use the software you want - I have totally came around 180 since the B&N \"update\" stripped one of the best capabilities out of the Nook Tablet.\n",
      "The Nook is probably o.k. if you use it just to buy stuff from Barnes and Noble, but it was sold to me as a tool for reading free books and it didn't work for that.\n",
      "While reading a book, the Nook will suddenly freeze up, you can't page forward or backwards AND if you want to try the old reliable 'turn it off then back on trick' you learn that you can turn it off only with much difficulty.\n",
      "I've been trying to download a book for 3 hours, and though they have charged me the money for the (expensive) book, it won't download on my nook, and the nook claims there are problems with payment.\n",
      "I purchased the new B/W touch version of the Nook and had intended to use it for lecturing in class when I need to do it from the book.\n",
      "For anyone considering a Nook, I would strongly suggest that you call or try to call Barnes and Noble's customer service to find out how you like dealing with them if you have a problem.\n",
      "Posting here for any who are trying to decide between Nook and Kindle - my 4 1/2 year old Kindle has been dragged all over the world in airplanes and is in and out of my computer bag pretty regularly and still works as perfectly as it did the day I bought it FWIW.\n",
      "I just got off the phone with Barnes and Noble \"Customer Service\" and I've been told there is nothing Barnes and Noble can do regarding upgrading me (I'm even willing to pay the difference in the Nook Simple Touch with Glowlight and the newer Nook Glowlight, which does not appear to have these problems).\n",
      "I charged it like the book said to and in trying to use it the screen flickers and freezes up.\n",
      "she had to  take  time out of  her holiday to return it to a Barnes and noble  very disappointing DO NOT BUY THIS VERSION OF THE NOOK!\n",
      "If you sideload your books (add your own books to a memory card instead of purchasing from Barnes and Noble), everytime you turn the device completely off and on (like in the event of it freezing, like mine's has done more than once) all of your shelves (like collections on Kindle) will erase.\n",
      "It worked like 10 times and turned off forever It broke just a few months after purchasing.\n",
      "I have bought to stero Befree Systems and both of them have the same problem after a week of having them I start hearing this buzzing sound have call customer and there office is never open will never buy any befree products ever agin It makes a loud continual humming noise and only 3 of the 5 speakers will work.\n"
     ]
    }
   ],
   "source": [
    "# Summarize to 1% of the words for high ratings\n",
    "low_rating_summary = summarizer.summarize(' '.join(low_rating_reviews), ratio=0.01)\n",
    "\n",
    "# Printing summary\n",
    "print(low_rating_summary)"
   ]
  }
 ],
 "metadata": {
  "kernelspec": {
   "display_name": "Python 3 (ipykernel)",
   "language": "python",
   "name": "python3"
  },
  "language_info": {
   "codemirror_mode": {
    "name": "ipython",
    "version": 3
   },
   "file_extension": ".py",
   "mimetype": "text/x-python",
   "name": "python",
   "nbconvert_exporter": "python",
   "pygments_lexer": "ipython3",
   "version": "3.11.4"
  }
 },
 "nbformat": 4,
 "nbformat_minor": 5
}
