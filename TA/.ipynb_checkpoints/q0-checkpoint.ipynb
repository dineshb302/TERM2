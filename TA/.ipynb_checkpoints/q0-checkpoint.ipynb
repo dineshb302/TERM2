{
 "cells": [
  {
   "cell_type": "code",
   "execution_count": 1,
   "id": "717b1ff5",
   "metadata": {},
   "outputs": [],
   "source": [
    "import pandas as pd"
   ]
  },
  {
   "cell_type": "markdown",
   "id": "61c07492",
   "metadata": {},
   "source": [
    "# Working with the Amazon Fashion file"
   ]
  },
  {
   "cell_type": "code",
   "execution_count": 2,
   "id": "b5947e74",
   "metadata": {},
   "outputs": [],
   "source": [
    "amazon_fashion = pd.read_json(\"AMAZON_FASHION.json\", encoding = 'utf-8', lines= True) ## Reading the file"
   ]
  },
  {
   "cell_type": "code",
   "execution_count": 3,
   "id": "4ea5e012",
   "metadata": {},
   "outputs": [
    {
     "name": "stdout",
     "output_type": "stream",
     "text": [
      "(883636, 12)\n",
      "   overall  verified   reviewTime      reviewerID        asin  reviewerName  \\\n",
      "0        5      True  10 20, 2014  A1D4G1SNUZWQOT  7106116521         Tracy   \n",
      "1        2      True  09 28, 2014  A3DDWDH9PX2YX2  7106116521     Sonja Lau   \n",
      "2        4     False  08 25, 2014  A2MWC41EW7XL15  7106116521      Kathleen   \n",
      "3        2      True  08 24, 2014  A2UH2QQ275NV45  7106116521   Jodi Stoner   \n",
      "4        3     False  07 27, 2014   A89F3LQADZBS5  7106116521  Alexander D.   \n",
      "\n",
      "                                          reviewText  \\\n",
      "0                             Exactly what I needed.   \n",
      "1  I agree with the other review, the opening is ...   \n",
      "2  Love these... I am going to order another pack...   \n",
      "3                                too tiny an opening   \n",
      "4                                               Okay   \n",
      "\n",
      "                                             summary  unixReviewTime  vote  \\\n",
      "0                             perfect replacements!!      1413763200   NaN   \n",
      "1  I agree with the other review, the opening is ...      1411862400   3.0   \n",
      "2                                My New 'Friends' !!      1408924800   NaN   \n",
      "3                                          Two Stars      1408838400   NaN   \n",
      "4                                        Three Stars      1406419200   NaN   \n",
      "\n",
      "  style image  \n",
      "0   NaN   NaN  \n",
      "1   NaN   NaN  \n",
      "2   NaN   NaN  \n",
      "3   NaN   NaN  \n",
      "4   NaN   NaN  \n"
     ]
    }
   ],
   "source": [
    "print(amazon_fashion.shape)\n",
    "print(amazon_fashion.head(5))"
   ]
  },
  {
   "cell_type": "code",
   "execution_count": 6,
   "id": "6c5470da",
   "metadata": {
    "scrolled": true
   },
   "outputs": [
    {
     "name": "stdout",
     "output_type": "stream",
     "text": [
      "   overall  verified   reviewTime      reviewerID        asin  reviewerName  \\\n",
      "0        5      True  10 20, 2014  A1D4G1SNUZWQOT  7106116521         Tracy   \n",
      "1        2      True  09 28, 2014  A3DDWDH9PX2YX2  7106116521     Sonja Lau   \n",
      "2        4     False  08 25, 2014  A2MWC41EW7XL15  7106116521      Kathleen   \n",
      "3        2      True  08 24, 2014  A2UH2QQ275NV45  7106116521   Jodi Stoner   \n",
      "4        3     False  07 27, 2014   A89F3LQADZBS5  7106116521  Alexander D.   \n",
      "\n",
      "                                          reviewText  \\\n",
      "0                             Exactly what I needed.   \n",
      "1  I agree with the other review, the opening is ...   \n",
      "2  Love these... I am going to order another pack...   \n",
      "3                                too tiny an opening   \n",
      "4                                               Okay   \n",
      "\n",
      "                                             summary  unixReviewTime  vote  \\\n",
      "0                             perfect replacements!!      1413763200   NaN   \n",
      "1  I agree with the other review, the opening is ...      1411862400   3.0   \n",
      "2                                My New 'Friends' !!      1408924800   NaN   \n",
      "3                                          Two Stars      1408838400   NaN   \n",
      "4                                        Three Stars      1406419200   NaN   \n",
      "\n",
      "  style image  \n",
      "0   NaN   NaN  \n",
      "1   NaN   NaN  \n",
      "2   NaN   NaN  \n",
      "3   NaN   NaN  \n",
      "4   NaN   NaN  \n",
      "        overall  verified   reviewTime      reviewerID        asin  \\\n",
      "873636        5      True   05 1, 2017  A32ZCRB8ZAPAY6  B01GU1UW1Y   \n",
      "873637        3      True  04 29, 2017   ADA7UUKZI57QP  B01GU1UW1Y   \n",
      "873638        4      True   02 8, 2017  A25ASX3A7XESV4  B01GU1UW1Y   \n",
      "873639        5      True  03 21, 2017  A1WHFV1S27RI10  B01GTZPRPW   \n",
      "873640        5      True  08 28, 2017  A2Y0SPXTAVOX2W  B01GU1W6JU   \n",
      "\n",
      "           reviewerName                                         reviewText  \\\n",
      "873636        Book Lady                       Perfect loose-fitting shirt.   \n",
      "873637  Amazon Customer  Love the shirt but I need a smaller size.  How...   \n",
      "873638    Sandy Ficarra  The fit was okay, but the neck/collar/shoulder...   \n",
      "873639    Grammy to-3+1                        love  them! would buy again   \n",
      "873640  Amazon Customer                                               Nice   \n",
      "\n",
      "                      summary  unixReviewTime  vote style image  \n",
      "873636       Versatile shirt!      1493596800   NaN   NaN   NaN  \n",
      "873637     Nice but too large      1493424000   NaN   NaN   NaN  \n",
      "873638  Good fit...Odd collar      1486512000   NaN   NaN   NaN  \n",
      "873639     only  brand I wear      1490054400   NaN   NaN   NaN  \n",
      "873640             Five Stars      1503878400   NaN   NaN   NaN  \n"
     ]
    }
   ],
   "source": [
    "first_10k = amazon_fashion.iloc[:10000]\n",
    "print(first_10k.head(5))\n",
    "last_10k  = amazon_fashion.iloc[-10000:]\n",
    "print(last_10k.head(5))"
   ]
  },
  {
   "cell_type": "code",
   "execution_count": 11,
   "id": "befc0b96",
   "metadata": {},
   "outputs": [
    {
     "name": "stdout",
     "output_type": "stream",
     "text": [
      "Shape of amzfsh_20k:  (20000, 12)\n",
      "   overall  verified   reviewTime      reviewerID        asin  reviewerName  \\\n",
      "0        5      True  10 20, 2014  A1D4G1SNUZWQOT  7106116521         Tracy   \n",
      "1        2      True  09 28, 2014  A3DDWDH9PX2YX2  7106116521     Sonja Lau   \n",
      "2        4     False  08 25, 2014  A2MWC41EW7XL15  7106116521      Kathleen   \n",
      "3        2      True  08 24, 2014  A2UH2QQ275NV45  7106116521   Jodi Stoner   \n",
      "4        3     False  07 27, 2014   A89F3LQADZBS5  7106116521  Alexander D.   \n",
      "\n",
      "                                          reviewText  \\\n",
      "0                             Exactly what I needed.   \n",
      "1  I agree with the other review, the opening is ...   \n",
      "2  Love these... I am going to order another pack...   \n",
      "3                                too tiny an opening   \n",
      "4                                               Okay   \n",
      "\n",
      "                                             summary  unixReviewTime  vote  \\\n",
      "0                             perfect replacements!!      1413763200   NaN   \n",
      "1  I agree with the other review, the opening is ...      1411862400   3.0   \n",
      "2                                My New 'Friends' !!      1408924800   NaN   \n",
      "3                                          Two Stars      1408838400   NaN   \n",
      "4                                        Three Stars      1406419200   NaN   \n",
      "\n",
      "  style image  \n",
      "0   NaN   NaN  \n",
      "1   NaN   NaN  \n",
      "2   NaN   NaN  \n",
      "3   NaN   NaN  \n",
      "4   NaN   NaN  \n"
     ]
    }
   ],
   "source": [
    "frames = [first_10k, last_10k]\n",
    "amzfsh_20k = pd.concat(frames)\n",
    "print('Shape of amzfsh_20k: ',amzfsh_20k.shape)\n",
    "print(amzfsh_20k.head(5))"
   ]
  },
  {
   "cell_type": "code",
   "execution_count": 12,
   "id": "9319adc0",
   "metadata": {},
   "outputs": [
    {
     "name": "stdout",
     "output_type": "stream",
     "text": [
      "Shape of amzn_fshn:  (883636, 2)\n",
      "   overall                                         reviewText\n",
      "0        5                             Exactly what I needed.\n",
      "1        2  I agree with the other review, the opening is ...\n",
      "2        4  Love these... I am going to order another pack...\n",
      "3        2                                too tiny an opening\n",
      "4        3                                               Okay\n"
     ]
    }
   ],
   "source": [
    "amzn_fshn = amazon_fashion.get(['overall','reviewText'])\n",
    "print('Shape of amzn_fshn: ', amzn_fshn.shape)\n",
    "print(amzn_fshn.head(5))"
   ]
  },
  {
   "cell_type": "markdown",
   "id": "8d2fd76c",
   "metadata": {},
   "source": [
    "# Working with the Electronics file"
   ]
  },
  {
   "cell_type": "code",
   "execution_count": 13,
   "id": "2e6c0b81",
   "metadata": {},
   "outputs": [
    {
     "name": "stdout",
     "output_type": "stream",
     "text": [
      "Number of chunks:  210\n",
      "Shape of last chunk:  (94353, 12)\n"
     ]
    }
   ],
   "source": [
    "Electronics = pd.read_json(\"Electronics.json\",encoding = 'utf-8', lines= True, chunksize = 100000)\n",
    "i = 0\n",
    "for chunk in Electronics:\n",
    "    i = i + 1\n",
    "    shape = chunk.shape\n",
    "\n",
    "print(\"Number of chunks: \", i)        # this gives us the total number of chunks\n",
    "print('Shape of last chunk: ', shape) # this will give us the number of records in the last chunk"
   ]
  },
  {
   "cell_type": "raw",
   "id": "849b2599",
   "metadata": {},
   "source": [
    "# Now, the file was divided into 210 chunks. \n",
    "# No. of records = 209 * 100000 + 94353 = 20,994,353"
   ]
  },
  {
   "cell_type": "code",
   "execution_count": 14,
   "id": "355d134f",
   "metadata": {},
   "outputs": [],
   "source": [
    "Electronics = pd.read_json(\"Electronics.json\",encoding = 'utf-8', lines= True, chunksize = 100000)\n",
    "i=0\n",
    "for chunk in Electronics:\n",
    "    i=i+1\n",
    "    if (i==1):       #fisrt chunk, so get the first 10k from\n",
    "        data1 = chunk\n",
    "    elif (i==210):   #last chunk, so get the last 10k from\n",
    "        data2 = chunk\n",
    "\n",
    "data1 = pd.DataFrame(data1)\n",
    "data2 = pd.DataFrame(data2)"
   ]
  },
  {
   "cell_type": "code",
   "execution_count": 15,
   "id": "b5368965",
   "metadata": {},
   "outputs": [
    {
     "name": "stdout",
     "output_type": "stream",
     "text": [
      "Shape of data1:  (100000, 12)\n",
      "   overall  verified   reviewTime      reviewerID        asin  \\\n",
      "0        5      True  07 17, 2002  A1N070NS9CJQ2I  0060009810   \n",
      "1        5     False   07 6, 2002  A3P0KRKOBQK1KN  0060009810   \n",
      "2        5     False   07 3, 2002  A192HO2ICJ75VU  0060009810   \n",
      "3        4     False  06 30, 2002  A2T278FKFL3BLT  0060009810   \n",
      "4        5     False  06 28, 2002  A2ZUXVTW8RXBXW  0060009810   \n",
      "\n",
      "                       style reviewerName  \\\n",
      "0  {'Format:': ' Hardcover'}   Teri Adams   \n",
      "1  {'Format:': ' Hardcover'}     Willa C.   \n",
      "2  {'Format:': ' Hardcover'}          Kit   \n",
      "3  {'Format:': ' Hardcover'}       Andres   \n",
      "4  {'Format:': ' Hardcover'}         John   \n",
      "\n",
      "                                          reviewText  \\\n",
      "0  This was the first time I read Garcia-Aguilera...   \n",
      "1  As with all of Ms. Garcia-Aguilera's books, I ...   \n",
      "2  I've not read any of Ms Aguilera's works befor...   \n",
      "3  This romance novel is right up there with the ...   \n",
      "4  Carolina Garcia Aguilera has done it again.  S...   \n",
      "\n",
      "                          summary  unixReviewTime vote image  \n",
      "0                   Hit The Spot!      1026864000  NaN   NaN  \n",
      "1  one hot summer is HOT HOT HOT!      1025913600  NaN   NaN  \n",
      "2                  One Hot Summer      1025654400    2   NaN  \n",
      "3               I love this book!      1025395200    3   NaN  \n",
      "4                    One Hot Book      1025222400  NaN   NaN  \n",
      "Shape of data2:  (94353, 12)\n",
      "          overall  verified   reviewTime      reviewerID        asin  \\\n",
      "20994348        1      True  04 29, 2017  A1RH0C7YHWZQER  B01HJF704M   \n",
      "20994349        5      True  04 17, 2017   A2955VBJEJZ4S  B01HJF704M   \n",
      "20994350        5      True  03 31, 2017  A1FGCIRPRNZWD5  B01HJF704M   \n",
      "20994351        5      True  02 16, 2017   AOEG7L8HI8DXJ  B01HJF704M   \n",
      "20994352        5      True  02 11, 2017  A1BXCUK9AT7KWG  B01HJF704M   \n",
      "\n",
      "           reviewerName                                         reviewText  \\\n",
      "20994348  Randy Garmire  Had it 1 day and it quit working, will be retu...   \n",
      "20994349            BJN  Received item in 2 days. Product worked as adv...   \n",
      "20994350         Brando  I have it plugged into a usb extension on my g...   \n",
      "20994351           Mack            Fast delivery product was simple to use   \n",
      "20994352         Clancy         Working as advertised, so far no problems.   \n",
      "\n",
      "                              summary  unixReviewTime image style  vote  \n",
      "20994348                         JUNK      1493424000   NaN   NaN   NaN  \n",
      "20994349  Instructions easy and clear      1492387200   NaN   NaN   NaN  \n",
      "20994350          Works well enough..      1490918400   NaN   NaN   NaN  \n",
      "20994351                 Good product      1487203200   NaN   NaN   NaN  \n",
      "20994352                   Five Stars      1486771200   NaN   NaN   NaN  \n"
     ]
    }
   ],
   "source": [
    "print('Shape of data1: ',data1.shape)\n",
    "print(data1.head(5))\n",
    "print('Shape of data2: ',data2.shape)\n",
    "print(data2.tail(5))"
   ]
  },
  {
   "cell_type": "code",
   "execution_count": 21,
   "id": "35127318",
   "metadata": {},
   "outputs": [
    {
     "name": "stdout",
     "output_type": "stream",
     "text": [
      "(10000, 12)\n",
      "   overall  verified   reviewTime      reviewerID        asin  \\\n",
      "0        5      True  07 17, 2002  A1N070NS9CJQ2I  0060009810   \n",
      "1        5     False   07 6, 2002  A3P0KRKOBQK1KN  0060009810   \n",
      "2        5     False   07 3, 2002  A192HO2ICJ75VU  0060009810   \n",
      "3        4     False  06 30, 2002  A2T278FKFL3BLT  0060009810   \n",
      "4        5     False  06 28, 2002  A2ZUXVTW8RXBXW  0060009810   \n",
      "\n",
      "                       style reviewerName  \\\n",
      "0  {'Format:': ' Hardcover'}   Teri Adams   \n",
      "1  {'Format:': ' Hardcover'}     Willa C.   \n",
      "2  {'Format:': ' Hardcover'}          Kit   \n",
      "3  {'Format:': ' Hardcover'}       Andres   \n",
      "4  {'Format:': ' Hardcover'}         John   \n",
      "\n",
      "                                          reviewText  \\\n",
      "0  This was the first time I read Garcia-Aguilera...   \n",
      "1  As with all of Ms. Garcia-Aguilera's books, I ...   \n",
      "2  I've not read any of Ms Aguilera's works befor...   \n",
      "3  This romance novel is right up there with the ...   \n",
      "4  Carolina Garcia Aguilera has done it again.  S...   \n",
      "\n",
      "                          summary  unixReviewTime vote image  \n",
      "0                   Hit The Spot!      1026864000  NaN   NaN  \n",
      "1  one hot summer is HOT HOT HOT!      1025913600  NaN   NaN  \n",
      "2                  One Hot Summer      1025654400    2   NaN  \n",
      "3               I love this book!      1025395200    3   NaN  \n",
      "4                    One Hot Book      1025222400  NaN   NaN  \n",
      "(10000, 12)\n",
      "          overall  verified   reviewTime      reviewerID        asin  \\\n",
      "20994348        1      True  04 29, 2017  A1RH0C7YHWZQER  B01HJF704M   \n",
      "20994349        5      True  04 17, 2017   A2955VBJEJZ4S  B01HJF704M   \n",
      "20994350        5      True  03 31, 2017  A1FGCIRPRNZWD5  B01HJF704M   \n",
      "20994351        5      True  02 16, 2017   AOEG7L8HI8DXJ  B01HJF704M   \n",
      "20994352        5      True  02 11, 2017  A1BXCUK9AT7KWG  B01HJF704M   \n",
      "\n",
      "           reviewerName                                         reviewText  \\\n",
      "20994348  Randy Garmire  Had it 1 day and it quit working, will be retu...   \n",
      "20994349            BJN  Received item in 2 days. Product worked as adv...   \n",
      "20994350         Brando  I have it plugged into a usb extension on my g...   \n",
      "20994351           Mack            Fast delivery product was simple to use   \n",
      "20994352         Clancy         Working as advertised, so far no problems.   \n",
      "\n",
      "                              summary  unixReviewTime image style  vote  \n",
      "20994348                         JUNK      1493424000   NaN   NaN   NaN  \n",
      "20994349  Instructions easy and clear      1492387200   NaN   NaN   NaN  \n",
      "20994350          Works well enough..      1490918400   NaN   NaN   NaN  \n",
      "20994351                 Good product      1487203200   NaN   NaN   NaN  \n",
      "20994352                   Five Stars      1486771200   NaN   NaN   NaN  \n"
     ]
    }
   ],
   "source": [
    "first_10k = data1.iloc[:10000]\n",
    "print(first_10k.shape)\n",
    "print(first_10k.head(5))\n",
    "last_10k = data2.iloc[-10000:]\n",
    "print(last_10k.shape)\n",
    "print(last_10k.tail(5))"
   ]
  },
  {
   "cell_type": "code",
   "execution_count": 22,
   "id": "2418ec51",
   "metadata": {},
   "outputs": [
    {
     "name": "stdout",
     "output_type": "stream",
     "text": [
      "(20000, 12)\n",
      "   overall  verified   reviewTime      reviewerID        asin  \\\n",
      "0        5      True  07 17, 2002  A1N070NS9CJQ2I  0060009810   \n",
      "1        5     False   07 6, 2002  A3P0KRKOBQK1KN  0060009810   \n",
      "2        5     False   07 3, 2002  A192HO2ICJ75VU  0060009810   \n",
      "3        4     False  06 30, 2002  A2T278FKFL3BLT  0060009810   \n",
      "4        5     False  06 28, 2002  A2ZUXVTW8RXBXW  0060009810   \n",
      "\n",
      "                       style reviewerName  \\\n",
      "0  {'Format:': ' Hardcover'}   Teri Adams   \n",
      "1  {'Format:': ' Hardcover'}     Willa C.   \n",
      "2  {'Format:': ' Hardcover'}          Kit   \n",
      "3  {'Format:': ' Hardcover'}       Andres   \n",
      "4  {'Format:': ' Hardcover'}         John   \n",
      "\n",
      "                                          reviewText  \\\n",
      "0  This was the first time I read Garcia-Aguilera...   \n",
      "1  As with all of Ms. Garcia-Aguilera's books, I ...   \n",
      "2  I've not read any of Ms Aguilera's works befor...   \n",
      "3  This romance novel is right up there with the ...   \n",
      "4  Carolina Garcia Aguilera has done it again.  S...   \n",
      "\n",
      "                          summary  unixReviewTime vote image  \n",
      "0                   Hit The Spot!      1026864000  NaN   NaN  \n",
      "1  one hot summer is HOT HOT HOT!      1025913600  NaN   NaN  \n",
      "2                  One Hot Summer      1025654400    2   NaN  \n",
      "3               I love this book!      1025395200    3   NaN  \n",
      "4                    One Hot Book      1025222400  NaN   NaN  \n"
     ]
    }
   ],
   "source": [
    "frames = [first_10k, last_10k]\n",
    "elec_20k = pd.concat(frames)\n",
    "print(elec_20k.shape)\n",
    "print(elec_20k.head(5))"
   ]
  },
  {
   "cell_type": "code",
   "execution_count": 23,
   "id": "eb8c9773",
   "metadata": {},
   "outputs": [
    {
     "name": "stdout",
     "output_type": "stream",
     "text": [
      "(20000, 2)\n",
      "   overall                                         reviewText\n",
      "0        5  This was the first time I read Garcia-Aguilera...\n",
      "1        5  As with all of Ms. Garcia-Aguilera's books, I ...\n",
      "2        5  I've not read any of Ms Aguilera's works befor...\n",
      "3        4  This romance novel is right up there with the ...\n",
      "4        5  Carolina Garcia Aguilera has done it again.  S...\n"
     ]
    }
   ],
   "source": [
    "elec_rvw = elec_20k.get(['overall','reviewText'])\n",
    "print(elec_rvw.shape)\n",
    "print(elec_rvw.head(5))"
   ]
  },
  {
   "cell_type": "code",
   "execution_count": 24,
   "id": "1c4065f5",
   "metadata": {
    "scrolled": true
   },
   "outputs": [
    {
     "name": "stdout",
     "output_type": "stream",
     "text": [
      "Shape of amzfsh_20k:  (20000, 12)\n",
      "Shape of elec_20k:  (20000, 12)\n",
      "Shape of combined_datset:  (40000, 12)\n",
      "   overall  verified   reviewTime      reviewerID        asin  reviewerName  \\\n",
      "0        5      True  10 20, 2014  A1D4G1SNUZWQOT  7106116521         Tracy   \n",
      "1        2      True  09 28, 2014  A3DDWDH9PX2YX2  7106116521     Sonja Lau   \n",
      "2        4     False  08 25, 2014  A2MWC41EW7XL15  7106116521      Kathleen   \n",
      "3        2      True  08 24, 2014  A2UH2QQ275NV45  7106116521   Jodi Stoner   \n",
      "4        3     False  07 27, 2014   A89F3LQADZBS5  7106116521  Alexander D.   \n",
      "\n",
      "                                          reviewText  \\\n",
      "0                             Exactly what I needed.   \n",
      "1  I agree with the other review, the opening is ...   \n",
      "2  Love these... I am going to order another pack...   \n",
      "3                                too tiny an opening   \n",
      "4                                               Okay   \n",
      "\n",
      "                                             summary  unixReviewTime vote  \\\n",
      "0                             perfect replacements!!      1413763200  NaN   \n",
      "1  I agree with the other review, the opening is ...      1411862400  3.0   \n",
      "2                                My New 'Friends' !!      1408924800  NaN   \n",
      "3                                          Two Stars      1408838400  NaN   \n",
      "4                                        Three Stars      1406419200  NaN   \n",
      "\n",
      "  style image  \n",
      "0   NaN   NaN  \n",
      "1   NaN   NaN  \n",
      "2   NaN   NaN  \n",
      "3   NaN   NaN  \n",
      "4   NaN   NaN  \n"
     ]
    }
   ],
   "source": [
    "print('Shape of amzfsh_20k: ', amzfsh_20k.shape)\n",
    "print('Shape of elec_20k: ', elec_20k.shape)\n",
    "frames = [amzfsh_20k, elec_20k]\n",
    "combined_dataset = pd.concat(frames)\n",
    "print('Shape of combined_datset: ', combined_dataset.shape)\n",
    "print(combined_dataset.head(5))"
   ]
  },
  {
   "cell_type": "code",
   "execution_count": 25,
   "id": "ada7dc41",
   "metadata": {},
   "outputs": [],
   "source": [
    "file_df = pd.DataFrame.from_dict(combined_dataset)\n",
    "file_df.to_csv('Combined_Categories_dataset.csv', index=False, sep=',')"
   ]
  }
 ],
 "metadata": {
  "kernelspec": {
   "display_name": "Python 3 (ipykernel)",
   "language": "python",
   "name": "python3"
  },
  "language_info": {
   "codemirror_mode": {
    "name": "ipython",
    "version": 3
   },
   "file_extension": ".py",
   "mimetype": "text/x-python",
   "name": "python",
   "nbconvert_exporter": "python",
   "pygments_lexer": "ipython3",
   "version": "3.11.4"
  }
 },
 "nbformat": 4,
 "nbformat_minor": 5
}
