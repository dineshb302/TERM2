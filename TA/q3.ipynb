{
 "cells": [
  {
   "cell_type": "code",
   "execution_count": 1,
   "id": "2ee8fb73",
   "metadata": {},
   "outputs": [],
   "source": [
    "# Importing dependencies\n",
    "import pandas as pd\n",
    "import string\n",
    "import re\n",
    "import sys\n",
    "from sklearn.feature_extraction.text import TfidfVectorizer\n",
    "import warnings\n",
    "warnings.filterwarnings('ignore')\n",
    "import spacy\n",
    "nlp_spacy = spacy.load(\"en_core_web_sm\")"
   ]
  },
  {
   "cell_type": "code",
   "execution_count": 2,
   "id": "7d625abc",
   "metadata": {},
   "outputs": [
    {
     "data": {
      "text/html": [
       "<div>\n",
       "<style scoped>\n",
       "    .dataframe tbody tr th:only-of-type {\n",
       "        vertical-align: middle;\n",
       "    }\n",
       "\n",
       "    .dataframe tbody tr th {\n",
       "        vertical-align: top;\n",
       "    }\n",
       "\n",
       "    .dataframe thead th {\n",
       "        text-align: right;\n",
       "    }\n",
       "</style>\n",
       "<table border=\"1\" class=\"dataframe\">\n",
       "  <thead>\n",
       "    <tr style=\"text-align: right;\">\n",
       "      <th></th>\n",
       "      <th>overall</th>\n",
       "      <th>verified</th>\n",
       "      <th>reviewTime</th>\n",
       "      <th>reviewerID</th>\n",
       "      <th>asin</th>\n",
       "      <th>reviewerName</th>\n",
       "      <th>reviewText</th>\n",
       "      <th>summary</th>\n",
       "      <th>unixReviewTime</th>\n",
       "      <th>vote</th>\n",
       "      <th>style</th>\n",
       "      <th>image</th>\n",
       "    </tr>\n",
       "  </thead>\n",
       "  <tbody>\n",
       "    <tr>\n",
       "      <th>0</th>\n",
       "      <td>5</td>\n",
       "      <td>True</td>\n",
       "      <td>10 20, 2014</td>\n",
       "      <td>A1D4G1SNUZWQOT</td>\n",
       "      <td>7106116521</td>\n",
       "      <td>Tracy</td>\n",
       "      <td>Exactly what I needed.</td>\n",
       "      <td>perfect replacements!!</td>\n",
       "      <td>1413763200</td>\n",
       "      <td>NaN</td>\n",
       "      <td>NaN</td>\n",
       "      <td>NaN</td>\n",
       "    </tr>\n",
       "    <tr>\n",
       "      <th>1</th>\n",
       "      <td>2</td>\n",
       "      <td>True</td>\n",
       "      <td>09 28, 2014</td>\n",
       "      <td>A3DDWDH9PX2YX2</td>\n",
       "      <td>7106116521</td>\n",
       "      <td>Sonja Lau</td>\n",
       "      <td>I agree with the other review, the opening is ...</td>\n",
       "      <td>I agree with the other review, the opening is ...</td>\n",
       "      <td>1411862400</td>\n",
       "      <td>3.0</td>\n",
       "      <td>NaN</td>\n",
       "      <td>NaN</td>\n",
       "    </tr>\n",
       "  </tbody>\n",
       "</table>\n",
       "</div>"
      ],
      "text/plain": [
       "   overall  verified   reviewTime      reviewerID        asin reviewerName  \\\n",
       "0        5      True  10 20, 2014  A1D4G1SNUZWQOT  7106116521        Tracy   \n",
       "1        2      True  09 28, 2014  A3DDWDH9PX2YX2  7106116521    Sonja Lau   \n",
       "\n",
       "                                          reviewText  \\\n",
       "0                             Exactly what I needed.   \n",
       "1  I agree with the other review, the opening is ...   \n",
       "\n",
       "                                             summary  unixReviewTime vote  \\\n",
       "0                             perfect replacements!!      1413763200  NaN   \n",
       "1  I agree with the other review, the opening is ...      1411862400  3.0   \n",
       "\n",
       "  style image  \n",
       "0   NaN   NaN  \n",
       "1   NaN   NaN  "
      ]
     },
     "execution_count": 2,
     "metadata": {},
     "output_type": "execute_result"
    }
   ],
   "source": [
    "# Reading combined data\n",
    "comb_data=pd.read_csv(r\"Combined_Categories_dataset.csv\")\n",
    "comb_data.head(2)"
   ]
  },
  {
   "cell_type": "code",
   "execution_count": 3,
   "id": "c54818a8",
   "metadata": {},
   "outputs": [
    {
     "data": {
      "text/html": [
       "<div>\n",
       "<style scoped>\n",
       "    .dataframe tbody tr th:only-of-type {\n",
       "        vertical-align: middle;\n",
       "    }\n",
       "\n",
       "    .dataframe tbody tr th {\n",
       "        vertical-align: top;\n",
       "    }\n",
       "\n",
       "    .dataframe thead th {\n",
       "        text-align: right;\n",
       "    }\n",
       "</style>\n",
       "<table border=\"1\" class=\"dataframe\">\n",
       "  <thead>\n",
       "    <tr style=\"text-align: right;\">\n",
       "      <th></th>\n",
       "      <th>reviewText</th>\n",
       "    </tr>\n",
       "  </thead>\n",
       "  <tbody>\n",
       "    <tr>\n",
       "      <th>0</th>\n",
       "      <td>Exactly what I needed.</td>\n",
       "    </tr>\n",
       "    <tr>\n",
       "      <th>1</th>\n",
       "      <td>I agree with the other review, the opening is ...</td>\n",
       "    </tr>\n",
       "    <tr>\n",
       "      <th>2</th>\n",
       "      <td>Love these... I am going to order another pack...</td>\n",
       "    </tr>\n",
       "    <tr>\n",
       "      <th>3</th>\n",
       "      <td>too tiny an opening</td>\n",
       "    </tr>\n",
       "    <tr>\n",
       "      <th>4</th>\n",
       "      <td>Okay</td>\n",
       "    </tr>\n",
       "    <tr>\n",
       "      <th>5</th>\n",
       "      <td>Exactly what I wanted.</td>\n",
       "    </tr>\n",
       "    <tr>\n",
       "      <th>6</th>\n",
       "      <td>These little plastic backs work great.  No mor...</td>\n",
       "    </tr>\n",
       "    <tr>\n",
       "      <th>7</th>\n",
       "      <td>mother - in - law wanted it as a present for h...</td>\n",
       "    </tr>\n",
       "    <tr>\n",
       "      <th>8</th>\n",
       "      <td>Item is of good quality. Looks great, too. But...</td>\n",
       "    </tr>\n",
       "    <tr>\n",
       "      <th>9</th>\n",
       "      <td>I had used my last el-cheapo fake leather ciga...</td>\n",
       "    </tr>\n",
       "  </tbody>\n",
       "</table>\n",
       "</div>"
      ],
      "text/plain": [
       "                                          reviewText\n",
       "0                             Exactly what I needed.\n",
       "1  I agree with the other review, the opening is ...\n",
       "2  Love these... I am going to order another pack...\n",
       "3                                too tiny an opening\n",
       "4                                               Okay\n",
       "5                             Exactly what I wanted.\n",
       "6  These little plastic backs work great.  No mor...\n",
       "7  mother - in - law wanted it as a present for h...\n",
       "8  Item is of good quality. Looks great, too. But...\n",
       "9  I had used my last el-cheapo fake leather ciga..."
      ]
     },
     "execution_count": 3,
     "metadata": {},
     "output_type": "execute_result"
    }
   ],
   "source": [
    "reviews=comb_data[['reviewText']]\n",
    "reviews.head(10)"
   ]
  },
  {
   "cell_type": "markdown",
   "id": "36a9bf14",
   "metadata": {},
   "source": [
    "# Take the first 10  review texts each from both the categories (20 samples in total)."
   ]
  },
  {
   "cell_type": "code",
   "execution_count": 4,
   "id": "e3c37362",
   "metadata": {},
   "outputs": [],
   "source": [
    "# Getting 10 reviews from each category\n",
    "reviews_10_amazon = reviews.iloc[0:10]\n",
    "reviews_10_electronics = reviews.iloc[20000:20010]\n",
    "reviews_20 = pd.concat([reviews_10_amazon, reviews_10_electronics], ignore_index=True)"
   ]
  },
  {
   "cell_type": "code",
   "execution_count": 5,
   "id": "3292216f",
   "metadata": {},
   "outputs": [
    {
     "name": "stdout",
     "output_type": "stream",
     "text": [
      "                                           reviewText\n",
      "0                              Exactly what I needed.\n",
      "1   I agree with the other review, the opening is ...\n",
      "2   Love these... I am going to order another pack...\n",
      "3                                 too tiny an opening\n",
      "4                                                Okay\n",
      "5                              Exactly what I wanted.\n",
      "6   These little plastic backs work great.  No mor...\n",
      "7   mother - in - law wanted it as a present for h...\n",
      "8   Item is of good quality. Looks great, too. But...\n",
      "9   I had used my last el-cheapo fake leather ciga...\n",
      "10  This was the first time I read Garcia-Aguilera...\n",
      "11  As with all of Ms. Garcia-Aguilera's books, I ...\n",
      "12  I've not read any of Ms Aguilera's works befor...\n",
      "13  This romance novel is right up there with the ...\n",
      "14  Carolina Garcia Aguilera has done it again.  S...\n",
      "15  Not only can she write mysteries,but she sure ...\n",
      "16  Once again Garcia-Aguilera has written a book ...\n",
      "17  The timing is just right for a good book. Actu...\n",
      "18  Engaging. Dark. Reading the book you could alm...\n",
      "19  Set amid the backdrop of New York City's imper...\n"
     ]
    }
   ],
   "source": [
    "print(reviews_20)"
   ]
  },
  {
   "cell_type": "code",
   "execution_count": 6,
   "id": "34eb4d52",
   "metadata": {},
   "outputs": [
    {
     "name": "stdout",
     "output_type": "stream",
     "text": [
      "      Review_ID     Token     Lemma    POS\n",
      "0             0   Exactly   exactly    ADV\n",
      "1             0      what      what   PRON\n",
      "2             0         I         I   PRON\n",
      "3             0    needed      need   VERB\n",
      "4             0         .         .  PUNCT\n",
      "...         ...       ...       ...    ...\n",
      "1752         19        by        by    ADP\n",
      "1753         19   Phyllis   Phyllis  PROPN\n",
      "1754         19      \\n\\n      \\n\\n  SPACE\n",
      "1755         19     APOOO     APOOO  PROPN\n",
      "1756         19  BookClub  BookClub  PROPN\n",
      "\n",
      "[1757 rows x 4 columns]\n"
     ]
    }
   ],
   "source": [
    "# Function to process text\n",
    "def process_text(review_id, text):\n",
    "    doc = nlp_spacy(text)\n",
    "    tokens_info = [(review_id, token.text, token.lemma_, token.pos_) for token in doc]\n",
    "    return tokens_info\n",
    "\n",
    "# Apply the processing function to each row in the dataframe\n",
    "results = []\n",
    "for i in range(reviews_20.shape[0]):\n",
    "    review_id = i  # Assuming the index starts from 0\n",
    "    text=reviews_20['reviewText'].iloc[i]\n",
    "    tokens_info = process_text(review_id, text)\n",
    "    results.extend(tokens_info)\n",
    "\n",
    "# Convert the results to a new dataframe\n",
    "result_df = pd.DataFrame(results, columns=['Review_ID', 'Token', 'Lemma', 'POS'])\n",
    "\n",
    "# Display the result dataframe\n",
    "print(result_df)"
   ]
  }
 ],
 "metadata": {
  "kernelspec": {
   "display_name": "Python 3 (ipykernel)",
   "language": "python",
   "name": "python3"
  },
  "language_info": {
   "codemirror_mode": {
    "name": "ipython",
    "version": 3
   },
   "file_extension": ".py",
   "mimetype": "text/x-python",
   "name": "python",
   "nbconvert_exporter": "python",
   "pygments_lexer": "ipython3",
   "version": "3.11.4"
  }
 },
 "nbformat": 4,
 "nbformat_minor": 5
}
