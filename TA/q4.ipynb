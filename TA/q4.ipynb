{
 "cells": [
  {
   "cell_type": "code",
   "execution_count": 1,
   "id": "7abea05a",
   "metadata": {},
   "outputs": [],
   "source": [
    "import pandas as pd\n",
    "import string\n",
    "import re\n",
    "from sklearn.model_selection import train_test_split\n",
    "from sklearn.feature_extraction.text import TfidfVectorizer\n",
    "from sklearn.naive_bayes import MultinomialNB\n",
    "from sklearn.metrics import classification_report, accuracy_score\n",
    "import warnings\n",
    "warnings.filterwarnings('ignore')\n",
    "import spacy\n",
    "nlp = spacy.load(\"en_core_web_sm\")"
   ]
  },
  {
   "cell_type": "code",
   "execution_count": 2,
   "id": "82ce443d",
   "metadata": {},
   "outputs": [],
   "source": [
    "#read the combined data\n",
    "cmb_data = pd.read_csv(r'C:\\Users\\Sithalrao\\Downloads\\combined_data_11.csv')"
   ]
  },
  {
   "cell_type": "code",
   "execution_count": 3,
   "id": "99ed8b72",
   "metadata": {},
   "outputs": [],
   "source": [
    "cmb_data['reviewText'] = cmb_data['reviewText'].astype(str)"
   ]
  },
  {
   "cell_type": "code",
   "execution_count": 4,
   "id": "74e5a1cd",
   "metadata": {},
   "outputs": [],
   "source": [
    "# Split train and test\n",
    "train_data, test_data = train_test_split(cmb_data, test_size=0.2, random_state=42)\n",
    "\n",
    "# for the category overall if x==5 label it as 1 and rest all as 0\n",
    "train_data['binary_labels'] = train_data['overall'].apply(lambda x: 1 if x == 5 else 0)\n",
    "test_data['binary_labels'] = test_data['overall'].apply(lambda x: 1 if x == 5 else 0)\n"
   ]
  },
  {
   "cell_type": "code",
   "execution_count": 5,
   "id": "4ba71537",
   "metadata": {},
   "outputs": [],
   "source": [
    "# TFIDF features (with 50K vocabulary) \n",
    "vectorizer = TfidfVectorizer(max_features=50000)\n",
    "X_train = vectorizer.fit_transform(train_data['reviewText'])\n",
    "X_test = vectorizer.transform(test_data['reviewText'])\n"
   ]
  },
  {
   "cell_type": "markdown",
   "id": "c3b08c15",
   "metadata": {},
   "source": [
    "# Applying Multinomial Naïve Bayes model "
   ]
  },
  {
   "cell_type": "code",
   "execution_count": 13,
   "id": "52cc8dae",
   "metadata": {},
   "outputs": [],
   "source": [
    "binary = MultinomialNB()\n",
    "binary.fit(X_train, train_data['binary_labels'])\n",
    "binary_pred = binary.predict(X_test)"
   ]
  },
  {
   "cell_type": "markdown",
   "id": "382a2536",
   "metadata": {},
   "source": [
    "# binary classification"
   ]
  },
  {
   "cell_type": "code",
   "execution_count": 20,
   "id": "47c4e18e",
   "metadata": {},
   "outputs": [
    {
     "name": "stdout",
     "output_type": "stream",
     "text": [
      "Binary classification problem report:\n",
      "              precision    recall  f1-score   support\n",
      "\n",
      "           0       0.83      0.79      0.81     83750\n",
      "           1       0.82      0.85      0.83     92978\n",
      "\n",
      "    accuracy                           0.82    176728\n",
      "   macro avg       0.82      0.82      0.82    176728\n",
      "weighted avg       0.82      0.82      0.82    176728\n",
      "\n",
      "Accuracy: 0.8223428092888506\n"
     ]
    }
   ],
   "source": [
    "print(\"Binary classification problem report:\")\n",
    "print(classification_report(test_data['binary_labels'], binary_pred))\n",
    "print(\"Accuracy:\", accuracy_score(test_data['binary_labels'], binary_pred))\n"
   ]
  },
  {
   "cell_type": "markdown",
   "id": "3fc6d492",
   "metadata": {},
   "source": [
    "# five-class classification"
   ]
  },
  {
   "cell_type": "code",
   "execution_count": 17,
   "id": "08cea833",
   "metadata": {},
   "outputs": [],
   "source": [
    "five_multiclass = MultinomialNB()\n",
    "five_multiclass.fit(X_train, train_data['overall'])\n",
    "five_multiclass_pred = five_multiclass.predict(X_test)"
   ]
  },
  {
   "cell_type": "code",
   "execution_count": 23,
   "id": "ed34748c",
   "metadata": {},
   "outputs": [
    {
     "name": "stdout",
     "output_type": "stream",
     "text": [
      "Five Class Classification problem report:\n",
      "              precision    recall  f1-score   support\n",
      "\n",
      "         1.0       0.66      0.59      0.62     21625\n",
      "         2.0       0.45      0.00      0.01     13048\n",
      "         3.0       0.38      0.11      0.17     19333\n",
      "         4.0       0.41      0.16      0.23     29744\n",
      "         5.0       0.65      0.97      0.78     92978\n",
      "\n",
      "    accuracy                           0.62    176728\n",
      "   macro avg       0.51      0.37      0.36    176728\n",
      "weighted avg       0.56      0.62      0.54    176728\n",
      "\n",
      "Accuracy: 0.6233590602507809\n"
     ]
    }
   ],
   "source": [
    "print(\"Five Class Classification problem report:\")\n",
    "print(classification_report(test_data['overall'], five_multiclass_pred))\n",
    "print(\"Accuracy:\", accuracy_score(test_data['overall'], five_multiclass_pred))"
   ]
  }
 ],
 "metadata": {
  "kernelspec": {
   "display_name": "Python 3 (ipykernel)",
   "language": "python",
   "name": "python3"
  },
  "language_info": {
   "codemirror_mode": {
    "name": "ipython",
    "version": 3
   },
   "file_extension": ".py",
   "mimetype": "text/x-python",
   "name": "python",
   "nbconvert_exporter": "python",
   "pygments_lexer": "ipython3",
   "version": "3.10.9"
  }
 },
 "nbformat": 4,
 "nbformat_minor": 5
}
