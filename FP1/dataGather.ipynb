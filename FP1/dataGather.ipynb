{
 "cells": [
  {
   "cell_type": "code",
   "execution_count": null,
   "id": "ed73c458",
   "metadata": {},
   "outputs": [],
   "source": [
    "#!pip install newsapi-python\n",
    "#!pip install jugaad-data"
   ]
  },
  {
   "cell_type": "code",
   "execution_count": 11,
   "id": "0ca51df3",
   "metadata": {},
   "outputs": [],
   "source": [
    "# Importing libraries\n",
    "\n",
    "from newsapi import NewsApiClient\n",
    "import pandas as pd\n",
    "from datetime import date\n",
    "from jugaad_data.nse import stock_df"
   ]
  },
  {
   "cell_type": "code",
   "execution_count": 12,
   "id": "aedfa6e3",
   "metadata": {},
   "outputs": [],
   "source": [
    "# News api key \n",
    "\n",
    "newsapi = NewsApiClient(api_key='80f4fb54f04940d897dc1e50f981e194')"
   ]
  },
  {
   "cell_type": "code",
   "execution_count": 13,
   "id": "0d66bcf8",
   "metadata": {},
   "outputs": [],
   "source": [
    "# Get if day was profitable or not \n",
    "\n",
    "def getResult(row):\n",
    "    outPut = 0\n",
    "    if (row['OPEN']-row['CLOSE'] > 0):\n",
    "        outPut = 1\n",
    "    return outPut"
   ]
  },
  {
   "cell_type": "code",
   "execution_count": 14,
   "id": "9f27e94d",
   "metadata": {},
   "outputs": [],
   "source": [
    "# Add result in each row\n",
    "\n",
    "def process_row(row, df_result):\n",
    "    filtered_df = df_result.loc[(df_result['date'] == row['date'])]\n",
    "    if not filtered_df.empty:\n",
    "        # If there are matching rows, return the first 'result' value\n",
    "        return filtered_df['result'].iloc[0]\n",
    "    else:\n",
    "        # If no matching rows, return a default value or handle the case accordingly\n",
    "        return None"
   ]
  },
  {
   "cell_type": "code",
   "execution_count": 15,
   "id": "250ccb47",
   "metadata": {},
   "outputs": [],
   "source": [
    "stockList = [\n",
    "    {\n",
    "        \"queryName\" : 'HDFC Bank Ltd OR HDFC',\n",
    "        \"stockName\" : 'HDFCBANK'\n",
    "    },\n",
    "    {\n",
    "        \"queryName\" : 'HCL Technologies Ltd OR HCL Technologies',\n",
    "        \"stockName\" : 'HCLTECH'\n",
    "    },\n",
    "    {\n",
    "        \"queryName\" : 'Sun Pharmaceutical Industries Ltd',\n",
    "        \"stockName\" : 'SUNPHARMA'\n",
    "    },\n",
    "    {\n",
    "        \"queryName\" : 'Tata Motors Ltd',\n",
    "        \"stockName\" : 'TATAMTRDVR'\n",
    "    },\n",
    "    {\n",
    "        \"queryName\" : 'Zomato Ltd',\n",
    "        \"stockName\" : 'ZOMATO'\n",
    "    },\n",
    "    {\n",
    "        \"queryName\" : 'ICICI Lombard General Insurance Company Ltd',\n",
    "        \"stockName\" : 'ICICIGI'\n",
    "    },\n",
    "    {\n",
    "        \"queryName\" : 'Shriram Finance Ltd',\n",
    "        \"stockName\" : 'SHRIRAMFIN'\n",
    "    },\n",
    "    {\n",
    "        \"queryName\" : 'DLF Ltd',\n",
    "        \"stockName\" : 'DLF'\n",
    "    },\n",
    "    {\n",
    "        \"queryName\" : 'Oil & Natural Gas Corporation Ltd',\n",
    "        \"stockName\" : 'ONGC'\n",
    "    },\n",
    "    {\n",
    "        \"queryName\" : 'Hero MotoCorp Ltd',\n",
    "        \"stockName\" : 'HEROMOTOCO'\n",
    "    },\n",
    "    {\n",
    "        \"queryName\" : 'Adani Green Energy Ltd',\n",
    "        \"stockName\" : 'ADANIGREEN'\n",
    "    },\n",
    "    {\n",
    "        \"queryName\" : 'Bajaj Finance Ltd',\n",
    "        \"stockName\" : 'BAJFINANCE'\n",
    "    },\n",
    "    {\n",
    "        \"queryName\" : 'Bharat Petroleum Corporation Ltd',\n",
    "        \"stockName\" : 'BPCL'\n",
    "    },\n",
    "    {\n",
    "        \"queryName\" : 'Eicher Motors Ltd',\n",
    "        \"stockName\" : 'EICHERMOT'\n",
    "    },\n",
    "    {\n",
    "        \"queryName\" : 'Bajaj Auto Ltd',\n",
    "        \"stockName\" : 'BAJAJ-AUTO'\n",
    "    },\n",
    "    {\n",
    "        \"queryName\" : 'Bharti Airtel Ltd',\n",
    "        \"stockName\" : 'BHARTIARTL'\n",
    "    },\n",
    "    {\n",
    "        \"queryName\" : 'ICICI Prudential Life Insurance Company Ltd',\n",
    "        \"stockName\" : 'ICICIPRULI'\n",
    "    },\n",
    "    {\n",
    "        \"queryName\" : 'Indian Oil Corporation Ltd',\n",
    "        \"stockName\" : 'IOC'\n",
    "    },\n",
    "    {\n",
    "        \"queryName\" : 'Hindustan Aeronautics Ltd',\n",
    "        \"stockName\" : 'HAL'\n",
    "    },\n",
    "    {\n",
    "        \"queryName\" : 'Interglobe Aviation Ltd',\n",
    "        \"stockName\" : 'INDIGO'\n",
    "    },\n",
    "    {\n",
    "        \"queryName\" : 'Larsen & Toubro Ltd',\n",
    "        \"stockName\" : 'LT'\n",
    "    },\n",
    "    {\n",
    "        \"queryName\" : 'Tata Motors Ltd',\n",
    "        \"stockName\" : 'TATAMOTORS'\n",
    "    },\n",
    "    {\n",
    "        \"queryName\" : 'Grasim Industries Ltd',\n",
    "        \"stockName\" : 'GRASIM'\n",
    "    },\n",
    "    {\n",
    "        \"queryName\" : 'HDFC Life Insurance Company Ltd',\n",
    "        \"stockName\" : 'HDFCLIFE'\n",
    "    },\n",
    "    {\n",
    "        \"queryName\" : 'Pidilite Industries Ltd',\n",
    "        \"stockName\" : 'PIDILITIND'\n",
    "    },\n",
    "    {\n",
    "        \"queryName\" : 'TVS Motor Company Ltd',\n",
    "        \"stockName\" : 'TVSMOTOR'\n",
    "    },\n",
    "    {\n",
    "        \"queryName\" : 'Samvardhana Motherson International Ltd',\n",
    "        \"stockName\" : 'MOTHERSON'\n",
    "    },\n",
    "    {\n",
    "        \"queryName\" : 'Adani Ports and Special Economic Zone Ltd',\n",
    "        \"stockName\" : 'ADANIPORTS'\n",
    "    },\n",
    "    {\n",
    "        \"queryName\" : 'Indian Railway Catering And Tourism Corporation Ltd',\n",
    "        \"stockName\" : 'IRCTC'\n",
    "    },\n",
    "    {\n",
    "        \"queryName\" : 'Shree Cement Ltd',\n",
    "        \"stockName\" : 'SHREECEM'\n",
    "    }\n",
    "]"
   ]
  },
  {
   "cell_type": "code",
   "execution_count": 16,
   "id": "12417e85",
   "metadata": {},
   "outputs": [],
   "source": [
    "def get_mapped_data(stock):\n",
    "    all_articles = newsapi.get_everything(q=stock[\"queryName\"],\n",
    "                                     from_param='2023-12-08',\n",
    "                                      language='en')\n",
    "    df_stock = stock_df(symbol=stock[\"stockName\"], from_date=date(2023,12,2),\n",
    "            to_date=date(2024,1,7))\n",
    "    df_stock[\"result\"] = df_stock.apply(lambda row: getResult(row), axis=1)\n",
    "    df_result = df_stock[['DATE', 'result']].copy()\n",
    "    print(stock[\"queryName\"])\n",
    "    print(len(all_articles['articles']))\n",
    "    df_result = df_result.rename(columns={'DATE': 'date'})\n",
    "    df_result['date'] = pd.to_datetime(df_result.date, utc=True).dt.date\n",
    "    df_article = pd.json_normalize(all_articles['articles'])\n",
    "    df_article = df_article.rename(columns={'publishedAt': 'date'})\n",
    "    df_article['date'] = pd.to_datetime(df_article.date, utc=True).dt.date\n",
    "    df_article['symbol'] = stock[\"stockName\"];\n",
    "    df_article['result'] = df_article.apply(process_row, axis=1, df_result=df_result)\n",
    "    return df_article\n",
    "    "
   ]
  },
  {
   "cell_type": "code",
   "execution_count": 20,
   "id": "78ca66f4",
   "metadata": {},
   "outputs": [],
   "source": [
    "# df_article = get_mapped_data('HDFC Bank Ltd OR HDFC','HDFCBANK' )"
   ]
  },
  {
   "cell_type": "code",
   "execution_count": 17,
   "id": "e64a132b",
   "metadata": {},
   "outputs": [
    {
     "name": "stdout",
     "output_type": "stream",
     "text": [
      "HDFC Bank Ltd OR HDFC\n",
      "100\n"
     ]
    },
    {
     "name": "stderr",
     "output_type": "stream",
     "text": [
      "/var/folders/3q/2dymrhy53c75l8wxnt3h655w0000gn/T/ipykernel_82638/2853074654.py:3: FutureWarning: The frame.append method is deprecated and will be removed from pandas in a future version. Use pandas.concat instead.\n",
      "  df_article_processed = df_article_processed.append(get_mapped_data(stock), ignore_index=True)\n"
     ]
    },
    {
     "name": "stdout",
     "output_type": "stream",
     "text": [
      "HCL Technologies Ltd OR HCL Technologies\n",
      "100\n"
     ]
    },
    {
     "name": "stderr",
     "output_type": "stream",
     "text": [
      "/var/folders/3q/2dymrhy53c75l8wxnt3h655w0000gn/T/ipykernel_82638/2853074654.py:3: FutureWarning: The frame.append method is deprecated and will be removed from pandas in a future version. Use pandas.concat instead.\n",
      "  df_article_processed = df_article_processed.append(get_mapped_data(stock), ignore_index=True)\n"
     ]
    },
    {
     "name": "stdout",
     "output_type": "stream",
     "text": [
      "Sun Pharmaceutical Industries Ltd\n",
      "100\n"
     ]
    },
    {
     "name": "stderr",
     "output_type": "stream",
     "text": [
      "/var/folders/3q/2dymrhy53c75l8wxnt3h655w0000gn/T/ipykernel_82638/2853074654.py:3: FutureWarning: The frame.append method is deprecated and will be removed from pandas in a future version. Use pandas.concat instead.\n",
      "  df_article_processed = df_article_processed.append(get_mapped_data(stock), ignore_index=True)\n"
     ]
    },
    {
     "name": "stdout",
     "output_type": "stream",
     "text": [
      "Tata Motors Ltd\n",
      "100\n"
     ]
    },
    {
     "name": "stderr",
     "output_type": "stream",
     "text": [
      "/var/folders/3q/2dymrhy53c75l8wxnt3h655w0000gn/T/ipykernel_82638/2853074654.py:3: FutureWarning: The frame.append method is deprecated and will be removed from pandas in a future version. Use pandas.concat instead.\n",
      "  df_article_processed = df_article_processed.append(get_mapped_data(stock), ignore_index=True)\n"
     ]
    },
    {
     "name": "stdout",
     "output_type": "stream",
     "text": [
      "Zomato Ltd\n",
      "38\n"
     ]
    },
    {
     "name": "stderr",
     "output_type": "stream",
     "text": [
      "/var/folders/3q/2dymrhy53c75l8wxnt3h655w0000gn/T/ipykernel_82638/2853074654.py:3: FutureWarning: The frame.append method is deprecated and will be removed from pandas in a future version. Use pandas.concat instead.\n",
      "  df_article_processed = df_article_processed.append(get_mapped_data(stock), ignore_index=True)\n"
     ]
    },
    {
     "name": "stdout",
     "output_type": "stream",
     "text": [
      "ICICI Lombard General Insurance Company Ltd\n",
      "18\n"
     ]
    },
    {
     "name": "stderr",
     "output_type": "stream",
     "text": [
      "/var/folders/3q/2dymrhy53c75l8wxnt3h655w0000gn/T/ipykernel_82638/2853074654.py:3: FutureWarning: The frame.append method is deprecated and will be removed from pandas in a future version. Use pandas.concat instead.\n",
      "  df_article_processed = df_article_processed.append(get_mapped_data(stock), ignore_index=True)\n"
     ]
    },
    {
     "name": "stdout",
     "output_type": "stream",
     "text": [
      "Shriram Finance Ltd\n",
      "45\n"
     ]
    },
    {
     "name": "stderr",
     "output_type": "stream",
     "text": [
      "/var/folders/3q/2dymrhy53c75l8wxnt3h655w0000gn/T/ipykernel_82638/2853074654.py:3: FutureWarning: The frame.append method is deprecated and will be removed from pandas in a future version. Use pandas.concat instead.\n",
      "  df_article_processed = df_article_processed.append(get_mapped_data(stock), ignore_index=True)\n"
     ]
    },
    {
     "name": "stdout",
     "output_type": "stream",
     "text": [
      "DLF Ltd\n",
      "71\n"
     ]
    },
    {
     "name": "stderr",
     "output_type": "stream",
     "text": [
      "/var/folders/3q/2dymrhy53c75l8wxnt3h655w0000gn/T/ipykernel_82638/2853074654.py:3: FutureWarning: The frame.append method is deprecated and will be removed from pandas in a future version. Use pandas.concat instead.\n",
      "  df_article_processed = df_article_processed.append(get_mapped_data(stock), ignore_index=True)\n"
     ]
    },
    {
     "name": "stdout",
     "output_type": "stream",
     "text": [
      "Oil & Natural Gas Corporation Ltd\n",
      "100\n"
     ]
    },
    {
     "name": "stderr",
     "output_type": "stream",
     "text": [
      "/var/folders/3q/2dymrhy53c75l8wxnt3h655w0000gn/T/ipykernel_82638/2853074654.py:3: FutureWarning: The frame.append method is deprecated and will be removed from pandas in a future version. Use pandas.concat instead.\n",
      "  df_article_processed = df_article_processed.append(get_mapped_data(stock), ignore_index=True)\n"
     ]
    },
    {
     "name": "stdout",
     "output_type": "stream",
     "text": [
      "Hero MotoCorp Ltd\n",
      "100\n"
     ]
    },
    {
     "name": "stderr",
     "output_type": "stream",
     "text": [
      "/var/folders/3q/2dymrhy53c75l8wxnt3h655w0000gn/T/ipykernel_82638/2853074654.py:3: FutureWarning: The frame.append method is deprecated and will be removed from pandas in a future version. Use pandas.concat instead.\n",
      "  df_article_processed = df_article_processed.append(get_mapped_data(stock), ignore_index=True)\n"
     ]
    },
    {
     "name": "stdout",
     "output_type": "stream",
     "text": [
      "Adani Green Energy Ltd\n",
      "100\n"
     ]
    },
    {
     "name": "stderr",
     "output_type": "stream",
     "text": [
      "/var/folders/3q/2dymrhy53c75l8wxnt3h655w0000gn/T/ipykernel_82638/2853074654.py:3: FutureWarning: The frame.append method is deprecated and will be removed from pandas in a future version. Use pandas.concat instead.\n",
      "  df_article_processed = df_article_processed.append(get_mapped_data(stock), ignore_index=True)\n"
     ]
    },
    {
     "name": "stdout",
     "output_type": "stream",
     "text": [
      "Bajaj Finance Ltd\n",
      "100\n"
     ]
    },
    {
     "name": "stderr",
     "output_type": "stream",
     "text": [
      "/var/folders/3q/2dymrhy53c75l8wxnt3h655w0000gn/T/ipykernel_82638/2853074654.py:3: FutureWarning: The frame.append method is deprecated and will be removed from pandas in a future version. Use pandas.concat instead.\n",
      "  df_article_processed = df_article_processed.append(get_mapped_data(stock), ignore_index=True)\n"
     ]
    },
    {
     "name": "stdout",
     "output_type": "stream",
     "text": [
      "Bharat Petroleum Corporation Ltd\n",
      "100\n"
     ]
    },
    {
     "name": "stderr",
     "output_type": "stream",
     "text": [
      "/var/folders/3q/2dymrhy53c75l8wxnt3h655w0000gn/T/ipykernel_82638/2853074654.py:3: FutureWarning: The frame.append method is deprecated and will be removed from pandas in a future version. Use pandas.concat instead.\n",
      "  df_article_processed = df_article_processed.append(get_mapped_data(stock), ignore_index=True)\n"
     ]
    },
    {
     "name": "stdout",
     "output_type": "stream",
     "text": [
      "Eicher Motors Ltd\n",
      "100\n"
     ]
    },
    {
     "name": "stderr",
     "output_type": "stream",
     "text": [
      "/var/folders/3q/2dymrhy53c75l8wxnt3h655w0000gn/T/ipykernel_82638/2853074654.py:3: FutureWarning: The frame.append method is deprecated and will be removed from pandas in a future version. Use pandas.concat instead.\n",
      "  df_article_processed = df_article_processed.append(get_mapped_data(stock), ignore_index=True)\n"
     ]
    },
    {
     "name": "stdout",
     "output_type": "stream",
     "text": [
      "Bajaj Auto Ltd\n",
      "100\n"
     ]
    },
    {
     "name": "stderr",
     "output_type": "stream",
     "text": [
      "/var/folders/3q/2dymrhy53c75l8wxnt3h655w0000gn/T/ipykernel_82638/2853074654.py:3: FutureWarning: The frame.append method is deprecated and will be removed from pandas in a future version. Use pandas.concat instead.\n",
      "  df_article_processed = df_article_processed.append(get_mapped_data(stock), ignore_index=True)\n"
     ]
    },
    {
     "name": "stdout",
     "output_type": "stream",
     "text": [
      "Bharti Airtel Ltd\n",
      "100\n"
     ]
    },
    {
     "name": "stderr",
     "output_type": "stream",
     "text": [
      "/var/folders/3q/2dymrhy53c75l8wxnt3h655w0000gn/T/ipykernel_82638/2853074654.py:3: FutureWarning: The frame.append method is deprecated and will be removed from pandas in a future version. Use pandas.concat instead.\n",
      "  df_article_processed = df_article_processed.append(get_mapped_data(stock), ignore_index=True)\n"
     ]
    },
    {
     "name": "stdout",
     "output_type": "stream",
     "text": [
      "ICICI Prudential Life Insurance Company Ltd\n",
      "46\n"
     ]
    },
    {
     "name": "stderr",
     "output_type": "stream",
     "text": [
      "/var/folders/3q/2dymrhy53c75l8wxnt3h655w0000gn/T/ipykernel_82638/2853074654.py:3: FutureWarning: The frame.append method is deprecated and will be removed from pandas in a future version. Use pandas.concat instead.\n",
      "  df_article_processed = df_article_processed.append(get_mapped_data(stock), ignore_index=True)\n"
     ]
    },
    {
     "name": "stdout",
     "output_type": "stream",
     "text": [
      "Indian Oil Corporation Ltd\n",
      "73\n"
     ]
    },
    {
     "name": "stderr",
     "output_type": "stream",
     "text": [
      "/var/folders/3q/2dymrhy53c75l8wxnt3h655w0000gn/T/ipykernel_82638/2853074654.py:3: FutureWarning: The frame.append method is deprecated and will be removed from pandas in a future version. Use pandas.concat instead.\n",
      "  df_article_processed = df_article_processed.append(get_mapped_data(stock), ignore_index=True)\n"
     ]
    },
    {
     "name": "stdout",
     "output_type": "stream",
     "text": [
      "Hindustan Aeronautics Ltd\n",
      "9\n"
     ]
    },
    {
     "name": "stderr",
     "output_type": "stream",
     "text": [
      "/var/folders/3q/2dymrhy53c75l8wxnt3h655w0000gn/T/ipykernel_82638/2853074654.py:3: FutureWarning: The frame.append method is deprecated and will be removed from pandas in a future version. Use pandas.concat instead.\n",
      "  df_article_processed = df_article_processed.append(get_mapped_data(stock), ignore_index=True)\n"
     ]
    },
    {
     "name": "stdout",
     "output_type": "stream",
     "text": [
      "Interglobe Aviation Ltd\n",
      "12\n"
     ]
    },
    {
     "name": "stderr",
     "output_type": "stream",
     "text": [
      "/var/folders/3q/2dymrhy53c75l8wxnt3h655w0000gn/T/ipykernel_82638/2853074654.py:3: FutureWarning: The frame.append method is deprecated and will be removed from pandas in a future version. Use pandas.concat instead.\n",
      "  df_article_processed = df_article_processed.append(get_mapped_data(stock), ignore_index=True)\n"
     ]
    },
    {
     "name": "stdout",
     "output_type": "stream",
     "text": [
      "Larsen & Toubro Ltd\n",
      "85\n"
     ]
    },
    {
     "name": "stderr",
     "output_type": "stream",
     "text": [
      "/var/folders/3q/2dymrhy53c75l8wxnt3h655w0000gn/T/ipykernel_82638/2853074654.py:3: FutureWarning: The frame.append method is deprecated and will be removed from pandas in a future version. Use pandas.concat instead.\n",
      "  df_article_processed = df_article_processed.append(get_mapped_data(stock), ignore_index=True)\n"
     ]
    },
    {
     "name": "stdout",
     "output_type": "stream",
     "text": [
      "Tata Motors Ltd\n",
      "100\n"
     ]
    },
    {
     "name": "stderr",
     "output_type": "stream",
     "text": [
      "/var/folders/3q/2dymrhy53c75l8wxnt3h655w0000gn/T/ipykernel_82638/2853074654.py:3: FutureWarning: The frame.append method is deprecated and will be removed from pandas in a future version. Use pandas.concat instead.\n",
      "  df_article_processed = df_article_processed.append(get_mapped_data(stock), ignore_index=True)\n"
     ]
    },
    {
     "name": "stdout",
     "output_type": "stream",
     "text": [
      "Grasim Industries Ltd\n",
      "69\n"
     ]
    },
    {
     "name": "stderr",
     "output_type": "stream",
     "text": [
      "/var/folders/3q/2dymrhy53c75l8wxnt3h655w0000gn/T/ipykernel_82638/2853074654.py:3: FutureWarning: The frame.append method is deprecated and will be removed from pandas in a future version. Use pandas.concat instead.\n",
      "  df_article_processed = df_article_processed.append(get_mapped_data(stock), ignore_index=True)\n"
     ]
    },
    {
     "name": "stdout",
     "output_type": "stream",
     "text": [
      "HDFC Life Insurance Company Ltd\n",
      "100\n"
     ]
    },
    {
     "name": "stderr",
     "output_type": "stream",
     "text": [
      "/var/folders/3q/2dymrhy53c75l8wxnt3h655w0000gn/T/ipykernel_82638/2853074654.py:3: FutureWarning: The frame.append method is deprecated and will be removed from pandas in a future version. Use pandas.concat instead.\n",
      "  df_article_processed = df_article_processed.append(get_mapped_data(stock), ignore_index=True)\n"
     ]
    },
    {
     "name": "stdout",
     "output_type": "stream",
     "text": [
      "Pidilite Industries Ltd\n",
      "25\n"
     ]
    },
    {
     "name": "stderr",
     "output_type": "stream",
     "text": [
      "/var/folders/3q/2dymrhy53c75l8wxnt3h655w0000gn/T/ipykernel_82638/2853074654.py:3: FutureWarning: The frame.append method is deprecated and will be removed from pandas in a future version. Use pandas.concat instead.\n",
      "  df_article_processed = df_article_processed.append(get_mapped_data(stock), ignore_index=True)\n"
     ]
    },
    {
     "name": "stdout",
     "output_type": "stream",
     "text": [
      "TVS Motor Company Ltd\n",
      "39\n"
     ]
    },
    {
     "name": "stderr",
     "output_type": "stream",
     "text": [
      "/var/folders/3q/2dymrhy53c75l8wxnt3h655w0000gn/T/ipykernel_82638/2853074654.py:3: FutureWarning: The frame.append method is deprecated and will be removed from pandas in a future version. Use pandas.concat instead.\n",
      "  df_article_processed = df_article_processed.append(get_mapped_data(stock), ignore_index=True)\n"
     ]
    },
    {
     "name": "stdout",
     "output_type": "stream",
     "text": [
      "Samvardhana Motherson International Ltd\n",
      "26\n"
     ]
    },
    {
     "name": "stderr",
     "output_type": "stream",
     "text": [
      "/var/folders/3q/2dymrhy53c75l8wxnt3h655w0000gn/T/ipykernel_82638/2853074654.py:3: FutureWarning: The frame.append method is deprecated and will be removed from pandas in a future version. Use pandas.concat instead.\n",
      "  df_article_processed = df_article_processed.append(get_mapped_data(stock), ignore_index=True)\n"
     ]
    },
    {
     "name": "stdout",
     "output_type": "stream",
     "text": [
      "Adani Ports and Special Economic Zone Ltd\n",
      "100\n"
     ]
    },
    {
     "name": "stderr",
     "output_type": "stream",
     "text": [
      "/var/folders/3q/2dymrhy53c75l8wxnt3h655w0000gn/T/ipykernel_82638/2853074654.py:3: FutureWarning: The frame.append method is deprecated and will be removed from pandas in a future version. Use pandas.concat instead.\n",
      "  df_article_processed = df_article_processed.append(get_mapped_data(stock), ignore_index=True)\n"
     ]
    },
    {
     "name": "stdout",
     "output_type": "stream",
     "text": [
      "Indian Railway Catering And Tourism Corporation Ltd\n",
      "11\n"
     ]
    },
    {
     "name": "stderr",
     "output_type": "stream",
     "text": [
      "/var/folders/3q/2dymrhy53c75l8wxnt3h655w0000gn/T/ipykernel_82638/2853074654.py:3: FutureWarning: The frame.append method is deprecated and will be removed from pandas in a future version. Use pandas.concat instead.\n",
      "  df_article_processed = df_article_processed.append(get_mapped_data(stock), ignore_index=True)\n"
     ]
    },
    {
     "name": "stdout",
     "output_type": "stream",
     "text": [
      "Shree Cement Ltd\n",
      "24\n"
     ]
    },
    {
     "name": "stderr",
     "output_type": "stream",
     "text": [
      "/var/folders/3q/2dymrhy53c75l8wxnt3h655w0000gn/T/ipykernel_82638/2853074654.py:3: FutureWarning: The frame.append method is deprecated and will be removed from pandas in a future version. Use pandas.concat instead.\n",
      "  df_article_processed = df_article_processed.append(get_mapped_data(stock), ignore_index=True)\n"
     ]
    }
   ],
   "source": [
    "df_article_processed = pd.DataFrame()\n",
    "for stock in stockList:\n",
    "    df_article_processed = df_article_processed.append(get_mapped_data(stock), ignore_index=True)"
   ]
  },
  {
   "cell_type": "code",
   "execution_count": 18,
   "id": "5db3d341",
   "metadata": {
    "scrolled": true
   },
   "outputs": [
    {
     "data": {
      "text/plain": [
       "2091"
      ]
     },
     "execution_count": 18,
     "metadata": {},
     "output_type": "execute_result"
    }
   ],
   "source": [
    "len(df_article_processed)\n"
   ]
  },
  {
   "cell_type": "code",
   "execution_count": 19,
   "id": "26f88a0d",
   "metadata": {},
   "outputs": [],
   "source": [
    "df_article_processed.to_csv('output.csv', index=False)"
   ]
  },
  {
   "cell_type": "code",
   "execution_count": null,
   "id": "438d3dc3",
   "metadata": {},
   "outputs": [],
   "source": []
  }
 ],
 "metadata": {
  "kernelspec": {
   "display_name": "Python 3 (ipykernel)",
   "language": "python",
   "name": "python3"
  },
  "language_info": {
   "codemirror_mode": {
    "name": "ipython",
    "version": 3
   },
   "file_extension": ".py",
   "mimetype": "text/x-python",
   "name": "python",
   "nbconvert_exporter": "python",
   "pygments_lexer": "ipython3",
   "version": "3.11.4"
  }
 },
 "nbformat": 4,
 "nbformat_minor": 5
}
