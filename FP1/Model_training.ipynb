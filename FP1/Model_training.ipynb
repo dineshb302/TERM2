{
 "cells": [
  {
   "cell_type": "code",
   "execution_count": 12,
   "id": "20039b4f",
   "metadata": {},
   "outputs": [
    {
     "name": "stderr",
     "output_type": "stream",
     "text": [
      "[nltk_data] Downloading package stopwords to\n",
      "[nltk_data]     /Users/dineshbhatotia/nltk_data...\n",
      "[nltk_data]   Package stopwords is already up-to-date!\n"
     ]
    }
   ],
   "source": [
    "import pandas as pd\n",
    "import numpy as np\n",
    "from sklearn import datasets\n",
    "from sklearn.feature_extraction.text import CountVectorizer\n",
    "\n",
    "# Sklearn\n",
    "from sklearn.model_selection import train_test_split\n",
    "from sklearn.ensemble import RandomForestClassifier\n",
    "from sklearn.naive_bayes import MultinomialNB\n",
    "from sklearn.linear_model import LogisticRegression\n",
    "from sklearn.neighbors import KNeighborsClassifier \n",
    "from sklearn.svm import SVC \n",
    "\n",
    "from sklearn.metrics import classification_report,confusion_matrix,accuracy_score\n",
    "from sklearn import metrics\n",
    "import itertools\n",
    "\n",
    "import matplotlib.pyplot as plt\n",
    "\n",
    "import tensorflow\n",
    "from tensorflow import keras\n",
    "\n",
    "# For Natural Language Processing\n",
    "import nltk\n",
    "nltk.download('stopwords')\n",
    "from nltk.corpus import stopwords\n",
    "from nltk.stem import PorterStemmer"
   ]
  },
  {
   "cell_type": "code",
   "execution_count": null,
   "id": "a8840f88",
   "metadata": {},
   "outputs": [],
   "source": [
    "#!pip install tensorflow"
   ]
  },
  {
   "cell_type": "code",
   "execution_count": 13,
   "id": "736015ee",
   "metadata": {},
   "outputs": [],
   "source": [
    "df = pd.read_csv('output.csv', encoding = \"ISO-8859-1\")\n"
   ]
  },
  {
   "cell_type": "code",
   "execution_count": 14,
   "id": "be129a24",
   "metadata": {},
   "outputs": [
    {
     "data": {
      "text/html": [
       "<div>\n",
       "<style scoped>\n",
       "    .dataframe tbody tr th:only-of-type {\n",
       "        vertical-align: middle;\n",
       "    }\n",
       "\n",
       "    .dataframe tbody tr th {\n",
       "        vertical-align: top;\n",
       "    }\n",
       "\n",
       "    .dataframe thead th {\n",
       "        text-align: right;\n",
       "    }\n",
       "</style>\n",
       "<table border=\"1\" class=\"dataframe\">\n",
       "  <thead>\n",
       "    <tr style=\"text-align: right;\">\n",
       "      <th></th>\n",
       "      <th>author</th>\n",
       "      <th>title</th>\n",
       "      <th>description</th>\n",
       "      <th>url</th>\n",
       "      <th>urlToImage</th>\n",
       "      <th>date</th>\n",
       "      <th>content</th>\n",
       "      <th>source.id</th>\n",
       "      <th>source.name</th>\n",
       "      <th>symbol</th>\n",
       "      <th>result</th>\n",
       "    </tr>\n",
       "  </thead>\n",
       "  <tbody>\n",
       "    <tr>\n",
       "      <th>0</th>\n",
       "      <td>Ashutosh R Shyam</td>\n",
       "      <td>After a lacklustre 2023, will 2024 be a year o...</td>\n",
       "      <td>Mega stocks such as HDFC Bank, Reliance Indust...</td>\n",
       "      <td>https://economictimes.indiatimes.com/markets/s...</td>\n",
       "      <td>https://img.etimg.com/thumb/msid-106428582,wid...</td>\n",
       "      <td>2023-12-31</td>\n",
       "      <td>SynopsisMega stocks such as HDFC Bank, Relianc...</td>\n",
       "      <td>the-times-of-india</td>\n",
       "      <td>The Times of India</td>\n",
       "      <td>HDFCBANK</td>\n",
       "      <td>NaN</td>\n",
       "    </tr>\n",
       "    <tr>\n",
       "      <th>1</th>\n",
       "      <td>Michail</td>\n",
       "      <td>iQOO 12 launched in India, starting at INR 52,999</td>\n",
       "      <td>The iQOO 12 is now official in India serving a...</td>\n",
       "      <td>https://www.gsmarena.com/iqoo_12_launched_in_i...</td>\n",
       "      <td>https://fdn.gsmarena.com/imgroot/news/23/12/iq...</td>\n",
       "      <td>2023-12-12</td>\n",
       "      <td>The iQOO 12 is now official in India serving a...</td>\n",
       "      <td>NaN</td>\n",
       "      <td>GSMArena.com</td>\n",
       "      <td>HDFCBANK</td>\n",
       "      <td>1.0</td>\n",
       "    </tr>\n",
       "    <tr>\n",
       "      <th>2</th>\n",
       "      <td>ETMarkets.com</td>\n",
       "      <td>F&amp;O stocks to buy or sell today: ICICI Bank, M...</td>\n",
       "      <td>The S&amp;P BSE Sensex rose nearly 400 points whil...</td>\n",
       "      <td>https://economictimes.indiatimes.com/markets/o...</td>\n",
       "      <td>https://img.etimg.com/thumb/msid-106199210,wid...</td>\n",
       "      <td>2023-12-22</td>\n",
       "      <td>The Indian market is likely to trade higher on...</td>\n",
       "      <td>the-times-of-india</td>\n",
       "      <td>The Times of India</td>\n",
       "      <td>HDFCBANK</td>\n",
       "      <td>1.0</td>\n",
       "    </tr>\n",
       "    <tr>\n",
       "      <th>3</th>\n",
       "      <td>Tech Desk</td>\n",
       "      <td>iPhone 15 at Rs 35K? Check out these lucrative...</td>\n",
       "      <td>iPhone 15 is among the most sought after smart...</td>\n",
       "      <td>https://indianexpress.com/article/technology/i...</td>\n",
       "      <td>https://images.indianexpress.com/2023/12/iPhon...</td>\n",
       "      <td>2023-12-29</td>\n",
       "      <td>The year is almost ending. Other than thumping...</td>\n",
       "      <td>NaN</td>\n",
       "      <td>The Indian Express</td>\n",
       "      <td>HDFCBANK</td>\n",
       "      <td>0.0</td>\n",
       "    </tr>\n",
       "    <tr>\n",
       "      <th>4</th>\n",
       "      <td>PTI</td>\n",
       "      <td>Stock markets climb for 2nd day on buying in I...</td>\n",
       "      <td>Among the Sensex firms, Wipro jumped over 6 pe...</td>\n",
       "      <td>https://indianexpress.com/article/business/mar...</td>\n",
       "      <td>https://images.indianexpress.com/2023/12/BSE-1...</td>\n",
       "      <td>2023-12-22</td>\n",
       "      <td>Stock markets extended gains for a second day ...</td>\n",
       "      <td>NaN</td>\n",
       "      <td>The Indian Express</td>\n",
       "      <td>HDFCBANK</td>\n",
       "      <td>1.0</td>\n",
       "    </tr>\n",
       "  </tbody>\n",
       "</table>\n",
       "</div>"
      ],
      "text/plain": [
       "             author                                              title  \\\n",
       "0  Ashutosh R Shyam  After a lacklustre 2023, will 2024 be a year o...   \n",
       "1           Michail  iQOO 12 launched in India, starting at INR 52,999   \n",
       "2     ETMarkets.com  F&O stocks to buy or sell today: ICICI Bank, M...   \n",
       "3         Tech Desk  iPhone 15 at Rs 35K? Check out these lucrative...   \n",
       "4               PTI  Stock markets climb for 2nd day on buying in I...   \n",
       "\n",
       "                                         description  \\\n",
       "0  Mega stocks such as HDFC Bank, Reliance Indust...   \n",
       "1  The iQOO 12 is now official in India serving a...   \n",
       "2  The S&P BSE Sensex rose nearly 400 points whil...   \n",
       "3  iPhone 15 is among the most sought after smart...   \n",
       "4  Among the Sensex firms, Wipro jumped over 6 pe...   \n",
       "\n",
       "                                                 url  \\\n",
       "0  https://economictimes.indiatimes.com/markets/s...   \n",
       "1  https://www.gsmarena.com/iqoo_12_launched_in_i...   \n",
       "2  https://economictimes.indiatimes.com/markets/o...   \n",
       "3  https://indianexpress.com/article/technology/i...   \n",
       "4  https://indianexpress.com/article/business/mar...   \n",
       "\n",
       "                                          urlToImage        date  \\\n",
       "0  https://img.etimg.com/thumb/msid-106428582,wid...  2023-12-31   \n",
       "1  https://fdn.gsmarena.com/imgroot/news/23/12/iq...  2023-12-12   \n",
       "2  https://img.etimg.com/thumb/msid-106199210,wid...  2023-12-22   \n",
       "3  https://images.indianexpress.com/2023/12/iPhon...  2023-12-29   \n",
       "4  https://images.indianexpress.com/2023/12/BSE-1...  2023-12-22   \n",
       "\n",
       "                                             content           source.id  \\\n",
       "0  SynopsisMega stocks such as HDFC Bank, Relianc...  the-times-of-india   \n",
       "1  The iQOO 12 is now official in India serving a...                 NaN   \n",
       "2  The Indian market is likely to trade higher on...  the-times-of-india   \n",
       "3  The year is almost ending. Other than thumping...                 NaN   \n",
       "4  Stock markets extended gains for a second day ...                 NaN   \n",
       "\n",
       "          source.name    symbol  result  \n",
       "0  The Times of India  HDFCBANK     NaN  \n",
       "1        GSMArena.com  HDFCBANK     1.0  \n",
       "2  The Times of India  HDFCBANK     1.0  \n",
       "3  The Indian Express  HDFCBANK     0.0  \n",
       "4  The Indian Express  HDFCBANK     1.0  "
      ]
     },
     "execution_count": 14,
     "metadata": {},
     "output_type": "execute_result"
    }
   ],
   "source": [
    "df.head(5)\n"
   ]
  },
  {
   "cell_type": "code",
   "execution_count": 15,
   "id": "b6ed7ac1",
   "metadata": {},
   "outputs": [
    {
     "data": {
      "text/plain": [
       "author          49\n",
       "title            0\n",
       "description      0\n",
       "url              0\n",
       "urlToImage       8\n",
       "date             0\n",
       "content          0\n",
       "source.id      680\n",
       "source.name      0\n",
       "symbol           0\n",
       "result         122\n",
       "dtype: int64"
      ]
     },
     "execution_count": 15,
     "metadata": {},
     "output_type": "execute_result"
    }
   ],
   "source": [
    "df.isna().sum()"
   ]
  },
  {
   "cell_type": "code",
   "execution_count": 16,
   "id": "a3d6186c",
   "metadata": {},
   "outputs": [],
   "source": [
    "df.dropna(subset=['result'], inplace=True)"
   ]
  },
  {
   "cell_type": "code",
   "execution_count": 17,
   "id": "9ce7780e",
   "metadata": {},
   "outputs": [
    {
     "data": {
      "text/plain": [
       "1969"
      ]
     },
     "execution_count": 17,
     "metadata": {},
     "output_type": "execute_result"
    }
   ],
   "source": [
    "len(df)"
   ]
  },
  {
   "cell_type": "code",
   "execution_count": 55,
   "id": "0304b1c8",
   "metadata": {},
   "outputs": [],
   "source": [
    "# creating train test with symbols equally represented in both group\n",
    "\n",
    "train_df, test_df = train_test_split(df, test_size=0.2, random_state=42, stratify=df['symbol'])"
   ]
  },
  {
   "cell_type": "code",
   "execution_count": 56,
   "id": "b7eabd8d",
   "metadata": {
    "scrolled": true
   },
   "outputs": [
    {
     "data": {
      "text/html": [
       "<div>\n",
       "<style scoped>\n",
       "    .dataframe tbody tr th:only-of-type {\n",
       "        vertical-align: middle;\n",
       "    }\n",
       "\n",
       "    .dataframe tbody tr th {\n",
       "        vertical-align: top;\n",
       "    }\n",
       "\n",
       "    .dataframe thead th {\n",
       "        text-align: right;\n",
       "    }\n",
       "</style>\n",
       "<table border=\"1\" class=\"dataframe\">\n",
       "  <thead>\n",
       "    <tr style=\"text-align: right;\">\n",
       "      <th></th>\n",
       "      <th>author</th>\n",
       "      <th>title</th>\n",
       "      <th>description</th>\n",
       "      <th>url</th>\n",
       "      <th>urlToImage</th>\n",
       "      <th>date</th>\n",
       "      <th>content</th>\n",
       "      <th>source.id</th>\n",
       "      <th>source.name</th>\n",
       "      <th>symbol</th>\n",
       "      <th>result</th>\n",
       "    </tr>\n",
       "  </thead>\n",
       "  <tbody>\n",
       "    <tr>\n",
       "      <th>1171</th>\n",
       "      <td>ETMarkets.com</td>\n",
       "      <td>Stock market update: Sugar stocks up as market...</td>\n",
       "      <td>The 30-share BSE Sensex closed  down  170.12 p...</td>\n",
       "      <td>https://economictimes.indiatimes.com/markets/s...</td>\n",
       "      <td>https://img.etimg.com/thumb/msid-82697732,widt...</td>\n",
       "      <td>2023-12-29</td>\n",
       "      <td>NEW DELHI: Sugar shares closed lower in the Fr...</td>\n",
       "      <td>the-times-of-india</td>\n",
       "      <td>The Times of India</td>\n",
       "      <td>EICHERMOT</td>\n",
       "      <td>0.0</td>\n",
       "    </tr>\n",
       "    <tr>\n",
       "      <th>1698</th>\n",
       "      <td>Mithun Dasgupta</td>\n",
       "      <td>Berger Paints India expects to keep growing it...</td>\n",
       "      <td>Aditya Birla Group's Grasim Industries enterin...</td>\n",
       "      <td>https://www.thehindubusinessline.com/companies...</td>\n",
       "      <td>https://bl-i.thgim.com/public/todays-paper/tp-...</td>\n",
       "      <td>2024-01-02</td>\n",
       "      <td>Berger Paints expects to continue growing its ...</td>\n",
       "      <td>NaN</td>\n",
       "      <td>BusinessLine</td>\n",
       "      <td>GRASIM</td>\n",
       "      <td>1.0</td>\n",
       "    </tr>\n",
       "    <tr>\n",
       "      <th>782</th>\n",
       "      <td>The Hills Times</td>\n",
       "      <td>TotalEnergies invests USD 300 million in joint...</td>\n",
       "      <td>Strap: TotalEnergies, holds about 19.75 per ce...</td>\n",
       "      <td>https://thehillstimes.in/business/totalenergie...</td>\n",
       "      <td>https://thehillstimes.in/wp-content/uploads/20...</td>\n",
       "      <td>2023-12-27</td>\n",
       "      <td>Strap: TotalEnergies, holds about 19.75 per ce...</td>\n",
       "      <td>NaN</td>\n",
       "      <td>Thehillstimes.in</td>\n",
       "      <td>ADANIGREEN</td>\n",
       "      <td>1.0</td>\n",
       "    </tr>\n",
       "    <tr>\n",
       "      <th>381</th>\n",
       "      <td>Moneycontrol News</td>\n",
       "      <td>Tata Power gains after green energy arm bags N...</td>\n",
       "      <td>TPSSLÃ¢ÂÂs Solar Cell and Module Manufacturi...</td>\n",
       "      <td>https://www.moneycontrol.com/news/business/sto...</td>\n",
       "      <td>https://images.moneycontrol.com/static-mcnews/...</td>\n",
       "      <td>2023-12-18</td>\n",
       "      <td>TheÂ Tata Power Company shares were up nearly ...</td>\n",
       "      <td>NaN</td>\n",
       "      <td>Moneycontrol</td>\n",
       "      <td>TATAMTRDVR</td>\n",
       "      <td>1.0</td>\n",
       "    </tr>\n",
       "    <tr>\n",
       "      <th>1276</th>\n",
       "      <td>NaN</td>\n",
       "      <td>Airtel Africa promotes former Bharti Airtel ex...</td>\n",
       "      <td>(marketscreener.com) Airtel Africa PLC on Tues...</td>\n",
       "      <td>https://www.marketscreener.com/quote/stock/BHA...</td>\n",
       "      <td>https://www.marketscreener.com/images/twitter_...</td>\n",
       "      <td>2024-01-02</td>\n",
       "      <td>(Alliance News) - Airtel Africa PLC on Tuesday...</td>\n",
       "      <td>NaN</td>\n",
       "      <td>Marketscreener.com</td>\n",
       "      <td>BHARTIARTL</td>\n",
       "      <td>0.0</td>\n",
       "    </tr>\n",
       "  </tbody>\n",
       "</table>\n",
       "</div>"
      ],
      "text/plain": [
       "                 author                                              title  \\\n",
       "1171      ETMarkets.com  Stock market update: Sugar stocks up as market...   \n",
       "1698    Mithun Dasgupta  Berger Paints India expects to keep growing it...   \n",
       "782     The Hills Times  TotalEnergies invests USD 300 million in joint...   \n",
       "381   Moneycontrol News  Tata Power gains after green energy arm bags N...   \n",
       "1276                NaN  Airtel Africa promotes former Bharti Airtel ex...   \n",
       "\n",
       "                                            description  \\\n",
       "1171  The 30-share BSE Sensex closed  down  170.12 p...   \n",
       "1698  Aditya Birla Group's Grasim Industries enterin...   \n",
       "782   Strap: TotalEnergies, holds about 19.75 per ce...   \n",
       "381   TPSSLÃ¢ÂÂs Solar Cell and Module Manufacturi...   \n",
       "1276  (marketscreener.com) Airtel Africa PLC on Tues...   \n",
       "\n",
       "                                                    url  \\\n",
       "1171  https://economictimes.indiatimes.com/markets/s...   \n",
       "1698  https://www.thehindubusinessline.com/companies...   \n",
       "782   https://thehillstimes.in/business/totalenergie...   \n",
       "381   https://www.moneycontrol.com/news/business/sto...   \n",
       "1276  https://www.marketscreener.com/quote/stock/BHA...   \n",
       "\n",
       "                                             urlToImage        date  \\\n",
       "1171  https://img.etimg.com/thumb/msid-82697732,widt...  2023-12-29   \n",
       "1698  https://bl-i.thgim.com/public/todays-paper/tp-...  2024-01-02   \n",
       "782   https://thehillstimes.in/wp-content/uploads/20...  2023-12-27   \n",
       "381   https://images.moneycontrol.com/static-mcnews/...  2023-12-18   \n",
       "1276  https://www.marketscreener.com/images/twitter_...  2024-01-02   \n",
       "\n",
       "                                                content           source.id  \\\n",
       "1171  NEW DELHI: Sugar shares closed lower in the Fr...  the-times-of-india   \n",
       "1698  Berger Paints expects to continue growing its ...                 NaN   \n",
       "782   Strap: TotalEnergies, holds about 19.75 per ce...                 NaN   \n",
       "381   TheÂ Tata Power Company shares were up nearly ...                 NaN   \n",
       "1276  (Alliance News) - Airtel Africa PLC on Tuesday...                 NaN   \n",
       "\n",
       "             source.name      symbol  result  \n",
       "1171  The Times of India   EICHERMOT     0.0  \n",
       "1698        BusinessLine      GRASIM     1.0  \n",
       "782     Thehillstimes.in  ADANIGREEN     1.0  \n",
       "381         Moneycontrol  TATAMTRDVR     1.0  \n",
       "1276  Marketscreener.com  BHARTIARTL     0.0  "
      ]
     },
     "execution_count": 56,
     "metadata": {},
     "output_type": "execute_result"
    }
   ],
   "source": [
    "train_df.head()"
   ]
  },
  {
   "cell_type": "code",
   "execution_count": 57,
   "id": "856559db",
   "metadata": {},
   "outputs": [],
   "source": [
    "column_names = ['title','description', 'content' ]\n",
    "data = train_df[column_names]"
   ]
  },
  {
   "cell_type": "code",
   "execution_count": 58,
   "id": "276c9e2b",
   "metadata": {},
   "outputs": [
    {
     "data": {
      "text/plain": [
       "1575"
      ]
     },
     "execution_count": 58,
     "metadata": {},
     "output_type": "execute_result"
    }
   ],
   "source": [
    "len(data)"
   ]
  },
  {
   "cell_type": "code",
   "execution_count": 60,
   "id": "7d4fdbce",
   "metadata": {},
   "outputs": [
    {
     "data": {
      "text/html": [
       "<div>\n",
       "<style scoped>\n",
       "    .dataframe tbody tr th:only-of-type {\n",
       "        vertical-align: middle;\n",
       "    }\n",
       "\n",
       "    .dataframe tbody tr th {\n",
       "        vertical-align: top;\n",
       "    }\n",
       "\n",
       "    .dataframe thead th {\n",
       "        text-align: right;\n",
       "    }\n",
       "</style>\n",
       "<table border=\"1\" class=\"dataframe\">\n",
       "  <thead>\n",
       "    <tr style=\"text-align: right;\">\n",
       "      <th></th>\n",
       "      <th>title</th>\n",
       "      <th>description</th>\n",
       "      <th>content</th>\n",
       "    </tr>\n",
       "  </thead>\n",
       "  <tbody>\n",
       "    <tr>\n",
       "      <th>1171</th>\n",
       "      <td>Stock market update: Sugar stocks up as market...</td>\n",
       "      <td>The 30-share BSE Sensex closed  down  170.12 p...</td>\n",
       "      <td>NEW DELHI: Sugar shares closed lower in the Fr...</td>\n",
       "    </tr>\n",
       "    <tr>\n",
       "      <th>1698</th>\n",
       "      <td>Berger Paints India expects to keep growing it...</td>\n",
       "      <td>Aditya Birla Group's Grasim Industries enterin...</td>\n",
       "      <td>Berger Paints expects to continue growing its ...</td>\n",
       "    </tr>\n",
       "    <tr>\n",
       "      <th>782</th>\n",
       "      <td>TotalEnergies invests USD 300 million in joint...</td>\n",
       "      <td>Strap: TotalEnergies, holds about 19.75 per ce...</td>\n",
       "      <td>Strap: TotalEnergies, holds about 19.75 per ce...</td>\n",
       "    </tr>\n",
       "    <tr>\n",
       "      <th>381</th>\n",
       "      <td>Tata Power gains after green energy arm bags N...</td>\n",
       "      <td>TPSSLÃ¢ÂÂs Solar Cell and Module Manufacturi...</td>\n",
       "      <td>TheÂ Tata Power Company shares were up nearly ...</td>\n",
       "    </tr>\n",
       "    <tr>\n",
       "      <th>1276</th>\n",
       "      <td>Airtel Africa promotes former Bharti Airtel ex...</td>\n",
       "      <td>(marketscreener.com) Airtel Africa PLC on Tues...</td>\n",
       "      <td>(Alliance News) - Airtel Africa PLC on Tuesday...</td>\n",
       "    </tr>\n",
       "  </tbody>\n",
       "</table>\n",
       "</div>"
      ],
      "text/plain": [
       "                                                  title  \\\n",
       "1171  Stock market update: Sugar stocks up as market...   \n",
       "1698  Berger Paints India expects to keep growing it...   \n",
       "782   TotalEnergies invests USD 300 million in joint...   \n",
       "381   Tata Power gains after green energy arm bags N...   \n",
       "1276  Airtel Africa promotes former Bharti Airtel ex...   \n",
       "\n",
       "                                            description  \\\n",
       "1171  The 30-share BSE Sensex closed  down  170.12 p...   \n",
       "1698  Aditya Birla Group's Grasim Industries enterin...   \n",
       "782   Strap: TotalEnergies, holds about 19.75 per ce...   \n",
       "381   TPSSLÃ¢ÂÂs Solar Cell and Module Manufacturi...   \n",
       "1276  (marketscreener.com) Airtel Africa PLC on Tues...   \n",
       "\n",
       "                                                content  \n",
       "1171  NEW DELHI: Sugar shares closed lower in the Fr...  \n",
       "1698  Berger Paints expects to continue growing its ...  \n",
       "782   Strap: TotalEnergies, holds about 19.75 per ce...  \n",
       "381   TheÂ Tata Power Company shares were up nearly ...  \n",
       "1276  (Alliance News) - Airtel Africa PLC on Tuesday...  "
      ]
     },
     "execution_count": 60,
     "metadata": {},
     "output_type": "execute_result"
    }
   ],
   "source": [
    "data.head()"
   ]
  },
  {
   "cell_type": "code",
   "execution_count": 61,
   "id": "64f04758",
   "metadata": {},
   "outputs": [
    {
     "name": "stderr",
     "output_type": "stream",
     "text": [
      "/var/folders/3q/2dymrhy53c75l8wxnt3h655w0000gn/T/ipykernel_83415/3110462212.py:2: SettingWithCopyWarning: \n",
      "A value is trying to be set on a copy of a slice from a DataFrame\n",
      "\n",
      "See the caveats in the documentation: https://pandas.pydata.org/pandas-docs/stable/user_guide/indexing.html#returning-a-view-versus-a-copy\n",
      "  data.replace(\"[^a-zA-Z]\", \" \", regex=True, inplace=True)\n"
     ]
    }
   ],
   "source": [
    "# Remove stop words\n",
    "data.replace(\"[^a-zA-Z]\", \" \", regex=True, inplace=True) \n"
   ]
  },
  {
   "cell_type": "code",
   "execution_count": 62,
   "id": "43eecf81",
   "metadata": {},
   "outputs": [
    {
     "data": {
      "text/plain": [
       "1575"
      ]
     },
     "execution_count": 62,
     "metadata": {},
     "output_type": "execute_result"
    }
   ],
   "source": [
    "len(data)"
   ]
  },
  {
   "cell_type": "code",
   "execution_count": 63,
   "id": "7952b7a6",
   "metadata": {},
   "outputs": [
    {
     "name": "stderr",
     "output_type": "stream",
     "text": [
      "/var/folders/3q/2dymrhy53c75l8wxnt3h655w0000gn/T/ipykernel_83415/565915055.py:3: SettingWithCopyWarning: \n",
      "A value is trying to be set on a copy of a slice from a DataFrame.\n",
      "Try using .loc[row_indexer,col_indexer] = value instead\n",
      "\n",
      "See the caveats in the documentation: https://pandas.pydata.org/pandas-docs/stable/user_guide/indexing.html#returning-a-view-versus-a-copy\n",
      "  data[name]=data[name].str.lower()\n"
     ]
    }
   ],
   "source": [
    "# lower case all text \n",
    "for name in column_names:\n",
    "    data[name]=data[name].str.lower()"
   ]
  },
  {
   "cell_type": "code",
   "execution_count": 64,
   "id": "8a73a721",
   "metadata": {},
   "outputs": [
    {
     "data": {
      "text/html": [
       "<div>\n",
       "<style scoped>\n",
       "    .dataframe tbody tr th:only-of-type {\n",
       "        vertical-align: middle;\n",
       "    }\n",
       "\n",
       "    .dataframe tbody tr th {\n",
       "        vertical-align: top;\n",
       "    }\n",
       "\n",
       "    .dataframe thead th {\n",
       "        text-align: right;\n",
       "    }\n",
       "</style>\n",
       "<table border=\"1\" class=\"dataframe\">\n",
       "  <thead>\n",
       "    <tr style=\"text-align: right;\">\n",
       "      <th></th>\n",
       "      <th>title</th>\n",
       "      <th>description</th>\n",
       "      <th>content</th>\n",
       "    </tr>\n",
       "  </thead>\n",
       "  <tbody>\n",
       "    <tr>\n",
       "      <th>1171</th>\n",
       "      <td>stock market update  sugar stocks up as market...</td>\n",
       "      <td>the    share bse sensex closed  down         p...</td>\n",
       "      <td>new delhi  sugar shares closed lower in the fr...</td>\n",
       "    </tr>\n",
       "    <tr>\n",
       "      <th>1698</th>\n",
       "      <td>berger paints india expects to keep growing it...</td>\n",
       "      <td>aditya birla group s grasim industries enterin...</td>\n",
       "      <td>berger paints expects to continue growing its ...</td>\n",
       "    </tr>\n",
       "    <tr>\n",
       "      <th>782</th>\n",
       "      <td>totalenergies invests usd     million in joint...</td>\n",
       "      <td>strap  totalenergies  holds about       per ce...</td>\n",
       "      <td>strap  totalenergies  holds about       per ce...</td>\n",
       "    </tr>\n",
       "    <tr>\n",
       "      <th>381</th>\n",
       "      <td>tata power gains after green energy arm bags n...</td>\n",
       "      <td>tpssl      s solar cell and module manufacturi...</td>\n",
       "      <td>the  tata power company shares were up nearly ...</td>\n",
       "    </tr>\n",
       "    <tr>\n",
       "      <th>1276</th>\n",
       "      <td>airtel africa promotes former bharti airtel ex...</td>\n",
       "      <td>marketscreener com  airtel africa plc on tues...</td>\n",
       "      <td>alliance news    airtel africa plc on tuesday...</td>\n",
       "    </tr>\n",
       "  </tbody>\n",
       "</table>\n",
       "</div>"
      ],
      "text/plain": [
       "                                                  title  \\\n",
       "1171  stock market update  sugar stocks up as market...   \n",
       "1698  berger paints india expects to keep growing it...   \n",
       "782   totalenergies invests usd     million in joint...   \n",
       "381   tata power gains after green energy arm bags n...   \n",
       "1276  airtel africa promotes former bharti airtel ex...   \n",
       "\n",
       "                                            description  \\\n",
       "1171  the    share bse sensex closed  down         p...   \n",
       "1698  aditya birla group s grasim industries enterin...   \n",
       "782   strap  totalenergies  holds about       per ce...   \n",
       "381   tpssl      s solar cell and module manufacturi...   \n",
       "1276   marketscreener com  airtel africa plc on tues...   \n",
       "\n",
       "                                                content  \n",
       "1171  new delhi  sugar shares closed lower in the fr...  \n",
       "1698  berger paints expects to continue growing its ...  \n",
       "782   strap  totalenergies  holds about       per ce...  \n",
       "381   the  tata power company shares were up nearly ...  \n",
       "1276   alliance news    airtel africa plc on tuesday...  "
      ]
     },
     "execution_count": 64,
     "metadata": {},
     "output_type": "execute_result"
    }
   ],
   "source": [
    "data.head()"
   ]
  },
  {
   "cell_type": "code",
   "execution_count": 65,
   "id": "c3b8451b",
   "metadata": {},
   "outputs": [],
   "source": [
    "merged_text = data.apply(lambda row: ' '.join(map(str, row[:])), axis=1).tolist()"
   ]
  },
  {
   "cell_type": "code",
   "execution_count": 66,
   "id": "57d5e828",
   "metadata": {},
   "outputs": [
    {
     "data": {
      "text/plain": [
       "1575"
      ]
     },
     "execution_count": 66,
     "metadata": {},
     "output_type": "execute_result"
    }
   ],
   "source": [
    "len(merged_text)"
   ]
  },
  {
   "cell_type": "code",
   "execution_count": 67,
   "id": "c765127d",
   "metadata": {},
   "outputs": [],
   "source": [
    "# Word Embedding - Using Count-Vectorizer\n",
    "\n",
    "countvector= CountVectorizer(ngram_range=(2,2))\n",
    "train_dataset_cv= countvector.fit_transform(merged_text) "
   ]
  },
  {
   "cell_type": "code",
   "execution_count": 68,
   "id": "80ecf875",
   "metadata": {},
   "outputs": [
    {
     "data": {
      "text/plain": [
       "(1575, 16506)"
      ]
     },
     "execution_count": 68,
     "metadata": {},
     "output_type": "execute_result"
    }
   ],
   "source": [
    "train_dataset_cv.shape"
   ]
  },
  {
   "cell_type": "code",
   "execution_count": 69,
   "id": "eebd2672",
   "metadata": {},
   "outputs": [
    {
     "data": {
      "text/plain": [
       "1575"
      ]
     },
     "execution_count": 69,
     "metadata": {},
     "output_type": "execute_result"
    }
   ],
   "source": [
    "len(train_df)"
   ]
  },
  {
   "cell_type": "code",
   "execution_count": 70,
   "id": "f7918b12",
   "metadata": {},
   "outputs": [
    {
     "data": {
      "text/html": [
       "<style>#sk-container-id-1 {color: black;}#sk-container-id-1 pre{padding: 0;}#sk-container-id-1 div.sk-toggleable {background-color: white;}#sk-container-id-1 label.sk-toggleable__label {cursor: pointer;display: block;width: 100%;margin-bottom: 0;padding: 0.3em;box-sizing: border-box;text-align: center;}#sk-container-id-1 label.sk-toggleable__label-arrow:before {content: \"▸\";float: left;margin-right: 0.25em;color: #696969;}#sk-container-id-1 label.sk-toggleable__label-arrow:hover:before {color: black;}#sk-container-id-1 div.sk-estimator:hover label.sk-toggleable__label-arrow:before {color: black;}#sk-container-id-1 div.sk-toggleable__content {max-height: 0;max-width: 0;overflow: hidden;text-align: left;background-color: #f0f8ff;}#sk-container-id-1 div.sk-toggleable__content pre {margin: 0.2em;color: black;border-radius: 0.25em;background-color: #f0f8ff;}#sk-container-id-1 input.sk-toggleable__control:checked~div.sk-toggleable__content {max-height: 200px;max-width: 100%;overflow: auto;}#sk-container-id-1 input.sk-toggleable__control:checked~label.sk-toggleable__label-arrow:before {content: \"▾\";}#sk-container-id-1 div.sk-estimator input.sk-toggleable__control:checked~label.sk-toggleable__label {background-color: #d4ebff;}#sk-container-id-1 div.sk-label input.sk-toggleable__control:checked~label.sk-toggleable__label {background-color: #d4ebff;}#sk-container-id-1 input.sk-hidden--visually {border: 0;clip: rect(1px 1px 1px 1px);clip: rect(1px, 1px, 1px, 1px);height: 1px;margin: -1px;overflow: hidden;padding: 0;position: absolute;width: 1px;}#sk-container-id-1 div.sk-estimator {font-family: monospace;background-color: #f0f8ff;border: 1px dotted black;border-radius: 0.25em;box-sizing: border-box;margin-bottom: 0.5em;}#sk-container-id-1 div.sk-estimator:hover {background-color: #d4ebff;}#sk-container-id-1 div.sk-parallel-item::after {content: \"\";width: 100%;border-bottom: 1px solid gray;flex-grow: 1;}#sk-container-id-1 div.sk-label:hover label.sk-toggleable__label {background-color: #d4ebff;}#sk-container-id-1 div.sk-serial::before {content: \"\";position: absolute;border-left: 1px solid gray;box-sizing: border-box;top: 0;bottom: 0;left: 50%;z-index: 0;}#sk-container-id-1 div.sk-serial {display: flex;flex-direction: column;align-items: center;background-color: white;padding-right: 0.2em;padding-left: 0.2em;position: relative;}#sk-container-id-1 div.sk-item {position: relative;z-index: 1;}#sk-container-id-1 div.sk-parallel {display: flex;align-items: stretch;justify-content: center;background-color: white;position: relative;}#sk-container-id-1 div.sk-item::before, #sk-container-id-1 div.sk-parallel-item::before {content: \"\";position: absolute;border-left: 1px solid gray;box-sizing: border-box;top: 0;bottom: 0;left: 50%;z-index: -1;}#sk-container-id-1 div.sk-parallel-item {display: flex;flex-direction: column;z-index: 1;position: relative;background-color: white;}#sk-container-id-1 div.sk-parallel-item:first-child::after {align-self: flex-end;width: 50%;}#sk-container-id-1 div.sk-parallel-item:last-child::after {align-self: flex-start;width: 50%;}#sk-container-id-1 div.sk-parallel-item:only-child::after {width: 0;}#sk-container-id-1 div.sk-dashed-wrapped {border: 1px dashed gray;margin: 0 0.4em 0.5em 0.4em;box-sizing: border-box;padding-bottom: 0.4em;background-color: white;}#sk-container-id-1 div.sk-label label {font-family: monospace;font-weight: bold;display: inline-block;line-height: 1.2em;}#sk-container-id-1 div.sk-label-container {text-align: center;}#sk-container-id-1 div.sk-container {/* jupyter's `normalize.less` sets `[hidden] { display: none; }` but bootstrap.min.css set `[hidden] { display: none !important; }` so we also need the `!important` here to be able to override the default hidden behavior on the sphinx rendered scikit-learn.org. See: https://github.com/scikit-learn/scikit-learn/issues/21755 */display: inline-block !important;position: relative;}#sk-container-id-1 div.sk-text-repr-fallback {display: none;}</style><div id=\"sk-container-id-1\" class=\"sk-top-container\"><div class=\"sk-text-repr-fallback\"><pre>RandomForestClassifier(criterion=&#x27;entropy&#x27;, n_estimators=200)</pre><b>In a Jupyter environment, please rerun this cell to show the HTML representation or trust the notebook. <br />On GitHub, the HTML representation is unable to render, please try loading this page with nbviewer.org.</b></div><div class=\"sk-container\" hidden><div class=\"sk-item\"><div class=\"sk-estimator sk-toggleable\"><input class=\"sk-toggleable__control sk-hidden--visually\" id=\"sk-estimator-id-1\" type=\"checkbox\" checked><label for=\"sk-estimator-id-1\" class=\"sk-toggleable__label sk-toggleable__label-arrow\">RandomForestClassifier</label><div class=\"sk-toggleable__content\"><pre>RandomForestClassifier(criterion=&#x27;entropy&#x27;, n_estimators=200)</pre></div></div></div></div></div>"
      ],
      "text/plain": [
       "RandomForestClassifier(criterion='entropy', n_estimators=200)"
      ]
     },
     "execution_count": 70,
     "metadata": {},
     "output_type": "execute_result"
    }
   ],
   "source": [
    "# Random Forest\n",
    "\n",
    "rf=RandomForestClassifier(n_estimators=200,criterion='entropy')\n",
    "rf.fit(train_dataset_cv,train_df['result'])"
   ]
  },
  {
   "cell_type": "code",
   "execution_count": 73,
   "id": "16d76359",
   "metadata": {},
   "outputs": [
    {
     "data": {
      "text/html": [
       "<style>#sk-container-id-2 {color: black;}#sk-container-id-2 pre{padding: 0;}#sk-container-id-2 div.sk-toggleable {background-color: white;}#sk-container-id-2 label.sk-toggleable__label {cursor: pointer;display: block;width: 100%;margin-bottom: 0;padding: 0.3em;box-sizing: border-box;text-align: center;}#sk-container-id-2 label.sk-toggleable__label-arrow:before {content: \"▸\";float: left;margin-right: 0.25em;color: #696969;}#sk-container-id-2 label.sk-toggleable__label-arrow:hover:before {color: black;}#sk-container-id-2 div.sk-estimator:hover label.sk-toggleable__label-arrow:before {color: black;}#sk-container-id-2 div.sk-toggleable__content {max-height: 0;max-width: 0;overflow: hidden;text-align: left;background-color: #f0f8ff;}#sk-container-id-2 div.sk-toggleable__content pre {margin: 0.2em;color: black;border-radius: 0.25em;background-color: #f0f8ff;}#sk-container-id-2 input.sk-toggleable__control:checked~div.sk-toggleable__content {max-height: 200px;max-width: 100%;overflow: auto;}#sk-container-id-2 input.sk-toggleable__control:checked~label.sk-toggleable__label-arrow:before {content: \"▾\";}#sk-container-id-2 div.sk-estimator input.sk-toggleable__control:checked~label.sk-toggleable__label {background-color: #d4ebff;}#sk-container-id-2 div.sk-label input.sk-toggleable__control:checked~label.sk-toggleable__label {background-color: #d4ebff;}#sk-container-id-2 input.sk-hidden--visually {border: 0;clip: rect(1px 1px 1px 1px);clip: rect(1px, 1px, 1px, 1px);height: 1px;margin: -1px;overflow: hidden;padding: 0;position: absolute;width: 1px;}#sk-container-id-2 div.sk-estimator {font-family: monospace;background-color: #f0f8ff;border: 1px dotted black;border-radius: 0.25em;box-sizing: border-box;margin-bottom: 0.5em;}#sk-container-id-2 div.sk-estimator:hover {background-color: #d4ebff;}#sk-container-id-2 div.sk-parallel-item::after {content: \"\";width: 100%;border-bottom: 1px solid gray;flex-grow: 1;}#sk-container-id-2 div.sk-label:hover label.sk-toggleable__label {background-color: #d4ebff;}#sk-container-id-2 div.sk-serial::before {content: \"\";position: absolute;border-left: 1px solid gray;box-sizing: border-box;top: 0;bottom: 0;left: 50%;z-index: 0;}#sk-container-id-2 div.sk-serial {display: flex;flex-direction: column;align-items: center;background-color: white;padding-right: 0.2em;padding-left: 0.2em;position: relative;}#sk-container-id-2 div.sk-item {position: relative;z-index: 1;}#sk-container-id-2 div.sk-parallel {display: flex;align-items: stretch;justify-content: center;background-color: white;position: relative;}#sk-container-id-2 div.sk-item::before, #sk-container-id-2 div.sk-parallel-item::before {content: \"\";position: absolute;border-left: 1px solid gray;box-sizing: border-box;top: 0;bottom: 0;left: 50%;z-index: -1;}#sk-container-id-2 div.sk-parallel-item {display: flex;flex-direction: column;z-index: 1;position: relative;background-color: white;}#sk-container-id-2 div.sk-parallel-item:first-child::after {align-self: flex-end;width: 50%;}#sk-container-id-2 div.sk-parallel-item:last-child::after {align-self: flex-start;width: 50%;}#sk-container-id-2 div.sk-parallel-item:only-child::after {width: 0;}#sk-container-id-2 div.sk-dashed-wrapped {border: 1px dashed gray;margin: 0 0.4em 0.5em 0.4em;box-sizing: border-box;padding-bottom: 0.4em;background-color: white;}#sk-container-id-2 div.sk-label label {font-family: monospace;font-weight: bold;display: inline-block;line-height: 1.2em;}#sk-container-id-2 div.sk-label-container {text-align: center;}#sk-container-id-2 div.sk-container {/* jupyter's `normalize.less` sets `[hidden] { display: none; }` but bootstrap.min.css set `[hidden] { display: none !important; }` so we also need the `!important` here to be able to override the default hidden behavior on the sphinx rendered scikit-learn.org. See: https://github.com/scikit-learn/scikit-learn/issues/21755 */display: inline-block !important;position: relative;}#sk-container-id-2 div.sk-text-repr-fallback {display: none;}</style><div id=\"sk-container-id-2\" class=\"sk-top-container\"><div class=\"sk-text-repr-fallback\"><pre>MultinomialNB()</pre><b>In a Jupyter environment, please rerun this cell to show the HTML representation or trust the notebook. <br />On GitHub, the HTML representation is unable to render, please try loading this page with nbviewer.org.</b></div><div class=\"sk-container\" hidden><div class=\"sk-item\"><div class=\"sk-estimator sk-toggleable\"><input class=\"sk-toggleable__control sk-hidden--visually\" id=\"sk-estimator-id-2\" type=\"checkbox\" checked><label for=\"sk-estimator-id-2\" class=\"sk-toggleable__label sk-toggleable__label-arrow\">MultinomialNB</label><div class=\"sk-toggleable__content\"><pre>MultinomialNB()</pre></div></div></div></div></div>"
      ],
      "text/plain": [
       "MultinomialNB()"
      ]
     },
     "execution_count": 73,
     "metadata": {},
     "output_type": "execute_result"
    }
   ],
   "source": [
    "# Multinomial Naive Bayes\n",
    "\n",
    "nb=MultinomialNB()\n",
    "nb.fit(train_dataset_cv,train_df['result'])"
   ]
  },
  {
   "cell_type": "code",
   "execution_count": 74,
   "id": "b99bb414",
   "metadata": {},
   "outputs": [
    {
     "name": "stderr",
     "output_type": "stream",
     "text": [
      "/Users/dineshbhatotia/anaconda3/lib/python3.11/site-packages/sklearn/linear_model/_logistic.py:460: ConvergenceWarning: lbfgs failed to converge (status=1):\n",
      "STOP: TOTAL NO. of ITERATIONS REACHED LIMIT.\n",
      "\n",
      "Increase the number of iterations (max_iter) or scale the data as shown in:\n",
      "    https://scikit-learn.org/stable/modules/preprocessing.html\n",
      "Please also refer to the documentation for alternative solver options:\n",
      "    https://scikit-learn.org/stable/modules/linear_model.html#logistic-regression\n",
      "  n_iter_i = _check_optimize_result(\n"
     ]
    },
    {
     "data": {
      "text/html": [
       "<style>#sk-container-id-3 {color: black;}#sk-container-id-3 pre{padding: 0;}#sk-container-id-3 div.sk-toggleable {background-color: white;}#sk-container-id-3 label.sk-toggleable__label {cursor: pointer;display: block;width: 100%;margin-bottom: 0;padding: 0.3em;box-sizing: border-box;text-align: center;}#sk-container-id-3 label.sk-toggleable__label-arrow:before {content: \"▸\";float: left;margin-right: 0.25em;color: #696969;}#sk-container-id-3 label.sk-toggleable__label-arrow:hover:before {color: black;}#sk-container-id-3 div.sk-estimator:hover label.sk-toggleable__label-arrow:before {color: black;}#sk-container-id-3 div.sk-toggleable__content {max-height: 0;max-width: 0;overflow: hidden;text-align: left;background-color: #f0f8ff;}#sk-container-id-3 div.sk-toggleable__content pre {margin: 0.2em;color: black;border-radius: 0.25em;background-color: #f0f8ff;}#sk-container-id-3 input.sk-toggleable__control:checked~div.sk-toggleable__content {max-height: 200px;max-width: 100%;overflow: auto;}#sk-container-id-3 input.sk-toggleable__control:checked~label.sk-toggleable__label-arrow:before {content: \"▾\";}#sk-container-id-3 div.sk-estimator input.sk-toggleable__control:checked~label.sk-toggleable__label {background-color: #d4ebff;}#sk-container-id-3 div.sk-label input.sk-toggleable__control:checked~label.sk-toggleable__label {background-color: #d4ebff;}#sk-container-id-3 input.sk-hidden--visually {border: 0;clip: rect(1px 1px 1px 1px);clip: rect(1px, 1px, 1px, 1px);height: 1px;margin: -1px;overflow: hidden;padding: 0;position: absolute;width: 1px;}#sk-container-id-3 div.sk-estimator {font-family: monospace;background-color: #f0f8ff;border: 1px dotted black;border-radius: 0.25em;box-sizing: border-box;margin-bottom: 0.5em;}#sk-container-id-3 div.sk-estimator:hover {background-color: #d4ebff;}#sk-container-id-3 div.sk-parallel-item::after {content: \"\";width: 100%;border-bottom: 1px solid gray;flex-grow: 1;}#sk-container-id-3 div.sk-label:hover label.sk-toggleable__label {background-color: #d4ebff;}#sk-container-id-3 div.sk-serial::before {content: \"\";position: absolute;border-left: 1px solid gray;box-sizing: border-box;top: 0;bottom: 0;left: 50%;z-index: 0;}#sk-container-id-3 div.sk-serial {display: flex;flex-direction: column;align-items: center;background-color: white;padding-right: 0.2em;padding-left: 0.2em;position: relative;}#sk-container-id-3 div.sk-item {position: relative;z-index: 1;}#sk-container-id-3 div.sk-parallel {display: flex;align-items: stretch;justify-content: center;background-color: white;position: relative;}#sk-container-id-3 div.sk-item::before, #sk-container-id-3 div.sk-parallel-item::before {content: \"\";position: absolute;border-left: 1px solid gray;box-sizing: border-box;top: 0;bottom: 0;left: 50%;z-index: -1;}#sk-container-id-3 div.sk-parallel-item {display: flex;flex-direction: column;z-index: 1;position: relative;background-color: white;}#sk-container-id-3 div.sk-parallel-item:first-child::after {align-self: flex-end;width: 50%;}#sk-container-id-3 div.sk-parallel-item:last-child::after {align-self: flex-start;width: 50%;}#sk-container-id-3 div.sk-parallel-item:only-child::after {width: 0;}#sk-container-id-3 div.sk-dashed-wrapped {border: 1px dashed gray;margin: 0 0.4em 0.5em 0.4em;box-sizing: border-box;padding-bottom: 0.4em;background-color: white;}#sk-container-id-3 div.sk-label label {font-family: monospace;font-weight: bold;display: inline-block;line-height: 1.2em;}#sk-container-id-3 div.sk-label-container {text-align: center;}#sk-container-id-3 div.sk-container {/* jupyter's `normalize.less` sets `[hidden] { display: none; }` but bootstrap.min.css set `[hidden] { display: none !important; }` so we also need the `!important` here to be able to override the default hidden behavior on the sphinx rendered scikit-learn.org. See: https://github.com/scikit-learn/scikit-learn/issues/21755 */display: inline-block !important;position: relative;}#sk-container-id-3 div.sk-text-repr-fallback {display: none;}</style><div id=\"sk-container-id-3\" class=\"sk-top-container\"><div class=\"sk-text-repr-fallback\"><pre>LogisticRegression()</pre><b>In a Jupyter environment, please rerun this cell to show the HTML representation or trust the notebook. <br />On GitHub, the HTML representation is unable to render, please try loading this page with nbviewer.org.</b></div><div class=\"sk-container\" hidden><div class=\"sk-item\"><div class=\"sk-estimator sk-toggleable\"><input class=\"sk-toggleable__control sk-hidden--visually\" id=\"sk-estimator-id-3\" type=\"checkbox\" checked><label for=\"sk-estimator-id-3\" class=\"sk-toggleable__label sk-toggleable__label-arrow\">LogisticRegression</label><div class=\"sk-toggleable__content\"><pre>LogisticRegression()</pre></div></div></div></div></div>"
      ],
      "text/plain": [
       "LogisticRegression()"
      ]
     },
     "execution_count": 74,
     "metadata": {},
     "output_type": "execute_result"
    }
   ],
   "source": [
    "# Logestic Regression\n",
    "\n",
    "lr=LogisticRegression()\n",
    "lr.fit(train_dataset_cv,train_df['result'])"
   ]
  },
  {
   "cell_type": "code",
   "execution_count": 75,
   "id": "c569624b",
   "metadata": {},
   "outputs": [
    {
     "data": {
      "text/html": [
       "<style>#sk-container-id-4 {color: black;}#sk-container-id-4 pre{padding: 0;}#sk-container-id-4 div.sk-toggleable {background-color: white;}#sk-container-id-4 label.sk-toggleable__label {cursor: pointer;display: block;width: 100%;margin-bottom: 0;padding: 0.3em;box-sizing: border-box;text-align: center;}#sk-container-id-4 label.sk-toggleable__label-arrow:before {content: \"▸\";float: left;margin-right: 0.25em;color: #696969;}#sk-container-id-4 label.sk-toggleable__label-arrow:hover:before {color: black;}#sk-container-id-4 div.sk-estimator:hover label.sk-toggleable__label-arrow:before {color: black;}#sk-container-id-4 div.sk-toggleable__content {max-height: 0;max-width: 0;overflow: hidden;text-align: left;background-color: #f0f8ff;}#sk-container-id-4 div.sk-toggleable__content pre {margin: 0.2em;color: black;border-radius: 0.25em;background-color: #f0f8ff;}#sk-container-id-4 input.sk-toggleable__control:checked~div.sk-toggleable__content {max-height: 200px;max-width: 100%;overflow: auto;}#sk-container-id-4 input.sk-toggleable__control:checked~label.sk-toggleable__label-arrow:before {content: \"▾\";}#sk-container-id-4 div.sk-estimator input.sk-toggleable__control:checked~label.sk-toggleable__label {background-color: #d4ebff;}#sk-container-id-4 div.sk-label input.sk-toggleable__control:checked~label.sk-toggleable__label {background-color: #d4ebff;}#sk-container-id-4 input.sk-hidden--visually {border: 0;clip: rect(1px 1px 1px 1px);clip: rect(1px, 1px, 1px, 1px);height: 1px;margin: -1px;overflow: hidden;padding: 0;position: absolute;width: 1px;}#sk-container-id-4 div.sk-estimator {font-family: monospace;background-color: #f0f8ff;border: 1px dotted black;border-radius: 0.25em;box-sizing: border-box;margin-bottom: 0.5em;}#sk-container-id-4 div.sk-estimator:hover {background-color: #d4ebff;}#sk-container-id-4 div.sk-parallel-item::after {content: \"\";width: 100%;border-bottom: 1px solid gray;flex-grow: 1;}#sk-container-id-4 div.sk-label:hover label.sk-toggleable__label {background-color: #d4ebff;}#sk-container-id-4 div.sk-serial::before {content: \"\";position: absolute;border-left: 1px solid gray;box-sizing: border-box;top: 0;bottom: 0;left: 50%;z-index: 0;}#sk-container-id-4 div.sk-serial {display: flex;flex-direction: column;align-items: center;background-color: white;padding-right: 0.2em;padding-left: 0.2em;position: relative;}#sk-container-id-4 div.sk-item {position: relative;z-index: 1;}#sk-container-id-4 div.sk-parallel {display: flex;align-items: stretch;justify-content: center;background-color: white;position: relative;}#sk-container-id-4 div.sk-item::before, #sk-container-id-4 div.sk-parallel-item::before {content: \"\";position: absolute;border-left: 1px solid gray;box-sizing: border-box;top: 0;bottom: 0;left: 50%;z-index: -1;}#sk-container-id-4 div.sk-parallel-item {display: flex;flex-direction: column;z-index: 1;position: relative;background-color: white;}#sk-container-id-4 div.sk-parallel-item:first-child::after {align-self: flex-end;width: 50%;}#sk-container-id-4 div.sk-parallel-item:last-child::after {align-self: flex-start;width: 50%;}#sk-container-id-4 div.sk-parallel-item:only-child::after {width: 0;}#sk-container-id-4 div.sk-dashed-wrapped {border: 1px dashed gray;margin: 0 0.4em 0.5em 0.4em;box-sizing: border-box;padding-bottom: 0.4em;background-color: white;}#sk-container-id-4 div.sk-label label {font-family: monospace;font-weight: bold;display: inline-block;line-height: 1.2em;}#sk-container-id-4 div.sk-label-container {text-align: center;}#sk-container-id-4 div.sk-container {/* jupyter's `normalize.less` sets `[hidden] { display: none; }` but bootstrap.min.css set `[hidden] { display: none !important; }` so we also need the `!important` here to be able to override the default hidden behavior on the sphinx rendered scikit-learn.org. See: https://github.com/scikit-learn/scikit-learn/issues/21755 */display: inline-block !important;position: relative;}#sk-container-id-4 div.sk-text-repr-fallback {display: none;}</style><div id=\"sk-container-id-4\" class=\"sk-top-container\"><div class=\"sk-text-repr-fallback\"><pre>KNeighborsClassifier()</pre><b>In a Jupyter environment, please rerun this cell to show the HTML representation or trust the notebook. <br />On GitHub, the HTML representation is unable to render, please try loading this page with nbviewer.org.</b></div><div class=\"sk-container\" hidden><div class=\"sk-item\"><div class=\"sk-estimator sk-toggleable\"><input class=\"sk-toggleable__control sk-hidden--visually\" id=\"sk-estimator-id-4\" type=\"checkbox\" checked><label for=\"sk-estimator-id-4\" class=\"sk-toggleable__label sk-toggleable__label-arrow\">KNeighborsClassifier</label><div class=\"sk-toggleable__content\"><pre>KNeighborsClassifier()</pre></div></div></div></div></div>"
      ],
      "text/plain": [
       "KNeighborsClassifier()"
      ]
     },
     "execution_count": 75,
     "metadata": {},
     "output_type": "execute_result"
    }
   ],
   "source": [
    "# K-Nearest Neighbor\n",
    "\n",
    "knn=KNeighborsClassifier(n_neighbors=5, metric='minkowski', p=2 )\n",
    "knn.fit(train_dataset_cv,train_df['result'])"
   ]
  },
  {
   "cell_type": "code",
   "execution_count": 76,
   "id": "9899f511",
   "metadata": {},
   "outputs": [
    {
     "data": {
      "text/html": [
       "<style>#sk-container-id-5 {color: black;}#sk-container-id-5 pre{padding: 0;}#sk-container-id-5 div.sk-toggleable {background-color: white;}#sk-container-id-5 label.sk-toggleable__label {cursor: pointer;display: block;width: 100%;margin-bottom: 0;padding: 0.3em;box-sizing: border-box;text-align: center;}#sk-container-id-5 label.sk-toggleable__label-arrow:before {content: \"▸\";float: left;margin-right: 0.25em;color: #696969;}#sk-container-id-5 label.sk-toggleable__label-arrow:hover:before {color: black;}#sk-container-id-5 div.sk-estimator:hover label.sk-toggleable__label-arrow:before {color: black;}#sk-container-id-5 div.sk-toggleable__content {max-height: 0;max-width: 0;overflow: hidden;text-align: left;background-color: #f0f8ff;}#sk-container-id-5 div.sk-toggleable__content pre {margin: 0.2em;color: black;border-radius: 0.25em;background-color: #f0f8ff;}#sk-container-id-5 input.sk-toggleable__control:checked~div.sk-toggleable__content {max-height: 200px;max-width: 100%;overflow: auto;}#sk-container-id-5 input.sk-toggleable__control:checked~label.sk-toggleable__label-arrow:before {content: \"▾\";}#sk-container-id-5 div.sk-estimator input.sk-toggleable__control:checked~label.sk-toggleable__label {background-color: #d4ebff;}#sk-container-id-5 div.sk-label input.sk-toggleable__control:checked~label.sk-toggleable__label {background-color: #d4ebff;}#sk-container-id-5 input.sk-hidden--visually {border: 0;clip: rect(1px 1px 1px 1px);clip: rect(1px, 1px, 1px, 1px);height: 1px;margin: -1px;overflow: hidden;padding: 0;position: absolute;width: 1px;}#sk-container-id-5 div.sk-estimator {font-family: monospace;background-color: #f0f8ff;border: 1px dotted black;border-radius: 0.25em;box-sizing: border-box;margin-bottom: 0.5em;}#sk-container-id-5 div.sk-estimator:hover {background-color: #d4ebff;}#sk-container-id-5 div.sk-parallel-item::after {content: \"\";width: 100%;border-bottom: 1px solid gray;flex-grow: 1;}#sk-container-id-5 div.sk-label:hover label.sk-toggleable__label {background-color: #d4ebff;}#sk-container-id-5 div.sk-serial::before {content: \"\";position: absolute;border-left: 1px solid gray;box-sizing: border-box;top: 0;bottom: 0;left: 50%;z-index: 0;}#sk-container-id-5 div.sk-serial {display: flex;flex-direction: column;align-items: center;background-color: white;padding-right: 0.2em;padding-left: 0.2em;position: relative;}#sk-container-id-5 div.sk-item {position: relative;z-index: 1;}#sk-container-id-5 div.sk-parallel {display: flex;align-items: stretch;justify-content: center;background-color: white;position: relative;}#sk-container-id-5 div.sk-item::before, #sk-container-id-5 div.sk-parallel-item::before {content: \"\";position: absolute;border-left: 1px solid gray;box-sizing: border-box;top: 0;bottom: 0;left: 50%;z-index: -1;}#sk-container-id-5 div.sk-parallel-item {display: flex;flex-direction: column;z-index: 1;position: relative;background-color: white;}#sk-container-id-5 div.sk-parallel-item:first-child::after {align-self: flex-end;width: 50%;}#sk-container-id-5 div.sk-parallel-item:last-child::after {align-self: flex-start;width: 50%;}#sk-container-id-5 div.sk-parallel-item:only-child::after {width: 0;}#sk-container-id-5 div.sk-dashed-wrapped {border: 1px dashed gray;margin: 0 0.4em 0.5em 0.4em;box-sizing: border-box;padding-bottom: 0.4em;background-color: white;}#sk-container-id-5 div.sk-label label {font-family: monospace;font-weight: bold;display: inline-block;line-height: 1.2em;}#sk-container-id-5 div.sk-label-container {text-align: center;}#sk-container-id-5 div.sk-container {/* jupyter's `normalize.less` sets `[hidden] { display: none; }` but bootstrap.min.css set `[hidden] { display: none !important; }` so we also need the `!important` here to be able to override the default hidden behavior on the sphinx rendered scikit-learn.org. See: https://github.com/scikit-learn/scikit-learn/issues/21755 */display: inline-block !important;position: relative;}#sk-container-id-5 div.sk-text-repr-fallback {display: none;}</style><div id=\"sk-container-id-5\" class=\"sk-top-container\"><div class=\"sk-text-repr-fallback\"><pre>SVC(kernel=&#x27;linear&#x27;, random_state=0)</pre><b>In a Jupyter environment, please rerun this cell to show the HTML representation or trust the notebook. <br />On GitHub, the HTML representation is unable to render, please try loading this page with nbviewer.org.</b></div><div class=\"sk-container\" hidden><div class=\"sk-item\"><div class=\"sk-estimator sk-toggleable\"><input class=\"sk-toggleable__control sk-hidden--visually\" id=\"sk-estimator-id-5\" type=\"checkbox\" checked><label for=\"sk-estimator-id-5\" class=\"sk-toggleable__label sk-toggleable__label-arrow\">SVC</label><div class=\"sk-toggleable__content\"><pre>SVC(kernel=&#x27;linear&#x27;, random_state=0)</pre></div></div></div></div></div>"
      ],
      "text/plain": [
       "SVC(kernel='linear', random_state=0)"
      ]
     },
     "execution_count": 76,
     "metadata": {},
     "output_type": "execute_result"
    }
   ],
   "source": [
    "# Support vector classifier\n",
    "\n",
    "svm = SVC(kernel='linear', random_state=0)  \n",
    "svm.fit(train_dataset_cv,train_df['result'])"
   ]
  },
  {
   "cell_type": "code",
   "execution_count": 82,
   "id": "2c159447",
   "metadata": {},
   "outputs": [
    {
     "name": "stderr",
     "output_type": "stream",
     "text": [
      "/var/folders/3q/2dymrhy53c75l8wxnt3h655w0000gn/T/ipykernel_83415/1811636174.py:7: SettingWithCopyWarning: \n",
      "A value is trying to be set on a copy of a slice from a DataFrame\n",
      "\n",
      "See the caveats in the documentation: https://pandas.pydata.org/pandas-docs/stable/user_guide/indexing.html#returning-a-view-versus-a-copy\n",
      "  test_data.replace(\"[^a-zA-Z]\", \" \", regex=True, inplace=True)\n",
      "/var/folders/3q/2dymrhy53c75l8wxnt3h655w0000gn/T/ipykernel_83415/1811636174.py:11: SettingWithCopyWarning: \n",
      "A value is trying to be set on a copy of a slice from a DataFrame.\n",
      "Try using .loc[row_indexer,col_indexer] = value instead\n",
      "\n",
      "See the caveats in the documentation: https://pandas.pydata.org/pandas-docs/stable/user_guide/indexing.html#returning-a-view-versus-a-copy\n",
      "  test_data[name]=test_data[name].str.lower()\n"
     ]
    }
   ],
   "source": [
    "# Perdorming same transformation on test data \n",
    "\n",
    "column_names = ['title','description', 'content' ]\n",
    "test_data = test_df[column_names]\n",
    "\n",
    "# Remove stop words\n",
    "test_data.replace(\"[^a-zA-Z]\", \" \", regex=True, inplace=True)\n",
    "\n",
    "# lower case all text \n",
    "for name in column_names:\n",
    "    test_data[name]=test_data[name].str.lower()\n",
    "\n",
    "# Merging all data\n",
    "merged_text = test_data.apply(lambda row: ' '.join(map(str, row[:])), axis=1).tolist()\n",
    "\n",
    "test_headlines = merged_text\n",
    "\n",
    "test_dataset_cv = countvector.transform(merged_text)"
   ]
  },
  {
   "cell_type": "code",
   "execution_count": 86,
   "id": "c486ad53",
   "metadata": {},
   "outputs": [],
   "source": [
    "# Prediciton RandomForest Classifier\n",
    "predictions_rf_cv = rf.predict(test_dataset_cv)\n",
    "     \n",
    "\n",
    "# Prediciton Multinomial Naive Bayes\n",
    "predictions_nb_cv = nb.predict(test_dataset_cv)\n",
    "     \n",
    "\n",
    "# Prediciton Logestic Regression\n",
    "predictions_lr_cv = lr.predict(test_dataset_cv)\n",
    "     \n",
    "\n",
    "# Prediciton K-Nearest Neighbor\n",
    "predictions_knn_cv = knn.predict(test_dataset_cv)\n",
    "     \n",
    "\n",
    "# Prediciton Support vector classifier\n",
    "predictions_svm_cv = svm.predict(test_dataset_cv)"
   ]
  },
  {
   "cell_type": "code",
   "execution_count": 89,
   "id": "0a9a05af",
   "metadata": {},
   "outputs": [
    {
     "data": {
      "text/plain": [
       "array([0., 0., 1., 0., 0., 1., 0., 1., 1., 0., 0., 1., 1., 0., 1., 0., 0.,\n",
       "       1., 1., 1., 1., 0., 0., 0., 1., 1., 1., 0., 1., 0., 1., 1., 0., 1.,\n",
       "       0., 1., 1., 1., 0., 1., 0., 1., 0., 0., 0., 0., 0., 0., 0., 0., 0.,\n",
       "       0., 1., 0., 1., 0., 1., 1., 1., 0., 0., 1., 1., 1., 0., 0., 0., 1.,\n",
       "       1., 1., 1., 1., 0., 0., 0., 1., 0., 0., 0., 0., 1., 1., 1., 0., 0.,\n",
       "       0., 0., 1., 1., 0., 0., 1., 1., 0., 1., 1., 1., 1., 1., 0., 1., 0.,\n",
       "       1., 0., 0., 1., 1., 1., 0., 1., 1., 1., 1., 1., 1., 0., 0., 1., 1.,\n",
       "       0., 0., 0., 0., 0., 0., 1., 1., 1., 0., 1., 1., 1., 0., 0., 0., 0.,\n",
       "       1., 0., 1., 0., 0., 0., 0., 1., 0., 1., 0., 0., 0., 1., 0., 0., 0.,\n",
       "       0., 0., 1., 1., 1., 0., 1., 0., 1., 1., 1., 0., 0., 1., 1., 1., 1.,\n",
       "       1., 1., 0., 1., 1., 0., 1., 0., 1., 1., 0., 0., 0., 1., 0., 0., 0.,\n",
       "       1., 1., 1., 0., 0., 0., 1., 0., 1., 1., 0., 0., 0., 0., 1., 0., 1.,\n",
       "       1., 0., 0., 0., 1., 1., 0., 0., 0., 0., 1., 0., 1., 1., 1., 0., 1.,\n",
       "       0., 1., 0., 0., 0., 0., 1., 0., 0., 0., 1., 0., 0., 0., 1., 0., 1.,\n",
       "       0., 1., 1., 0., 0., 1., 1., 0., 1., 1., 0., 0., 1., 0., 1., 1., 1.,\n",
       "       1., 1., 1., 0., 0., 1., 1., 1., 1., 0., 1., 0., 0., 0., 0., 1., 1.,\n",
       "       0., 0., 1., 0., 1., 0., 1., 1., 1., 0., 1., 0., 0., 1., 1., 0., 0.,\n",
       "       0., 0., 1., 0., 1., 0., 0., 0., 1., 1., 1., 0., 1., 1., 0., 0., 0.,\n",
       "       1., 0., 0., 1., 0., 0., 0., 0., 0., 1., 0., 1., 1., 0., 0., 0., 0.,\n",
       "       0., 0., 1., 1., 0., 0., 0., 0., 0., 0., 0., 0., 0., 0., 0., 0., 0.,\n",
       "       1., 0., 1., 0., 1., 1., 0., 0., 0., 0., 0., 0., 0., 1., 1., 1., 0.,\n",
       "       1., 1., 1., 1., 0., 0., 0., 1., 1., 1., 0., 0., 0., 0., 1., 0., 0.,\n",
       "       0., 0., 1., 1., 0., 0., 0., 1., 0., 1., 0., 1., 0., 0., 1., 1., 0.,\n",
       "       1., 1., 0.])"
      ]
     },
     "execution_count": 89,
     "metadata": {},
     "output_type": "execute_result"
    }
   ],
   "source": [
    "# Sample prediction\n",
    "\n",
    "predictions_nb_cv"
   ]
  },
  {
   "cell_type": "code",
   "execution_count": 88,
   "id": "0ee30e4d",
   "metadata": {},
   "outputs": [
    {
     "data": {
      "text/plain": [
       "394"
      ]
     },
     "execution_count": 88,
     "metadata": {},
     "output_type": "execute_result"
    }
   ],
   "source": [
    "len(predictions_svm_cv)"
   ]
  },
  {
   "cell_type": "code",
   "execution_count": 92,
   "id": "e8ed45fb",
   "metadata": {},
   "outputs": [
    {
     "name": "stdout",
     "output_type": "stream",
     "text": [
      "[[ 89  86]\n",
      " [ 81 138]]\n",
      "0.5761421319796954\n",
      "              precision    recall  f1-score   support\n",
      "\n",
      "         0.0       0.52      0.51      0.52       175\n",
      "         1.0       0.62      0.63      0.62       219\n",
      "\n",
      "    accuracy                           0.58       394\n",
      "   macro avg       0.57      0.57      0.57       394\n",
      "weighted avg       0.57      0.58      0.58       394\n",
      "\n"
     ]
    }
   ],
   "source": [
    "# CV-RF\n",
    "matrix_rf_cv=confusion_matrix(test_df['result'],predictions_rf_cv)\n",
    "print(matrix_rf_cv)\n",
    "score_rf_cv=accuracy_score(test_df['result'],predictions_rf_cv)\n",
    "print(score_rf_cv)\n",
    "report_rf_cv=classification_report(test_df['result'],predictions_rf_cv)\n",
    "print(report_rf_cv)"
   ]
  },
  {
   "cell_type": "code",
   "execution_count": 93,
   "id": "4821a1af",
   "metadata": {},
   "outputs": [
    {
     "name": "stdout",
     "output_type": "stream",
     "text": [
      "[[109  66]\n",
      " [106 113]]\n",
      "0.5634517766497462\n",
      "              precision    recall  f1-score   support\n",
      "\n",
      "         0.0       0.51      0.62      0.56       175\n",
      "         1.0       0.63      0.52      0.57       219\n",
      "\n",
      "    accuracy                           0.56       394\n",
      "   macro avg       0.57      0.57      0.56       394\n",
      "weighted avg       0.58      0.56      0.56       394\n",
      "\n"
     ]
    }
   ],
   "source": [
    "# CV-NB\n",
    "matrix_nb_cv=confusion_matrix(test_df['result'],predictions_nb_cv)\n",
    "print(matrix_nb_cv)\n",
    "score_nb_cv=accuracy_score(test_df['result'],predictions_nb_cv)\n",
    "print(score_nb_cv)\n",
    "report_nb_cv=classification_report(test_df['result'],predictions_nb_cv)\n",
    "print(report_nb_cv)"
   ]
  },
  {
   "cell_type": "code",
   "execution_count": 94,
   "id": "5b7da1be",
   "metadata": {},
   "outputs": [
    {
     "name": "stdout",
     "output_type": "stream",
     "text": [
      "[[ 92  83]\n",
      " [ 82 137]]\n",
      "0.5812182741116751\n",
      "              precision    recall  f1-score   support\n",
      "\n",
      "         0.0       0.53      0.53      0.53       175\n",
      "         1.0       0.62      0.63      0.62       219\n",
      "\n",
      "    accuracy                           0.58       394\n",
      "   macro avg       0.58      0.58      0.58       394\n",
      "weighted avg       0.58      0.58      0.58       394\n",
      "\n"
     ]
    }
   ],
   "source": [
    "# CV-LR\n",
    "matrix_lr_cv=confusion_matrix(test_df['result'],predictions_lr_cv)\n",
    "print(matrix_lr_cv)\n",
    "score_lr_cv=accuracy_score(test_df['result'],predictions_lr_cv)\n",
    "print(score_lr_cv)\n",
    "report_lr_cv=classification_report(test_df['result'],predictions_lr_cv)\n",
    "print(report_lr_cv)"
   ]
  },
  {
   "cell_type": "code",
   "execution_count": 95,
   "id": "18a559b9",
   "metadata": {},
   "outputs": [
    {
     "name": "stdout",
     "output_type": "stream",
     "text": [
      "[[109  66]\n",
      " [125  94]]\n",
      "0.5152284263959391\n",
      "              precision    recall  f1-score   support\n",
      "\n",
      "         0.0       0.47      0.62      0.53       175\n",
      "         1.0       0.59      0.43      0.50       219\n",
      "\n",
      "    accuracy                           0.52       394\n",
      "   macro avg       0.53      0.53      0.51       394\n",
      "weighted avg       0.53      0.52      0.51       394\n",
      "\n"
     ]
    }
   ],
   "source": [
    "# CV-KNN\n",
    "matrix_knn_cv=confusion_matrix(test_df['result'],predictions_knn_cv)\n",
    "print(matrix_knn_cv)\n",
    "score_knn_cv=accuracy_score(test_df['result'],predictions_knn_cv)\n",
    "print(score_knn_cv)\n",
    "report_knn_cv=classification_report(test_df['result'],predictions_knn_cv)\n",
    "print(report_knn_cv)"
   ]
  },
  {
   "cell_type": "code",
   "execution_count": 96,
   "id": "0d589135",
   "metadata": {},
   "outputs": [
    {
     "name": "stdout",
     "output_type": "stream",
     "text": [
      "[[ 93  82]\n",
      " [ 80 139]]\n",
      "0.5888324873096447\n",
      "              precision    recall  f1-score   support\n",
      "\n",
      "         0.0       0.54      0.53      0.53       175\n",
      "         1.0       0.63      0.63      0.63       219\n",
      "\n",
      "    accuracy                           0.59       394\n",
      "   macro avg       0.58      0.58      0.58       394\n",
      "weighted avg       0.59      0.59      0.59       394\n",
      "\n"
     ]
    }
   ],
   "source": [
    "# CV-SVM\n",
    "matrix_svm_cv=confusion_matrix(test_df['result'],predictions_svm_cv)\n",
    "print(matrix_svm_cv)\n",
    "score_svm_cv=accuracy_score(test_df['result'],predictions_svm_cv)\n",
    "print(score_svm_cv)\n",
    "report_svm_cv=classification_report(test_df['result'],predictions_svm_cv)\n",
    "print(report_svm_cv)"
   ]
  }
 ],
 "metadata": {
  "kernelspec": {
   "display_name": "Python 3 (ipykernel)",
   "language": "python",
   "name": "python3"
  },
  "language_info": {
   "codemirror_mode": {
    "name": "ipython",
    "version": 3
   },
   "file_extension": ".py",
   "mimetype": "text/x-python",
   "name": "python",
   "nbconvert_exporter": "python",
   "pygments_lexer": "ipython3",
   "version": "3.11.4"
  }
 },
 "nbformat": 4,
 "nbformat_minor": 5
}
